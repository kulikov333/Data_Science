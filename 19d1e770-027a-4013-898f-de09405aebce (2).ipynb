{
 "cells": [
  {
   "cell_type": "markdown",
   "metadata": {},
   "source": [
    "<div style=\"border:solid lightseagreen 3px; padding: 20px\">\n",
    "<div>    \n",
    "<p><font color=\"black\" >\n",
    "Привет! Меня зовут Мария Четырева, и я буду делать ревью твоего проекта. Давай будем общаться на «ты». \n",
    "По ходу твоего решения я буду оставлять комментарии, обрати внимание на их цвет.</font></p>\n",
    "</div>\n",
    "\n",
    "<div class=\"alert alert-success\">\n",
    "\n",
    "<b>✔️</b> Зеленым цветом отмечены удачные и элегантные решения, на которые можно опираться в будущем.\n",
    "\n",
    "</div>\n",
    "\n",
    "<div class=\"alert alert-warning\">\n",
    "\n",
    "<b>⚠️</b> Жёлтым цветом выделено то, что в следующий раз можно сделать по-другому. Это не критичные ошибки, исправление которых остается на твое усмотрение. Однако постарайся, чтобы после твоих доработок их было не больше 3.\n",
    "\n",
    "</div>\n",
    "\n",
    "<div class=\"alert alert-danger\">\n",
    "\n",
    "<b>❌</b> Красным цветом отмечены критичные ошибки, без исправления которых проект не будет принят.\n",
    "\n",
    "</div>\n",
    "\n",
    "<p><font color=\"black\" >Давай работать над проектом в диалоге: если ты что-то меняешь в проекте по моим рекомендациям — пиши об этом. Выбери для своих комментариев какой-то заметный цвет, так мне будет легче отследить изменения, например вот так:\n",
    "\n",
    "<div class=\"alert alert-info\">\n",
    "<b>Комментарий студента:</b> Ок\n",
    "<br>\n",
    "</div>\n",
    "    \n",
    "Пожалуйста, не перемещай, не изменяй и не удаляй мои комментарии. Всё это поможет выполнить повторную проверку твоего проекта оперативнее. </font></p>\n",
    "\n",
    "</div>"
   ]
  },
  {
   "cell_type": "markdown",
   "metadata": {},
   "source": [
    "<div style=\"border:solid lightseagreen 3px; padding: 20px\">\n",
    "<div>\n",
    "<b>Общий комментарий ревьюера: </b>\n",
    "   К сожалению, пока принять работу не могу. Присутствует много критических ошибок, но я думаю они допущены из-за невнимательности)\n",
    " \n",
    "   Исправь эти замечания и присылай на повторное ревью. Удачи!  \n",
    "\n",
    "</div>\n",
    "    \n",
    " <div class=\"alert alert-danger\">\n",
    "\n",
    "<b>❌ Комментарий ревьюера v2 </b> По-прежнему есть критические ошибки. Жду твоих исправлений\n",
    "\n",
    "</div>\n",
    "    \n",
    " <div class=\"alert alert-danger\">\n",
    "\n",
    "<b>❌ Комментарий ревьюера v3 </b> К сожалению, все еще есть ошибки: с выводом отсортированного списка и функцией genre_weekday. Постаралась дать более очевидные подсказки. Жду работу на еще одно ревью, надеюсь финальное)\n",
    "\n",
    "</div>\n",
    "    \n",
    " <div class=\"alert alert-danger\">\n",
    "\n",
    "<b>❌ Комментарий ревьюера v4 </b> Все еще не исправлена ошибка в функции genre_weekday\n",
    "\n",
    "</div>\n",
    "    \n",
    "  <div class=\"alert alert-success\">\n",
    "\n",
    "<b>✔️ Комментарий ревьюера v5:</b> Отлично! Все ошибки исправлены, работу принимаю\n",
    "\n",
    "</div>"
   ]
  },
  {
   "cell_type": "markdown",
   "metadata": {
    "id": "E0vqbgi9ay0H"
   },
   "source": [
    "# Яндекс.Музыка"
   ]
  },
  {
   "cell_type": "markdown",
   "metadata": {
    "id": "VUC88oWjTJw2"
   },
   "source": [
    "Сравнение Москвы и Петербурга окружено мифами. Например:\n",
    " * Москва — мегаполис, подчинённый жёсткому ритму рабочей недели;\n",
    " * Петербург — культурная столица, со своими вкусами.\n",
    "\n",
    "На данных Яндекс.Музыки вы сравните поведение пользователей двух столиц.\n",
    "\n",
    "**Цель исследования** — проверьте три гипотезы:\n",
    "1. Активность пользователей зависит от дня недели. Причём в Москве и Петербурге это проявляется по-разному.\n",
    "2. В понедельник утром в Москве преобладают одни жанры, а в Петербурге — другие. Так же и вечером пятницы преобладают разные жанры — в зависимости от города. \n",
    "3. Москва и Петербург предпочитают разные жанры музыки. В Москве чаще слушают поп-музыку, в Петербурге — русский рэп.\n",
    "\n",
    "**Ход исследования**\n",
    "\n",
    "Данные о поведении пользователей вы получите из файла `yandex_music_project.csv`. О качестве данных ничего не известно. Поэтому перед проверкой гипотез понадобится обзор данных. \n",
    "\n",
    "Вы проверите данные на ошибки и оцените их влияние на исследование. Затем, на этапе предобработки вы поищете возможность исправить самые критичные ошибки данных.\n",
    " \n",
    "Таким образом, исследование пройдёт в три этапа:\n",
    " 1. Обзор данных.\n",
    " 2. Предобработка данных.\n",
    " 3. Проверка гипотез.\n",
    "\n"
   ]
  },
  {
   "cell_type": "markdown",
   "metadata": {
    "id": "Ml1hmfXC_Zcs"
   },
   "source": [
    "## Обзор данных\n",
    "\n",
    "Составьте первое представление о данных Яндекс.Музыки.\n",
    "\n",
    "\n"
   ]
  },
  {
   "cell_type": "markdown",
   "metadata": {
    "id": "57eAOGIz_Zcs"
   },
   "source": [
    "Основной инструмент аналитика — `pandas`. Импортируйте эту библиотеку."
   ]
  },
  {
   "cell_type": "code",
   "execution_count": 1,
   "metadata": {
    "id": "AXN7PHPN_Zcs"
   },
   "outputs": [],
   "source": [
    "import pandas as pd # импорт библиотеки pandas"
   ]
  },
  {
   "cell_type": "markdown",
   "metadata": {},
   "source": [
    "<div class=\"alert alert-success\">\n",
    "\n",
    "<b>✔️ Комментарий ревьюера:</b> Очень здорово, что ты используешь сокращение pd для Pandas, это общепринятое сокращение для этой библиотеки для удобной дальнейшей работы.\n",
    "\n",
    "</div>"
   ]
  },
  {
   "cell_type": "markdown",
   "metadata": {
    "id": "SG23P8tt_Zcs"
   },
   "source": [
    "Прочитайте файл `yandex_music_project.csv` из папки `/datasets` и сохраните его в переменной `df`:"
   ]
  },
  {
   "cell_type": "code",
   "execution_count": 2,
   "metadata": {
    "id": "fFVu7vqh_Zct"
   },
   "outputs": [],
   "source": [
    "df = pd.read_csv('/datasets/yandex_music_project.csv') # чтение файла с данными и сохранение в df"
   ]
  },
  {
   "cell_type": "markdown",
   "metadata": {
    "id": "rDoOMd3uTqnZ"
   },
   "source": [
    "Выведите на экран первые десять строк таблицы:"
   ]
  },
  {
   "cell_type": "code",
   "execution_count": 3,
   "metadata": {
    "id": "oWTVX3gW_Zct"
   },
   "outputs": [
    {
     "data": {
      "text/html": [
       "<div>\n",
       "<style scoped>\n",
       "    .dataframe tbody tr th:only-of-type {\n",
       "        vertical-align: middle;\n",
       "    }\n",
       "\n",
       "    .dataframe tbody tr th {\n",
       "        vertical-align: top;\n",
       "    }\n",
       "\n",
       "    .dataframe thead th {\n",
       "        text-align: right;\n",
       "    }\n",
       "</style>\n",
       "<table border=\"1\" class=\"dataframe\">\n",
       "  <thead>\n",
       "    <tr style=\"text-align: right;\">\n",
       "      <th></th>\n",
       "      <th>userID</th>\n",
       "      <th>Track</th>\n",
       "      <th>artist</th>\n",
       "      <th>genre</th>\n",
       "      <th>City</th>\n",
       "      <th>time</th>\n",
       "      <th>Day</th>\n",
       "    </tr>\n",
       "  </thead>\n",
       "  <tbody>\n",
       "    <tr>\n",
       "      <td>0</td>\n",
       "      <td>FFB692EC</td>\n",
       "      <td>Kamigata To Boots</td>\n",
       "      <td>The Mass Missile</td>\n",
       "      <td>rock</td>\n",
       "      <td>Saint-Petersburg</td>\n",
       "      <td>20:28:33</td>\n",
       "      <td>Wednesday</td>\n",
       "    </tr>\n",
       "    <tr>\n",
       "      <td>1</td>\n",
       "      <td>55204538</td>\n",
       "      <td>Delayed Because of Accident</td>\n",
       "      <td>Andreas Rönnberg</td>\n",
       "      <td>rock</td>\n",
       "      <td>Moscow</td>\n",
       "      <td>14:07:09</td>\n",
       "      <td>Friday</td>\n",
       "    </tr>\n",
       "    <tr>\n",
       "      <td>2</td>\n",
       "      <td>20EC38</td>\n",
       "      <td>Funiculì funiculà</td>\n",
       "      <td>Mario Lanza</td>\n",
       "      <td>pop</td>\n",
       "      <td>Saint-Petersburg</td>\n",
       "      <td>20:58:07</td>\n",
       "      <td>Wednesday</td>\n",
       "    </tr>\n",
       "    <tr>\n",
       "      <td>3</td>\n",
       "      <td>A3DD03C9</td>\n",
       "      <td>Dragons in the Sunset</td>\n",
       "      <td>Fire + Ice</td>\n",
       "      <td>folk</td>\n",
       "      <td>Saint-Petersburg</td>\n",
       "      <td>08:37:09</td>\n",
       "      <td>Monday</td>\n",
       "    </tr>\n",
       "    <tr>\n",
       "      <td>4</td>\n",
       "      <td>E2DC1FAE</td>\n",
       "      <td>Soul People</td>\n",
       "      <td>Space Echo</td>\n",
       "      <td>dance</td>\n",
       "      <td>Moscow</td>\n",
       "      <td>08:34:34</td>\n",
       "      <td>Monday</td>\n",
       "    </tr>\n",
       "    <tr>\n",
       "      <td>5</td>\n",
       "      <td>842029A1</td>\n",
       "      <td>Преданная</td>\n",
       "      <td>IMPERVTOR</td>\n",
       "      <td>rusrap</td>\n",
       "      <td>Saint-Petersburg</td>\n",
       "      <td>13:09:41</td>\n",
       "      <td>Friday</td>\n",
       "    </tr>\n",
       "    <tr>\n",
       "      <td>6</td>\n",
       "      <td>4CB90AA5</td>\n",
       "      <td>True</td>\n",
       "      <td>Roman Messer</td>\n",
       "      <td>dance</td>\n",
       "      <td>Moscow</td>\n",
       "      <td>13:00:07</td>\n",
       "      <td>Wednesday</td>\n",
       "    </tr>\n",
       "    <tr>\n",
       "      <td>7</td>\n",
       "      <td>F03E1C1F</td>\n",
       "      <td>Feeling This Way</td>\n",
       "      <td>Polina Griffith</td>\n",
       "      <td>dance</td>\n",
       "      <td>Moscow</td>\n",
       "      <td>20:47:49</td>\n",
       "      <td>Wednesday</td>\n",
       "    </tr>\n",
       "    <tr>\n",
       "      <td>8</td>\n",
       "      <td>8FA1D3BE</td>\n",
       "      <td>И вновь продолжается бой</td>\n",
       "      <td>NaN</td>\n",
       "      <td>ruspop</td>\n",
       "      <td>Moscow</td>\n",
       "      <td>09:17:40</td>\n",
       "      <td>Friday</td>\n",
       "    </tr>\n",
       "    <tr>\n",
       "      <td>9</td>\n",
       "      <td>E772D5C0</td>\n",
       "      <td>Pessimist</td>\n",
       "      <td>NaN</td>\n",
       "      <td>dance</td>\n",
       "      <td>Saint-Petersburg</td>\n",
       "      <td>21:20:49</td>\n",
       "      <td>Wednesday</td>\n",
       "    </tr>\n",
       "  </tbody>\n",
       "</table>\n",
       "</div>"
      ],
      "text/plain": [
       "     userID                        Track            artist   genre  \\\n",
       "0  FFB692EC            Kamigata To Boots  The Mass Missile    rock   \n",
       "1  55204538  Delayed Because of Accident  Andreas Rönnberg    rock   \n",
       "2    20EC38            Funiculì funiculà       Mario Lanza     pop   \n",
       "3  A3DD03C9        Dragons in the Sunset        Fire + Ice    folk   \n",
       "4  E2DC1FAE                  Soul People        Space Echo   dance   \n",
       "5  842029A1                    Преданная         IMPERVTOR  rusrap   \n",
       "6  4CB90AA5                         True      Roman Messer   dance   \n",
       "7  F03E1C1F             Feeling This Way   Polina Griffith   dance   \n",
       "8  8FA1D3BE     И вновь продолжается бой               NaN  ruspop   \n",
       "9  E772D5C0                    Pessimist               NaN   dance   \n",
       "\n",
       "             City        time        Day  \n",
       "0  Saint-Petersburg  20:28:33  Wednesday  \n",
       "1            Moscow  14:07:09     Friday  \n",
       "2  Saint-Petersburg  20:58:07  Wednesday  \n",
       "3  Saint-Petersburg  08:37:09     Monday  \n",
       "4            Moscow  08:34:34     Monday  \n",
       "5  Saint-Petersburg  13:09:41     Friday  \n",
       "6            Moscow  13:00:07  Wednesday  \n",
       "7            Moscow  20:47:49  Wednesday  \n",
       "8            Moscow  09:17:40     Friday  \n",
       "9  Saint-Petersburg  21:20:49  Wednesday  "
      ]
     },
     "execution_count": 3,
     "metadata": {},
     "output_type": "execute_result"
    }
   ],
   "source": [
    "df.head(10) # получение первых 10 строк таблицы df"
   ]
  },
  {
   "cell_type": "markdown",
   "metadata": {
    "id": "EO73Kwic_Zct"
   },
   "source": [
    "Одной командой получить общую информацию о таблице:"
   ]
  },
  {
   "cell_type": "code",
   "execution_count": 4,
   "metadata": {
    "id": "DSf2kIb-_Zct"
   },
   "outputs": [
    {
     "name": "stdout",
     "output_type": "stream",
     "text": [
      "<class 'pandas.core.frame.DataFrame'>\n",
      "RangeIndex: 65079 entries, 0 to 65078\n",
      "Data columns (total 7 columns):\n",
      "  userID    65079 non-null object\n",
      "Track       63848 non-null object\n",
      "artist      57876 non-null object\n",
      "genre       63881 non-null object\n",
      "  City      65079 non-null object\n",
      "time        65079 non-null object\n",
      "Day         65079 non-null object\n",
      "dtypes: object(7)\n",
      "memory usage: 3.5+ MB\n"
     ]
    }
   ],
   "source": [
    "df.info() # получение общей информации о данных в таблице df"
   ]
  },
  {
   "cell_type": "markdown",
   "metadata": {},
   "source": [
    "<div class=\"alert alert-success\">\n",
    "\n",
    "<b>✔️ Комментарий ревьюера:</b> Отличный выбор метода! info() предоставляет много полезной информации о датафрейме\n",
    "\n",
    "</div>"
   ]
  },
  {
   "cell_type": "markdown",
   "metadata": {
    "id": "TaQ2Iwbr_Zct"
   },
   "source": [
    "Итак, в таблице семь столбцов. Тип данных во всех столбцах — `object`.\n",
    "\n",
    "Согласно документации к данным:\n",
    " `userID` — идентификатор пользователя;\n",
    " `Track` — название трека;  \n",
    " `artist` — имя исполнителя;\n",
    " `genre` — название жанра;\n",
    " `City` — город пользователя;\n",
    " `time` — время начала прослушивания;\n",
    " `Day` — день недели.\n",
    "\n",
    "В названиях колонок видны три нарушения стиля:\n",
    "1. Строчные буквы сочетаются с прописными.\n",
    "2. Встречаются пробелы.\n",
    "3. Найдите ещё одну проблему в названии колонок и опишите её в этом пункте.\n",
    "\n",
    "Количество значений в столбцах различается. Значит, в данных есть пропущенные значения.\n",
    "\n",
    "✔Ответный комментарий: некоторые название должны содержать \"змеиный регистр\"\n"
   ]
  },
  {
   "cell_type": "markdown",
   "metadata": {},
   "source": [
    "<div class=\"alert alert-danger\">\n",
    "\n",
    "<b>❌ Комментарий ревьюера </b> Обрати внимание, что третье нарушение стиля ты должен обнаружить и вписать сам\n",
    "\n",
    "</div>"
   ]
  },
  {
   "cell_type": "markdown",
   "metadata": {},
   "source": [
    "<div class=\"alert alert-success\">\n",
    "\n",
    "<b>✔️ Комментарий ревьюера v2:</b> Да, все так\n",
    "\n",
    "</div>"
   ]
  },
  {
   "cell_type": "markdown",
   "metadata": {
    "id": "MCB6-dXG_Zct"
   },
   "source": [
    "**Выводы**\n",
    "\n",
    "В каждой строке таблицы — данные о прослушанном треке. Часть колонок описывает саму композицию: название, исполнителя и жанр. Остальные данные рассказывают о пользователе: из какого он города, когда он слушал музыку. \n",
    "\n",
    "Предварительно можно утверждать, что, данных достаточно для проверки гипотез. Но встречаются пропуски в данных, а в названиях колонок — расхождения с хорошим стилем.\n",
    "\n",
    "Чтобы двигаться дальше, нужно устранить проблемы в данных."
   ]
  },
  {
   "cell_type": "markdown",
   "metadata": {
    "id": "SjYF6Ub9_Zct"
   },
   "source": [
    "## Предобработка данных\n",
    "Исправьте стиль в заголовках столбцов, исключите пропуски. Затем проверьте данные на дубликаты."
   ]
  },
  {
   "cell_type": "markdown",
   "metadata": {
    "id": "dIaKXr29_Zct"
   },
   "source": [
    "### Стиль заголовков\n",
    "Выведите на экран названия столбцов:"
   ]
  },
  {
   "cell_type": "code",
   "execution_count": 5,
   "metadata": {
    "id": "oKOTdF_Q_Zct"
   },
   "outputs": [
    {
     "data": {
      "text/plain": [
       "Index(['  userID', 'Track', 'artist', 'genre', '  City  ', 'time', 'Day'], dtype='object')"
      ]
     },
     "execution_count": 5,
     "metadata": {},
     "output_type": "execute_result"
    }
   ],
   "source": [
    "df.columns # перечень названий столбцов таблицы df"
   ]
  },
  {
   "cell_type": "markdown",
   "metadata": {
    "id": "zj5534cv_Zct"
   },
   "source": [
    "Приведите названия в соответствие с хорошим стилем:\n",
    "* несколько слов в названии запишите в «змеином_регистре»,\n",
    "* все символы сделайте строчными,\n",
    "* устраните пробелы.\n",
    "\n",
    "Для этого переименуйте колонки так:\n",
    "* `'  userID'` → `'user_id'`;\n",
    "* `'Track'` → `'track'`;\n",
    "* `'  City  '` → `'city'`;\n",
    "* `'Day'` → `'day'`."
   ]
  },
  {
   "cell_type": "code",
   "execution_count": 6,
   "metadata": {
    "id": "ISlFqs5y_Zct"
   },
   "outputs": [],
   "source": [
    "# переименование столбцов\n",
    "cols = ['user_id', 'track', 'artist', 'genre', 'city', 'time', 'day']\n",
    "df.set_axis(cols, axis='columns', inplace=True)"
   ]
  },
  {
   "cell_type": "markdown",
   "metadata": {},
   "source": [
    "<div class=\"alert alert-warning\">\n",
    "<b>⚠️ Комментарий ревьюера:</b> А еще можно было использовать метод rename. Он позволяет переименовывать только указанные столбцы  </div>"
   ]
  },
  {
   "cell_type": "markdown",
   "metadata": {
    "id": "1dqbh00J_Zct"
   },
   "source": [
    "Проверьте результат. Для этого ещё раз выведите на экран названия столбцов:"
   ]
  },
  {
   "cell_type": "code",
   "execution_count": 7,
   "metadata": {
    "id": "d4NOAmTW_Zct"
   },
   "outputs": [
    {
     "data": {
      "text/plain": [
       "Index(['user_id', 'track', 'artist', 'genre', 'city', 'time', 'day'], dtype='object')"
      ]
     },
     "execution_count": 7,
     "metadata": {},
     "output_type": "execute_result"
    }
   ],
   "source": [
    "df.columns # проверка результатов - перечень названий столбцов"
   ]
  },
  {
   "cell_type": "markdown",
   "metadata": {},
   "source": [
    "<div class=\"alert alert-success\">\n",
    "\n",
    "<b>✔️ Комментарий ревьюера:</b> Вот теперь с названиями столбцов все в порядке!\n",
    "\n",
    "</div>"
   ]
  },
  {
   "cell_type": "markdown",
   "metadata": {
    "id": "5ISfbcfY_Zct"
   },
   "source": [
    "### Пропуски значений\n",
    "Сначала посчитайте, сколько в таблице пропущенных значений. Для этого достаточно двух методов `pandas`:"
   ]
  },
  {
   "cell_type": "code",
   "execution_count": 8,
   "metadata": {
    "id": "RskX29qr_Zct"
   },
   "outputs": [
    {
     "data": {
      "text/plain": [
       "user_id       0\n",
       "track      1231\n",
       "artist     7203\n",
       "genre      1198\n",
       "city          0\n",
       "time          0\n",
       "day           0\n",
       "dtype: int64"
      ]
     },
     "execution_count": 8,
     "metadata": {},
     "output_type": "execute_result"
    }
   ],
   "source": [
    "df.isnull().sum() # подсчёт пропусков"
   ]
  },
  {
   "cell_type": "markdown",
   "metadata": {},
   "source": [
    "<div class=\"alert alert-warning\">\n",
    "<b>⚠️ Комментарий ревьюера:</b> Ты использовал метод isnull() для определения пропущенных значений, но для этого предпочтительнее использовать метод isna().  </div>"
   ]
  },
  {
   "cell_type": "markdown",
   "metadata": {
    "id": "qubhgnlO_Zct"
   },
   "source": [
    "Не все пропущенные значения влияют на исследование. Так в `track` и `artist` пропуски не важны для вашей работы. Достаточно заменить их явными обозначениями.\n",
    "\n",
    "Но пропуски в `genre` могут помешать сравнению музыкальных вкусов в Москве и Санкт-Петербурге. На практике было бы правильно установить причину пропусков и восстановить данные. Такой возможности нет в учебном проекте. Придётся:\n",
    "* заполнить и эти пропуски явными обозначениями,\n",
    "* оценить, насколько они повредят расчётам. "
   ]
  },
  {
   "cell_type": "markdown",
   "metadata": {
    "id": "fSv2laPA_Zct"
   },
   "source": [
    "Замените пропущенные значения в столбцах `track`, `artist` и `genre` на строку `'unknown'`. Для этого создайте список `columns_to_replace`, переберите его элементы циклом `for` и для каждого столбца выполните замену пропущенных значений:"
   ]
  },
  {
   "cell_type": "code",
   "execution_count": 9,
   "metadata": {
    "id": "KplB5qWs_Zct",
    "scrolled": true
   },
   "outputs": [
    {
     "data": {
      "text/html": [
       "<div>\n",
       "<style scoped>\n",
       "    .dataframe tbody tr th:only-of-type {\n",
       "        vertical-align: middle;\n",
       "    }\n",
       "\n",
       "    .dataframe tbody tr th {\n",
       "        vertical-align: top;\n",
       "    }\n",
       "\n",
       "    .dataframe thead th {\n",
       "        text-align: right;\n",
       "    }\n",
       "</style>\n",
       "<table border=\"1\" class=\"dataframe\">\n",
       "  <thead>\n",
       "    <tr style=\"text-align: right;\">\n",
       "      <th></th>\n",
       "      <th>user_id</th>\n",
       "      <th>track</th>\n",
       "      <th>artist</th>\n",
       "      <th>genre</th>\n",
       "      <th>city</th>\n",
       "      <th>time</th>\n",
       "      <th>day</th>\n",
       "    </tr>\n",
       "  </thead>\n",
       "  <tbody>\n",
       "    <tr>\n",
       "      <td>0</td>\n",
       "      <td>FFB692EC</td>\n",
       "      <td>Kamigata To Boots</td>\n",
       "      <td>The Mass Missile</td>\n",
       "      <td>rock</td>\n",
       "      <td>Saint-Petersburg</td>\n",
       "      <td>20:28:33</td>\n",
       "      <td>Wednesday</td>\n",
       "    </tr>\n",
       "    <tr>\n",
       "      <td>1</td>\n",
       "      <td>55204538</td>\n",
       "      <td>Delayed Because of Accident</td>\n",
       "      <td>Andreas Rönnberg</td>\n",
       "      <td>rock</td>\n",
       "      <td>Moscow</td>\n",
       "      <td>14:07:09</td>\n",
       "      <td>Friday</td>\n",
       "    </tr>\n",
       "    <tr>\n",
       "      <td>2</td>\n",
       "      <td>20EC38</td>\n",
       "      <td>Funiculì funiculà</td>\n",
       "      <td>Mario Lanza</td>\n",
       "      <td>pop</td>\n",
       "      <td>Saint-Petersburg</td>\n",
       "      <td>20:58:07</td>\n",
       "      <td>Wednesday</td>\n",
       "    </tr>\n",
       "    <tr>\n",
       "      <td>3</td>\n",
       "      <td>A3DD03C9</td>\n",
       "      <td>Dragons in the Sunset</td>\n",
       "      <td>Fire + Ice</td>\n",
       "      <td>folk</td>\n",
       "      <td>Saint-Petersburg</td>\n",
       "      <td>08:37:09</td>\n",
       "      <td>Monday</td>\n",
       "    </tr>\n",
       "    <tr>\n",
       "      <td>4</td>\n",
       "      <td>E2DC1FAE</td>\n",
       "      <td>Soul People</td>\n",
       "      <td>Space Echo</td>\n",
       "      <td>dance</td>\n",
       "      <td>Moscow</td>\n",
       "      <td>08:34:34</td>\n",
       "      <td>Monday</td>\n",
       "    </tr>\n",
       "    <tr>\n",
       "      <td>...</td>\n",
       "      <td>...</td>\n",
       "      <td>...</td>\n",
       "      <td>...</td>\n",
       "      <td>...</td>\n",
       "      <td>...</td>\n",
       "      <td>...</td>\n",
       "      <td>...</td>\n",
       "    </tr>\n",
       "    <tr>\n",
       "      <td>65074</td>\n",
       "      <td>729CBB09</td>\n",
       "      <td>My Name</td>\n",
       "      <td>McLean</td>\n",
       "      <td>rnb</td>\n",
       "      <td>Moscow</td>\n",
       "      <td>13:32:28</td>\n",
       "      <td>Wednesday</td>\n",
       "    </tr>\n",
       "    <tr>\n",
       "      <td>65075</td>\n",
       "      <td>D08D4A55</td>\n",
       "      <td>Maybe One Day (feat. Black Spade)</td>\n",
       "      <td>Blu &amp; Exile</td>\n",
       "      <td>hip</td>\n",
       "      <td>Saint-Petersburg</td>\n",
       "      <td>10:00:00</td>\n",
       "      <td>Monday</td>\n",
       "    </tr>\n",
       "    <tr>\n",
       "      <td>65076</td>\n",
       "      <td>C5E3A0D5</td>\n",
       "      <td>Jalopiina</td>\n",
       "      <td>unknown</td>\n",
       "      <td>industrial</td>\n",
       "      <td>Moscow</td>\n",
       "      <td>20:09:26</td>\n",
       "      <td>Friday</td>\n",
       "    </tr>\n",
       "    <tr>\n",
       "      <td>65077</td>\n",
       "      <td>321D0506</td>\n",
       "      <td>Freight Train</td>\n",
       "      <td>Chas McDevitt</td>\n",
       "      <td>rock</td>\n",
       "      <td>Moscow</td>\n",
       "      <td>21:43:59</td>\n",
       "      <td>Friday</td>\n",
       "    </tr>\n",
       "    <tr>\n",
       "      <td>65078</td>\n",
       "      <td>3A64EF84</td>\n",
       "      <td>Tell Me Sweet Little Lies</td>\n",
       "      <td>Monica Lopez</td>\n",
       "      <td>country</td>\n",
       "      <td>Moscow</td>\n",
       "      <td>21:59:46</td>\n",
       "      <td>Friday</td>\n",
       "    </tr>\n",
       "  </tbody>\n",
       "</table>\n",
       "<p>65079 rows × 7 columns</p>\n",
       "</div>"
      ],
      "text/plain": [
       "        user_id                              track            artist  \\\n",
       "0      FFB692EC                  Kamigata To Boots  The Mass Missile   \n",
       "1      55204538        Delayed Because of Accident  Andreas Rönnberg   \n",
       "2        20EC38                  Funiculì funiculà       Mario Lanza   \n",
       "3      A3DD03C9              Dragons in the Sunset        Fire + Ice   \n",
       "4      E2DC1FAE                        Soul People        Space Echo   \n",
       "...         ...                                ...               ...   \n",
       "65074  729CBB09                            My Name            McLean   \n",
       "65075  D08D4A55  Maybe One Day (feat. Black Spade)       Blu & Exile   \n",
       "65076  C5E3A0D5                          Jalopiina           unknown   \n",
       "65077  321D0506                      Freight Train     Chas McDevitt   \n",
       "65078  3A64EF84          Tell Me Sweet Little Lies      Monica Lopez   \n",
       "\n",
       "            genre              city      time        day  \n",
       "0            rock  Saint-Petersburg  20:28:33  Wednesday  \n",
       "1            rock            Moscow  14:07:09     Friday  \n",
       "2             pop  Saint-Petersburg  20:58:07  Wednesday  \n",
       "3            folk  Saint-Petersburg  08:37:09     Monday  \n",
       "4           dance            Moscow  08:34:34     Monday  \n",
       "...           ...               ...       ...        ...  \n",
       "65074         rnb            Moscow  13:32:28  Wednesday  \n",
       "65075         hip  Saint-Petersburg  10:00:00     Monday  \n",
       "65076  industrial            Moscow  20:09:26     Friday  \n",
       "65077        rock            Moscow  21:43:59     Friday  \n",
       "65078     country            Moscow  21:59:46     Friday  \n",
       "\n",
       "[65079 rows x 7 columns]"
      ]
     },
     "metadata": {},
     "output_type": "display_data"
    }
   ],
   "source": [
    "# перебор названий столбцов в цикле и замена пропущенных значений на 'unknown'\n",
    "columns_to_replace = ['track','artist','genre']\n",
    "for cols in columns_to_replace:\n",
    "    df[cols]=df[cols].fillna('unknown')\n",
    "    #V2 Удалено: display(df)\n",
    "    \n",
    "display(df) #Исправлено"
   ]
  },
  {
   "cell_type": "markdown",
   "metadata": {},
   "source": [
    "<div class=\"alert alert-danger\">\n",
    "\n",
    "<b>❌ Комментарий ревьюера </b> Ты вызываешь функцию вывода на экран в теле цикла. Как результат, датафрейм выводится на экран 3 раза. А если бы мы вызывали цикл 1000 раз? О ужас!"
   ]
  },
  {
   "cell_type": "markdown",
   "metadata": {},
   "source": [
    "<div class=\"alert alert-danger\">\n",
    "\n",
    "<b>❌ Комментарий ревьюера v2 </b> И тем не менее, в цикле она все еще присутствует. Давай уберем"
   ]
  },
  {
   "cell_type": "markdown",
   "metadata": {},
   "source": [
    "<div class=\"alert alert-success\">\n",
    "\n",
    "<b>✔️ Комментарий ревьюера v3:</b> 👍\n",
    "\n",
    "</div>"
   ]
  },
  {
   "cell_type": "markdown",
   "metadata": {
    "id": "Ilsm-MZo_Zct"
   },
   "source": [
    "Убедитесь, что в таблице не осталось пропусков. Для этого ещё раз посчитайте пропущенные значения."
   ]
  },
  {
   "cell_type": "code",
   "execution_count": 10,
   "metadata": {
    "id": "Tq4nYRX4_Zct"
   },
   "outputs": [
    {
     "data": {
      "text/plain": [
       "user_id    0\n",
       "track      0\n",
       "artist     0\n",
       "genre      0\n",
       "city       0\n",
       "time       0\n",
       "day        0\n",
       "dtype: int64"
      ]
     },
     "execution_count": 10,
     "metadata": {},
     "output_type": "execute_result"
    }
   ],
   "source": [
    "# подсчёт пропусков\n",
    "df.isnull().sum()"
   ]
  },
  {
   "cell_type": "markdown",
   "metadata": {
    "id": "BWKRtBJ3_Zct"
   },
   "source": [
    "### Дубликаты\n",
    "Посчитайте явные дубликаты в таблице одной командой:"
   ]
  },
  {
   "cell_type": "code",
   "execution_count": 11,
   "metadata": {
    "id": "36eES_S0_Zct"
   },
   "outputs": [
    {
     "data": {
      "text/plain": [
       "3826"
      ]
     },
     "execution_count": 11,
     "metadata": {},
     "output_type": "execute_result"
    }
   ],
   "source": [
    "# подсчёт явных дубликатов\n",
    "df.duplicated().sum()"
   ]
  },
  {
   "cell_type": "markdown",
   "metadata": {},
   "source": [
    "<div class=\"alert alert-success\">\n",
    "<b>✔️ Комментарий ревьюера:</b> В дальнейшем советую подписывать выводимые результаты. Это позволит быстрее разобраться в выводимых данных и не запутаться. В этом помогут f-строки. Примеры использования можешь посмотреть тут: \n",
    "    \n",
    "   https://shultais.education/blog/python-f-strings\n",
    " </div>"
   ]
  },
  {
   "cell_type": "markdown",
   "metadata": {
    "id": "Ot25h6XR_Zct"
   },
   "source": [
    "Вызовите специальный метод `pandas`, чтобы удалить явные дубликаты:"
   ]
  },
  {
   "cell_type": "code",
   "execution_count": 12,
   "metadata": {
    "id": "exFHq6tt_Zct"
   },
   "outputs": [],
   "source": [
    "# удаление явных дубликатов (с удалением старых индексов и формированием новых)\n",
    "df = df.drop_duplicates().reset_index(drop=True)"
   ]
  },
  {
   "cell_type": "markdown",
   "metadata": {
    "id": "Im2YwBEG_Zct"
   },
   "source": [
    "Ещё раз посчитайте явные дубликаты в таблице — убедитесь, что полностью от них избавились:"
   ]
  },
  {
   "cell_type": "code",
   "execution_count": 13,
   "metadata": {
    "id": "-8PuNWQ0_Zct"
   },
   "outputs": [
    {
     "data": {
      "text/plain": [
       "0"
      ]
     },
     "execution_count": 13,
     "metadata": {},
     "output_type": "execute_result"
    }
   ],
   "source": [
    "# проверка на отсутствие дубликатов\n",
    "df.duplicated().sum()"
   ]
  },
  {
   "cell_type": "markdown",
   "metadata": {},
   "source": [
    "<div class=\"alert alert-success\">\n",
    "<b>✔️ Комментарий ревьюера:</b> Отлично, избавились от дубликатов\n",
    "</div>"
   ]
  },
  {
   "cell_type": "markdown",
   "metadata": {
    "id": "QlFBsxAr_Zct"
   },
   "source": [
    "Теперь избавьтесь от неявных дубликатов в колонке `genre`. Например, название одного и того же жанра может быть записано немного по-разному. Такие ошибки тоже повлияют на результат исследования."
   ]
  },
  {
   "cell_type": "markdown",
   "metadata": {
    "id": "eSjWwsOh_Zct"
   },
   "source": [
    "Выведите на экран список уникальных названий жанров, отсортированный в алфавитном порядке. Для этого:\n",
    "* извлеките нужный столбец датафрейма, \n",
    "* примените к нему метод сортировки,\n",
    "* для отсортированного столбца вызовите метод, который вернёт уникальные значения из столбца."
   ]
  },
  {
   "cell_type": "code",
   "execution_count": 14,
   "metadata": {
    "id": "JIUcqzZN_Zct"
   },
   "outputs": [
    {
     "data": {
      "text/plain": [
       "array(['acid', 'acoustic', 'action', 'adult', 'africa', 'afrikaans',\n",
       "       'alternative', 'alternativepunk', 'ambient', 'americana',\n",
       "       'animated', 'anime', 'arabesk', 'arabic', 'arena',\n",
       "       'argentinetango', 'art', 'audiobook', 'author', 'avantgarde',\n",
       "       'axé', 'baile', 'balkan', 'beats', 'bigroom', 'black', 'bluegrass',\n",
       "       'blues', 'bollywood', 'bossa', 'brazilian', 'breakbeat', 'breaks',\n",
       "       'broadway', 'cantautori', 'cantopop', 'canzone', 'caribbean',\n",
       "       'caucasian', 'celtic', 'chamber', 'chanson', 'children', 'chill',\n",
       "       'chinese', 'choral', 'christian', 'christmas', 'classical',\n",
       "       'classicmetal', 'club', 'colombian', 'comedy', 'conjazz',\n",
       "       'contemporary', 'country', 'cuban', 'dance', 'dancehall',\n",
       "       'dancepop', 'dark', 'death', 'deep', 'deutschrock', 'deutschspr',\n",
       "       'dirty', 'disco', 'dnb', 'documentary', 'downbeat', 'downtempo',\n",
       "       'drum', 'dub', 'dubstep', 'eastern', 'easy', 'electronic',\n",
       "       'electropop', 'emo', 'entehno', 'epicmetal', 'estrada', 'ethnic',\n",
       "       'eurofolk', 'european', 'experimental', 'extrememetal', 'fado',\n",
       "       'fairytail', 'film', 'fitness', 'flamenco', 'folk', 'folklore',\n",
       "       'folkmetal', 'folkrock', 'folktronica', 'forró', 'frankreich',\n",
       "       'französisch', 'french', 'funk', 'future', 'gangsta', 'garage',\n",
       "       'german', 'ghazal', 'gitarre', 'glitch', 'gospel', 'gothic',\n",
       "       'grime', 'grunge', 'gypsy', 'handsup', \"hard'n'heavy\", 'hardcore',\n",
       "       'hardstyle', 'hardtechno', 'hip', 'hip-hop', 'hiphop',\n",
       "       'historisch', 'holiday', 'hop', 'horror', 'house', 'hymn', 'idm',\n",
       "       'independent', 'indian', 'indie', 'indipop', 'industrial',\n",
       "       'inspirational', 'instrumental', 'international', 'irish', 'jam',\n",
       "       'japanese', 'jazz', 'jewish', 'jpop', 'jungle', 'k-pop',\n",
       "       'karadeniz', 'karaoke', 'kayokyoku', 'korean', 'laiko', 'latin',\n",
       "       'latino', 'leftfield', 'local', 'lounge', 'loungeelectronic',\n",
       "       'lovers', 'malaysian', 'mandopop', 'marschmusik', 'meditative',\n",
       "       'mediterranean', 'melodic', 'metal', 'metalcore', 'mexican',\n",
       "       'middle', 'minimal', 'miscellaneous', 'modern', 'mood', 'mpb',\n",
       "       'muslim', 'native', 'neoklassik', 'neue', 'new', 'newage',\n",
       "       'newwave', 'nu', 'nujazz', 'numetal', 'oceania', 'old', 'opera',\n",
       "       'orchestral', 'other', 'piano', 'podcasts', 'pop', 'popdance',\n",
       "       'popelectronic', 'popeurodance', 'poprussian', 'post',\n",
       "       'posthardcore', 'postrock', 'power', 'progmetal', 'progressive',\n",
       "       'psychedelic', 'punjabi', 'punk', 'quebecois', 'ragga', 'ram',\n",
       "       'rancheras', 'rap', 'rave', 'reggae', 'reggaeton', 'regional',\n",
       "       'relax', 'religious', 'retro', 'rhythm', 'rnb', 'rnr', 'rock',\n",
       "       'rockabilly', 'rockalternative', 'rockindie', 'rockother',\n",
       "       'romance', 'roots', 'ruspop', 'rusrap', 'rusrock', 'russian',\n",
       "       'salsa', 'samba', 'scenic', 'schlager', 'self', 'sertanejo',\n",
       "       'shanson', 'shoegazing', 'showtunes', 'singer', 'ska', 'skarock',\n",
       "       'slow', 'smooth', 'soft', 'soul', 'soulful', 'sound', 'soundtrack',\n",
       "       'southern', 'specialty', 'speech', 'spiritual', 'sport',\n",
       "       'stonerrock', 'surf', 'swing', 'synthpop', 'synthrock',\n",
       "       'sängerportrait', 'tango', 'tanzorchester', 'taraftar', 'tatar',\n",
       "       'tech', 'techno', 'teen', 'thrash', 'top', 'traditional',\n",
       "       'tradjazz', 'trance', 'tribal', 'trip', 'triphop', 'tropical',\n",
       "       'türk', 'türkçe', 'ukrrock', 'unknown', 'urban', 'uzbek',\n",
       "       'variété', 'vi', 'videogame', 'vocal', 'western', 'world',\n",
       "       'worldbeat', 'ïîï', 'электроника'], dtype=object)"
      ]
     },
     "metadata": {},
     "output_type": "display_data"
    }
   ],
   "source": [
    "# Просмотр уникальных названий жанров\n",
    "dfar = df.loc[:,'genre']\n",
    "dfar = dfar.sort_values()\n",
    "dfar = dfar.unique()\n",
    "display(dfar)\n",
    "\n",
    "# Здесь поочередно выполняем пункты прописанные в задании\n",
    "#V2 Исправлено одной строкой:\n",
    "# df=df[:,genre].sort_values().unique()\n",
    "# display(df)"
   ]
  },
  {
   "cell_type": "markdown",
   "metadata": {},
   "source": [
    "<div class=\"alert alert-danger\">\n",
    "\n",
    "<b>❌ Комментарий ревьюера </b> Можно сделать это одной строкой и без заведения промежуточных переменных. А чтобы выбрать определенный столбец, можно не использовать loc, а просто обратиться к нему в квадратных скобках\n",
    "\n",
    "</div>"
   ]
  },
  {
   "cell_type": "markdown",
   "metadata": {},
   "source": [
    "<div class=\"alert alert-danger\">\n",
    "\n",
    "<b>❌ Комментарий ревьюера v2 </b> Пункты поочередные, но преполагается, что ты вызываешь методы, реализующие каждый пункт, друг за другом"
   ]
  },
  {
   "cell_type": "markdown",
   "metadata": {},
   "source": [
    "<div class=\"alert alert-success\">\n",
    "\n",
    "<b>✔️ Комментарий ревьюера v3:</b> 👍\n",
    "\n",
    "</div>"
   ]
  },
  {
   "cell_type": "markdown",
   "metadata": {
    "id": "qej-Qmuo_Zct"
   },
   "source": [
    "Просмотрите список и найдите неявные дубликаты названия `hiphop`. Это могут быть названия с ошибками или альтернативные названия того же жанра.\n",
    "\n",
    "Вы увидите следующие неявные дубликаты:\n",
    "* *hip*,\n",
    "* *hop*,\n",
    "* *hip-hop*.\n",
    "\n",
    "Чтобы очистить от них таблицу, напишите функцию `replace_wrong_genres()` с двумя параметрами: \n",
    "* `wrong_genres` — список дубликатов,\n",
    "* `correct_genre` — строка с правильным значением.\n",
    "\n",
    "Функция должна исправить колонку `genre` в таблице `df`: заменить каждое значение из списка `wrong_genres` на значение из `correct_genre`."
   ]
  },
  {
   "cell_type": "code",
   "execution_count": 15,
   "metadata": {
    "id": "ErNDkmns_Zct"
   },
   "outputs": [],
   "source": [
    "# Функция для замены неявных дубликатов\n",
    "def replace_wrong_genres(df,wrong_genres,correct_genre):\n",
    "    \n",
    "    # Удалено: display(df)\n",
    "    \n",
    "    for wrong_genre in wrong_genres:\n",
    "        df['genre']= df['genre'].replace(wrong_genre,correct_genre)\n",
    "    return df"
   ]
  },
  {
   "cell_type": "markdown",
   "metadata": {},
   "source": [
    "<div class=\"alert alert-danger\">\n",
    "\n",
    "<b>❌ Комментарий ревьюера </b> Похожая ошибка с вызовом display(). Функции вывода также не рекомендуется использовать и внутри функций, так как функция создана чтобы вызываться не один раз. Тогда, как и в случае с телом цикла, мы будем получать множественный вывод и засорим окно вывода.\n",
    "\n",
    "</div>"
   ]
  },
  {
   "cell_type": "markdown",
   "metadata": {},
   "source": [
    "<div class=\"alert alert-success\">\n",
    "\n",
    "<b>✔️ Комментарий ревьюера v2:</b> 👍\n",
    "\n",
    "</div>"
   ]
  },
  {
   "cell_type": "markdown",
   "metadata": {
    "id": "aDoBJxbA_Zct"
   },
   "source": [
    "Вызовите `replace_wrong_genres()` и передайте ей такие аргументы, чтобы она устранила неявные дубликаты: вместо `hip`, `hop` и `hip-hop` в таблице должно быть значение `hiphop`:"
   ]
  },
  {
   "cell_type": "code",
   "execution_count": 16,
   "metadata": {
    "id": "YN5i2hpmSo09"
   },
   "outputs": [
    {
     "data": {
      "text/html": [
       "<div>\n",
       "<style scoped>\n",
       "    .dataframe tbody tr th:only-of-type {\n",
       "        vertical-align: middle;\n",
       "    }\n",
       "\n",
       "    .dataframe tbody tr th {\n",
       "        vertical-align: top;\n",
       "    }\n",
       "\n",
       "    .dataframe thead th {\n",
       "        text-align: right;\n",
       "    }\n",
       "</style>\n",
       "<table border=\"1\" class=\"dataframe\">\n",
       "  <thead>\n",
       "    <tr style=\"text-align: right;\">\n",
       "      <th></th>\n",
       "      <th>user_id</th>\n",
       "      <th>track</th>\n",
       "      <th>artist</th>\n",
       "      <th>genre</th>\n",
       "      <th>city</th>\n",
       "      <th>time</th>\n",
       "      <th>day</th>\n",
       "    </tr>\n",
       "  </thead>\n",
       "  <tbody>\n",
       "    <tr>\n",
       "      <td>0</td>\n",
       "      <td>FFB692EC</td>\n",
       "      <td>Kamigata To Boots</td>\n",
       "      <td>The Mass Missile</td>\n",
       "      <td>rock</td>\n",
       "      <td>Saint-Petersburg</td>\n",
       "      <td>20:28:33</td>\n",
       "      <td>Wednesday</td>\n",
       "    </tr>\n",
       "    <tr>\n",
       "      <td>1</td>\n",
       "      <td>55204538</td>\n",
       "      <td>Delayed Because of Accident</td>\n",
       "      <td>Andreas Rönnberg</td>\n",
       "      <td>rock</td>\n",
       "      <td>Moscow</td>\n",
       "      <td>14:07:09</td>\n",
       "      <td>Friday</td>\n",
       "    </tr>\n",
       "    <tr>\n",
       "      <td>2</td>\n",
       "      <td>20EC38</td>\n",
       "      <td>Funiculì funiculà</td>\n",
       "      <td>Mario Lanza</td>\n",
       "      <td>pop</td>\n",
       "      <td>Saint-Petersburg</td>\n",
       "      <td>20:58:07</td>\n",
       "      <td>Wednesday</td>\n",
       "    </tr>\n",
       "    <tr>\n",
       "      <td>3</td>\n",
       "      <td>A3DD03C9</td>\n",
       "      <td>Dragons in the Sunset</td>\n",
       "      <td>Fire + Ice</td>\n",
       "      <td>folk</td>\n",
       "      <td>Saint-Petersburg</td>\n",
       "      <td>08:37:09</td>\n",
       "      <td>Monday</td>\n",
       "    </tr>\n",
       "    <tr>\n",
       "      <td>4</td>\n",
       "      <td>E2DC1FAE</td>\n",
       "      <td>Soul People</td>\n",
       "      <td>Space Echo</td>\n",
       "      <td>dance</td>\n",
       "      <td>Moscow</td>\n",
       "      <td>08:34:34</td>\n",
       "      <td>Monday</td>\n",
       "    </tr>\n",
       "    <tr>\n",
       "      <td>...</td>\n",
       "      <td>...</td>\n",
       "      <td>...</td>\n",
       "      <td>...</td>\n",
       "      <td>...</td>\n",
       "      <td>...</td>\n",
       "      <td>...</td>\n",
       "      <td>...</td>\n",
       "    </tr>\n",
       "    <tr>\n",
       "      <td>61248</td>\n",
       "      <td>729CBB09</td>\n",
       "      <td>My Name</td>\n",
       "      <td>McLean</td>\n",
       "      <td>rnb</td>\n",
       "      <td>Moscow</td>\n",
       "      <td>13:32:28</td>\n",
       "      <td>Wednesday</td>\n",
       "    </tr>\n",
       "    <tr>\n",
       "      <td>61249</td>\n",
       "      <td>D08D4A55</td>\n",
       "      <td>Maybe One Day (feat. Black Spade)</td>\n",
       "      <td>Blu &amp; Exile</td>\n",
       "      <td>hiphop</td>\n",
       "      <td>Saint-Petersburg</td>\n",
       "      <td>10:00:00</td>\n",
       "      <td>Monday</td>\n",
       "    </tr>\n",
       "    <tr>\n",
       "      <td>61250</td>\n",
       "      <td>C5E3A0D5</td>\n",
       "      <td>Jalopiina</td>\n",
       "      <td>unknown</td>\n",
       "      <td>industrial</td>\n",
       "      <td>Moscow</td>\n",
       "      <td>20:09:26</td>\n",
       "      <td>Friday</td>\n",
       "    </tr>\n",
       "    <tr>\n",
       "      <td>61251</td>\n",
       "      <td>321D0506</td>\n",
       "      <td>Freight Train</td>\n",
       "      <td>Chas McDevitt</td>\n",
       "      <td>rock</td>\n",
       "      <td>Moscow</td>\n",
       "      <td>21:43:59</td>\n",
       "      <td>Friday</td>\n",
       "    </tr>\n",
       "    <tr>\n",
       "      <td>61252</td>\n",
       "      <td>3A64EF84</td>\n",
       "      <td>Tell Me Sweet Little Lies</td>\n",
       "      <td>Monica Lopez</td>\n",
       "      <td>country</td>\n",
       "      <td>Moscow</td>\n",
       "      <td>21:59:46</td>\n",
       "      <td>Friday</td>\n",
       "    </tr>\n",
       "  </tbody>\n",
       "</table>\n",
       "<p>61253 rows × 7 columns</p>\n",
       "</div>"
      ],
      "text/plain": [
       "        user_id                              track            artist  \\\n",
       "0      FFB692EC                  Kamigata To Boots  The Mass Missile   \n",
       "1      55204538        Delayed Because of Accident  Andreas Rönnberg   \n",
       "2        20EC38                  Funiculì funiculà       Mario Lanza   \n",
       "3      A3DD03C9              Dragons in the Sunset        Fire + Ice   \n",
       "4      E2DC1FAE                        Soul People        Space Echo   \n",
       "...         ...                                ...               ...   \n",
       "61248  729CBB09                            My Name            McLean   \n",
       "61249  D08D4A55  Maybe One Day (feat. Black Spade)       Blu & Exile   \n",
       "61250  C5E3A0D5                          Jalopiina           unknown   \n",
       "61251  321D0506                      Freight Train     Chas McDevitt   \n",
       "61252  3A64EF84          Tell Me Sweet Little Lies      Monica Lopez   \n",
       "\n",
       "            genre              city      time        day  \n",
       "0            rock  Saint-Petersburg  20:28:33  Wednesday  \n",
       "1            rock            Moscow  14:07:09     Friday  \n",
       "2             pop  Saint-Petersburg  20:58:07  Wednesday  \n",
       "3            folk  Saint-Petersburg  08:37:09     Monday  \n",
       "4           dance            Moscow  08:34:34     Monday  \n",
       "...           ...               ...       ...        ...  \n",
       "61248         rnb            Moscow  13:32:28  Wednesday  \n",
       "61249      hiphop  Saint-Petersburg  10:00:00     Monday  \n",
       "61250  industrial            Moscow  20:09:26     Friday  \n",
       "61251        rock            Moscow  21:43:59     Friday  \n",
       "61252     country            Moscow  21:59:46     Friday  \n",
       "\n",
       "[61253 rows x 7 columns]"
      ]
     },
     "metadata": {},
     "output_type": "display_data"
    }
   ],
   "source": [
    "# Устранение неявных дубликатов\n",
    "duplicates = ['hip','hop','hip-hop']\n",
    "name = 'hiphop'\n",
    " # Удалено: print(df)\n",
    "df=replace_wrong_genres(df,duplicates,name)\n",
    "display(df)\n"
   ]
  },
  {
   "cell_type": "markdown",
   "metadata": {},
   "source": [
    "<div class=\"alert alert-danger\">\n",
    "\n",
    "<b>❌ Комментарий ревьюера </b> Для вывода датафреймов используется функция display(). Если мы  используем print(), то теряем табличный вид\n",
    "\n",
    "</div>"
   ]
  },
  {
   "cell_type": "markdown",
   "metadata": {},
   "source": [
    "<div class=\"alert alert-success\">\n",
    "\n",
    "<b>✔️ Комментарий ревьюера v2:</b> 👍\n",
    "\n",
    "</div>"
   ]
  },
  {
   "cell_type": "markdown",
   "metadata": {
    "id": "zQKF16_RG15m"
   },
   "source": [
    "Проверьте, что заменили неправильные названия:\n",
    "\n",
    "*   hip\n",
    "*   hop\n",
    "*   hip-hop\n",
    "\n",
    "Выведите отсортированный список уникальных значений столбца `genre`:"
   ]
  },
  {
   "cell_type": "code",
   "execution_count": 17,
   "metadata": {
    "id": "wvixALnFG15m"
   },
   "outputs": [
    {
     "data": {
      "text/plain": [
       "0"
      ]
     },
     "execution_count": 17,
     "metadata": {},
     "output_type": "execute_result"
    }
   ],
   "source": [
    "# Проверка на неявные дубликаты\n",
    "df.duplicated().sum()\n",
    "# Исправлено: df['genre']=df.duplicated().sum()\n",
    "#V2 Добавлен вывод: display(df)\n",
    "#V3 Исправлено:df['genre'].sort_values().unique()\n",
    "#Спасибо за терпение)"
   ]
  },
  {
   "cell_type": "markdown",
   "metadata": {},
   "source": [
    "<div class=\"alert alert-danger\">\n",
    "\n",
    "<b>❌ Комментарий ревьюера </b> Так мы неявные дубликаты не обнаружим. Нужно вывести отсортированный список уникальных значений столбца genre\n",
    "\n",
    "</div>"
   ]
  },
  {
   "cell_type": "markdown",
   "metadata": {},
   "source": [
    "<div class=\"alert alert-danger\">\n",
    "\n",
    "<b>❌ Комментарий ревьюера v2 </b> Требуется вывести отсортированный список уникальных жанров. Точно так же, как мы делали перед началом наших преобразований хип-хопа\n",
    "\n",
    "</div>"
   ]
  },
  {
   "cell_type": "markdown",
   "metadata": {},
   "source": [
    "<div class=\"alert alert-danger\">\n",
    "\n",
    "<b>❌ Комментарий ревьюера v3 </b> Отсортированный список уникальных жанров выводится так: df['genre'].sort_values().unique() \n",
    "    Ты же уже делал выше, нужно просто повторить\n",
    "\n",
    "</div>"
   ]
  },
  {
   "cell_type": "markdown",
   "metadata": {},
   "source": [
    "<div class=\"alert alert-success\">\n",
    "\n",
    "<b>✔️ Комментарий ревьюера v4:</b>  На будущее — критические ошибки исправляй не в комментариях, а кодом. Лучше закомментируй свое старое решение, а новое нужно выполнить. Также перед отправкой всегда запускай проект (Kernel → Restart&Run All)\n",
    "\n",
    "</div>"
   ]
  },
  {
   "cell_type": "markdown",
   "metadata": {
    "id": "jz6a9-7HQUDd"
   },
   "source": [
    "**Выводы**\n",
    "\n",
    "Предобработка обнаружила три проблемы в данных:\n",
    "\n",
    "- нарушения в стиле заголовков,\n",
    "- пропущенные значения,\n",
    "- дубликаты — явные и неявные.\n",
    "\n",
    "Вы исправили заголовки, чтобы упростить работу с таблицей. Без дубликатов исследование станет более точным.\n",
    "\n",
    "Пропущенные значения вы заменили на `'unknown'`. Ещё предстоит увидеть, не повредят ли исследованию пропуски в колонке `genre`.\n",
    "\n",
    "Теперь можно перейти к проверке гипотез. "
   ]
  },
  {
   "cell_type": "markdown",
   "metadata": {
    "id": "WttZHXH0SqKk"
   },
   "source": [
    "## Проверка гипотез"
   ]
  },
  {
   "cell_type": "markdown",
   "metadata": {
    "id": "Im936VVi_Zcu"
   },
   "source": [
    "### Сравнение поведения пользователей двух столиц"
   ]
  },
  {
   "cell_type": "markdown",
   "metadata": {
    "id": "nwt_MuaL_Zcu"
   },
   "source": [
    "Первая гипотеза утверждает, что пользователи по-разному слушают музыку в Москве и Санкт-Петербурге. Проверьте это предположение по данным о трёх днях недели — понедельнике, среде и пятнице. Для этого:\n",
    "\n",
    "* Разделите пользователей Москвы и Санкт-Петербурга\n",
    "* Сравните, сколько треков послушала каждая группа пользователей в понедельник, среду и пятницу.\n"
   ]
  },
  {
   "cell_type": "markdown",
   "metadata": {
    "id": "8Dw_YMmT_Zcu"
   },
   "source": [
    "Для тренировки сначала выполните каждый из расчётов по отдельности. \n",
    "\n",
    "Оцените активность пользователей в каждом городе. Сгруппируйте данные по городу и посчитайте прослушивания в каждой группе.\n",
    "\n"
   ]
  },
  {
   "cell_type": "code",
   "execution_count": 18,
   "metadata": {
    "id": "0_Qs96oh_Zcu"
   },
   "outputs": [
    {
     "data": {
      "text/plain": [
       "city\n",
       "Moscow              42741\n",
       "Saint-Petersburg    18512\n",
       "Name: genre, dtype: int64"
      ]
     },
     "execution_count": 18,
     "metadata": {},
     "output_type": "execute_result"
    }
   ],
   "source": [
    "# Подсчёт прослушиваний в каждом городе\n",
    "df.groupby('city')['genre'].count()"
   ]
  },
  {
   "cell_type": "markdown",
   "metadata": {},
   "source": [
    "<div class=\"alert alert-success\">\n",
    "<b>✔️ Комментарий ревьюера:</b> Группировка выполнена верно </div>"
   ]
  },
  {
   "cell_type": "markdown",
   "metadata": {
    "id": "dzli3w8o_Zcu"
   },
   "source": [
    "В Москве прослушиваний больше, чем в Петербурге. Из этого не следует, что московские пользователи чаще слушают музыку. Просто самих пользователей в Москве больше.\n",
    "\n",
    "Теперь сгруппируйте данные по дню недели и подсчитайте прослушивания в понедельник, среду и пятницу. Учтите, что в данных есть информация только о прослушиваниях только за эти дни.\n"
   ]
  },
  {
   "cell_type": "code",
   "execution_count": 19,
   "metadata": {
    "id": "uZMKjiJz_Zcu"
   },
   "outputs": [
    {
     "data": {
      "text/plain": [
       "day\n",
       "Friday       21840\n",
       "Monday       21354\n",
       "Wednesday    18059\n",
       "Name: genre, dtype: int64"
      ]
     },
     "execution_count": 19,
     "metadata": {},
     "output_type": "execute_result"
    }
   ],
   "source": [
    "# Подсчёт прослушиваний в каждый из трёх дней\n",
    "df.groupby('day')['genre'].count()"
   ]
  },
  {
   "cell_type": "markdown",
   "metadata": {
    "id": "cC2tNrlL_Zcu"
   },
   "source": [
    "В среднем пользователи из двух городов менее активны по средам. Но картина может измениться, если рассмотреть каждый город в отдельности."
   ]
  },
  {
   "cell_type": "markdown",
   "metadata": {
    "id": "POzs8bGa_Zcu"
   },
   "source": [
    "Вы видели, как работает группировка по городу и по дням недели. Теперь напишите функцию, которая объединит два эти расчёта.\n",
    "\n",
    "Создайте функцию `number_tracks()`, которая посчитает прослушивания для заданного дня и города. Ей понадобятся два параметра:\n",
    "* день недели,\n",
    "* название города.\n",
    "\n",
    "В функции сохраните в переменную строки исходной таблицы, у которых значение:\n",
    "  * в колонке `day` равно параметру `day`,\n",
    "  * в колонке `city` равно параметру `city`.\n",
    "\n",
    "Для этого примените последовательную фильтрацию с логической индексацией.\n",
    "\n",
    "Затем посчитайте значения в столбце `user_id` получившейся таблицы. Результат сохраните в новую переменную. Верните эту переменную из функции."
   ]
  },
  {
   "cell_type": "code",
   "execution_count": 20,
   "metadata": {
    "id": "Nz3GdQB1_Zcu"
   },
   "outputs": [],
   "source": [
    "# <создание функции number_tracks()>\n",
    "# Объявляется функция с двумя параметрами: day, city.\n",
    "# В переменной track_list сохраняются те строки таблицы df, для которых \n",
    "# значение в столбце 'day' равно параметру day и одновременно значение\n",
    "# в столбце 'city' равно параметру city (используйте последовательную фильтрацию\n",
    "# с помощью логической индексации).\n",
    "# В переменной track_list_count сохраняется число значений столбца 'user_id',\n",
    "# рассчитанное методом count() для таблицы track_list.\n",
    "# Функция возвращает число - значение track_list_count.\n",
    "\n",
    "# Функция для подсчёта прослушиваний для конкретного города и дня.\n",
    "# С помощью последовательной фильтрации с логической индексацией она \n",
    "# сначала получит из исходной таблицы строки с нужным днём,\n",
    "# затем из результата отфильтрует строки с нужным городом,\n",
    "# методом count() посчитает количество значений в колонке user_id. \n",
    "# Это количество функция вернёт в качестве результата\n",
    "def number_tracks(day, city):\n",
    "    track_list = df[(df['day'] == day) & (df['city'] == city)]\n",
    "  \n",
    "    track_list_count = track_list['genre'].count()\n",
    "   \n",
    "    return track_list_count"
   ]
  },
  {
   "cell_type": "markdown",
   "metadata": {},
   "source": [
    "<div class=\"alert alert-success\">\n",
    "<b>✔️ Комментарий ревьюера:</b> Круто, что ты используешь логические операции для фильтрации строк датафрейма! О более продвинутых методах фильтрации мы расскажем подробнее в следующих курсах. </div>"
   ]
  },
  {
   "cell_type": "markdown",
   "metadata": {
    "id": "ytf7xFrFJQ2r"
   },
   "source": [
    "Вызовите `number_tracks()` шесть раз, меняя значение параметров — так, чтобы получить данные для каждого города в каждый из трёх дней."
   ]
  },
  {
   "cell_type": "code",
   "execution_count": 21,
   "metadata": {
    "id": "rJcRATNQ_Zcu"
   },
   "outputs": [
    {
     "data": {
      "text/plain": [
       "15740"
      ]
     },
     "execution_count": 21,
     "metadata": {},
     "output_type": "execute_result"
    }
   ],
   "source": [
    "# количество прослушиваний в Москве по понедельникам\n",
    "number_tracks(\"Monday\",\"Moscow\") "
   ]
  },
  {
   "cell_type": "code",
   "execution_count": 22,
   "metadata": {
    "id": "hq_ncZ5T_Zcu"
   },
   "outputs": [
    {
     "data": {
      "text/plain": [
       "5614"
      ]
     },
     "execution_count": 22,
     "metadata": {},
     "output_type": "execute_result"
    }
   ],
   "source": [
    "# количество прослушиваний в Санкт-Петербурге по понедельникам\n",
    "number_tracks('Monday', 'Saint-Petersburg')"
   ]
  },
  {
   "cell_type": "code",
   "execution_count": 23,
   "metadata": {
    "id": "_NTy2VPU_Zcu"
   },
   "outputs": [
    {
     "data": {
      "text/plain": [
       "11056"
      ]
     },
     "execution_count": 23,
     "metadata": {},
     "output_type": "execute_result"
    }
   ],
   "source": [
    "# количество прослушиваний в Москве по средам\n",
    "number_tracks('Wednesday', 'Moscow')"
   ]
  },
  {
   "cell_type": "code",
   "execution_count": 24,
   "metadata": {
    "id": "j2y3TAwo_Zcu"
   },
   "outputs": [
    {
     "data": {
      "text/plain": [
       "7003"
      ]
     },
     "execution_count": 24,
     "metadata": {},
     "output_type": "execute_result"
    }
   ],
   "source": [
    "# количество прослушиваний в Санкт-Петербурге по средам\n",
    "number_tracks('Wednesday', 'Saint-Petersburg')"
   ]
  },
  {
   "cell_type": "code",
   "execution_count": 25,
   "metadata": {
    "id": "vYDw5u_K_Zcu"
   },
   "outputs": [
    {
     "data": {
      "text/plain": [
       "15945"
      ]
     },
     "execution_count": 25,
     "metadata": {},
     "output_type": "execute_result"
    }
   ],
   "source": [
    "# количество прослушиваний в Москве по пятницам\n",
    "number_tracks('Friday', 'Moscow')"
   ]
  },
  {
   "cell_type": "code",
   "execution_count": 26,
   "metadata": {
    "id": "8_yzFtW3_Zcu"
   },
   "outputs": [
    {
     "data": {
      "text/plain": [
       "5895"
      ]
     },
     "execution_count": 26,
     "metadata": {},
     "output_type": "execute_result"
    }
   ],
   "source": [
    "# количество прослушиваний в Санкт-Петербурге по пятницам\n",
    "number_tracks('Friday', 'Saint-Petersburg')"
   ]
  },
  {
   "cell_type": "markdown",
   "metadata": {
    "id": "7QXffbO-_Zcu"
   },
   "source": [
    "Создайте c помощью конструктора `pd.DataFrame` таблицу, где\n",
    "* названия колонок — `['city', 'monday', 'wednesday', 'friday']`;\n",
    "* данные — результаты, которые вы получили с помощью `number_tracks`."
   ]
  },
  {
   "cell_type": "code",
   "execution_count": 27,
   "metadata": {
    "id": "APAcLpOr_Zcu"
   },
   "outputs": [
    {
     "data": {
      "text/html": [
       "<div>\n",
       "<style scoped>\n",
       "    .dataframe tbody tr th:only-of-type {\n",
       "        vertical-align: middle;\n",
       "    }\n",
       "\n",
       "    .dataframe tbody tr th {\n",
       "        vertical-align: top;\n",
       "    }\n",
       "\n",
       "    .dataframe thead th {\n",
       "        text-align: right;\n",
       "    }\n",
       "</style>\n",
       "<table border=\"1\" class=\"dataframe\">\n",
       "  <thead>\n",
       "    <tr style=\"text-align: right;\">\n",
       "      <th></th>\n",
       "      <th>city</th>\n",
       "      <th>monday</th>\n",
       "      <th>wednesday</th>\n",
       "      <th>friday</th>\n",
       "    </tr>\n",
       "  </thead>\n",
       "  <tbody>\n",
       "    <tr>\n",
       "      <td>0</td>\n",
       "      <td>Moscow</td>\n",
       "      <td>15740</td>\n",
       "      <td>11056</td>\n",
       "      <td>15945</td>\n",
       "    </tr>\n",
       "    <tr>\n",
       "      <td>1</td>\n",
       "      <td>Saint-Petersburg</td>\n",
       "      <td>5614</td>\n",
       "      <td>7003</td>\n",
       "      <td>5895</td>\n",
       "    </tr>\n",
       "  </tbody>\n",
       "</table>\n",
       "</div>"
      ],
      "text/plain": [
       "               city  monday  wednesday  friday\n",
       "0            Moscow   15740      11056   15945\n",
       "1  Saint-Petersburg    5614       7003    5895"
      ]
     },
     "execution_count": 27,
     "metadata": {},
     "output_type": "execute_result"
    }
   ],
   "source": [
    "# Таблица с результатами\n",
    "data = [['Moscow', 15740, 11056, 15945],\n",
    "       ['Saint-Petersburg', 5614, 7003, 5895]]\n",
    "\n",
    "columns = ['city','monday','wednesday','friday']\n",
    "\n",
    "table = pd.DataFrame(data = data, columns = columns)\n",
    "\n",
    "table\n",
    "\n",
    "# Внесены корректировки в части значений\n",
    "#V2 Внесены корректировки в первое значение"
   ]
  },
  {
   "cell_type": "markdown",
   "metadata": {},
   "source": [
    "<div class=\"alert alert-danger\">\n",
    "\n",
    "<b>❌ Комментарий ревьюера </b> Таблица заполнена неверными значениями\n",
    "</div>"
   ]
  },
  {
   "cell_type": "markdown",
   "metadata": {},
   "source": [
    "<div class=\"alert alert-danger\">\n",
    "\n",
    "<b>❌ Комментарий ревьюера v2</b> Все еще есть ошибки, перепроверь повнимательнее\n",
    "\n",
    "</div>"
   ]
  },
  {
   "cell_type": "markdown",
   "metadata": {},
   "source": [
    "<div class=\"alert alert-success\">\n",
    "\n",
    "<b>✔️ Комментарий ревьюера v3:</b> 👍\n",
    "\n",
    "</div>"
   ]
  },
  {
   "cell_type": "markdown",
   "metadata": {
    "id": "-EgPIHYu_Zcu"
   },
   "source": [
    "**Выводы**\n",
    "\n",
    "Данные показывают разницу поведения пользователей:\n",
    "\n",
    "- В Москве пик прослушиваний приходится на понедельник и пятницу, а в среду заметен спад.\n",
    "- В Петербурге, наоборот, больше слушают музыку по средам. Активность в понедельник и пятницу здесь почти в равной мере уступает среде.\n",
    "\n",
    "Значит, данные говорят в пользу первой гипотезы."
   ]
  },
  {
   "cell_type": "markdown",
   "metadata": {
    "id": "atZAxtq4_Zcu"
   },
   "source": [
    "### Музыка в начале и в конце недели"
   ]
  },
  {
   "cell_type": "markdown",
   "metadata": {
    "id": "eXrQqXFH_Zcu"
   },
   "source": [
    "Согласно второй гипотезе, утром в понедельник в Москве преобладают одни жанры, а в Петербурге — другие. Так же и вечером пятницы преобладают разные жанры — в зависимости от города."
   ]
  },
  {
   "cell_type": "markdown",
   "metadata": {
    "id": "S8UcW6Hw_Zcu"
   },
   "source": [
    "Сохраните таблицы с данными в две переменные:\n",
    "* по Москве — в `moscow_general`;\n",
    "* по Санкт-Петербургу — в `spb_general`."
   ]
  },
  {
   "cell_type": "code",
   "execution_count": 28,
   "metadata": {
    "id": "qeaFfM_P_Zcu"
   },
   "outputs": [],
   "source": [
    "# получение таблицы moscow_general из тех строк таблицы df, \n",
    "# для которых значение в столбце 'city' равно 'Moscow'\n",
    "moscow_general = df[df['city'] == 'Moscow']"
   ]
  },
  {
   "cell_type": "code",
   "execution_count": 29,
   "metadata": {
    "id": "ORaVRKto_Zcu"
   },
   "outputs": [],
   "source": [
    "# получение таблицы spb_general из тех строк таблицы df,\n",
    "# для которых значение в столбце 'city' равно 'Saint-Petersburg'\n",
    "spb_general = df[df['city'] == 'Saint-Petersburg']"
   ]
  },
  {
   "cell_type": "markdown",
   "metadata": {},
   "source": [
    "<div class=\"alert alert-success\">\n",
    "\n",
    "<b>✔️ Комментарий ревьюера:</b> Фильтрация — очень полезный инструмент. Теперь мы умеем извлекать нужные части данных, это здорово\n",
    "\n",
    "</div>"
   ]
  },
  {
   "cell_type": "markdown",
   "metadata": {
    "id": "MEJV-CX2_Zcu"
   },
   "source": [
    "Создайте функцию `genre_weekday()` с четырьмя параметрами:\n",
    "* таблица (датафрейм) с данными,\n",
    "* день недели,\n",
    "* начальная временная метка в формате 'hh:mm', \n",
    "* последняя временная метка в формате 'hh:mm'.\n",
    "\n",
    "Функция должна вернуть информацию о топ-10 жанров тех треков, которые прослушивали в указанный день, в промежутке между двумя отметками времени."
   ]
  },
  {
   "cell_type": "code",
   "execution_count": 30,
   "metadata": {
    "id": "laJT9BYl_Zcu"
   },
   "outputs": [],
   "source": [
    "# Объявление функции genre_weekday() с параметрами table, day, time1, time2,\n",
    "# которая возвращает информацию о самых популярных жанрах в указанный день в\n",
    "# заданное время:\n",
    "# 1) в переменную genre_df сохраняются те строки переданного датафрейма table, для\n",
    "#    которых одновременно:\n",
    "#    - значение в столбце day равно значению аргумента day\n",
    "#    - значение в столбце time больше значения аргумента time1\n",
    "#    - значение в столбце time меньше значения аргумента time2\n",
    "#    Используйте последовательную фильтрацию с помощью логической индексации.\n",
    "# 2) сгруппировать датафрейм genre_df по столбцу genre, взять один из его\n",
    "#    столбцов и посчитать методом count() количество записей для каждого из\n",
    "#    присутствующих жанров, получившийся Series записать в переменную\n",
    "#    genre_df_count\n",
    "# 3) отсортировать genre_df_count по убыванию встречаемости и сохранить\n",
    "#    в переменную genre_df_sorted\n",
    "# 4) вернуть Series из 10 первых значений genre_df_sorted, это будут топ-10\n",
    "#    популярных жанров (в указанный день, в заданное время)\n",
    "def genre_weekday(table,day,time1,time2):\n",
    "    genre_df = table[(table['day'] == day) & (table['time'] > time1) & (table['time'] < time2)]\n",
    "    genre_df_count = genre_df.groupby('genre')['genre'].count()\n",
    "    genre_df_sorted = genre_df_count.sort_values(ascending = False).head(10)\n",
    "    return genre_df_sorted\n",
    "\n",
    "# Исправлено: return genre_df_sorted.head(10)\n",
    "#V2 Добавлено: table\n",
    "#V3 Исправлено: genre_df = table[(table['day'] == day) & (table['time'] > time1) & (table['time'] < time2)]\n",
    "# Спасибо за терпение)\n",
    "# V4 Судя по комментарию ревьюера добавил исправления непосредственно в код. Запустил через Kernel все работает."
   ]
  },
  {
   "cell_type": "markdown",
   "metadata": {},
   "source": [
    "<div class=\"alert alert-danger\">\n",
    "\n",
    "<b>❌ Комментарий ревьюера </b> Функция работает некорректно, так как выбирает топ-10 из всего датафрейма df. Ты можешь заметить это и ниже по одинаковому результату топа для разных городов\n",
    "</div>"
   ]
  },
  {
   "cell_type": "markdown",
   "metadata": {},
   "source": [
    "<div class=\"alert alert-danger\">\n",
    "\n",
    "<b>❌ Комментарий ревьюера v2 </b> Подсказка: ты передаешь функции датафрейм table. Но внутри функции ни разу его не используешь\n",
    "\n",
    "</div>"
   ]
  },
  {
   "cell_type": "markdown",
   "metadata": {},
   "source": [
    "<div class=\"alert alert-danger\">\n",
    "\n",
    "<b>❌ Комментарий ревьюера v3 </b> А как же остальные исправления? \n",
    " \n",
    " genre_df = table[(table['day'] == day) & (<font size=3 color=red>df</font>['time'] > time1) & (<font size=3 color=red>df</font>['time'] < time2)]\n",
    "\n",
    "</div>"
   ]
  },
  {
   "cell_type": "markdown",
   "metadata": {},
   "source": [
    "<div class=\"alert alert-danger\">\n",
    "\n",
    "<b>❌ Комментарий ревьюера v4 </b> По-прежнему нет исправления\n",
    "\n",
    "</div>"
   ]
  },
  {
   "cell_type": "markdown",
   "metadata": {},
   "source": [
    "<div class=\"alert alert-success\">\n",
    "\n",
    "<b>✔️ Комментарий ревьюера v5:</b> Теперь правильно) И результаты ниже скорректированы\n",
    "\n",
    "</div>"
   ]
  },
  {
   "cell_type": "markdown",
   "metadata": {
    "id": "la2s2_PF_Zcu"
   },
   "source": [
    "Cравните результаты функции `genre_weekday()` для Москвы и Санкт-Петербурга в понедельник утром (с 7:00 до 11:00) и в пятницу вечером (с 17:00 до 23:00):"
   ]
  },
  {
   "cell_type": "code",
   "execution_count": 31,
   "metadata": {
    "id": "yz7itPUQ_Zcu"
   },
   "outputs": [
    {
     "data": {
      "text/plain": [
       "genre\n",
       "pop            781\n",
       "dance          549\n",
       "electronic     480\n",
       "rock           474\n",
       "hiphop         286\n",
       "ruspop         186\n",
       "world          181\n",
       "rusrap         175\n",
       "alternative    164\n",
       "unknown        161\n",
       "Name: genre, dtype: int64"
      ]
     },
     "execution_count": 31,
     "metadata": {},
     "output_type": "execute_result"
    }
   ],
   "source": [
    "# вызов функции для утра понедельника в Москве (вместо df — таблица moscow_general)\n",
    "# объекты, хранящие время, являются строками и сравниваются как строки\n",
    "# пример вызова: genre_weekday(moscow_general, 'Monday', '07:00', '11:00')\n",
    "genre_weekday(moscow_general, 'Monday', '07:00', '11:00')"
   ]
  },
  {
   "cell_type": "code",
   "execution_count": 32,
   "metadata": {
    "id": "kwUcHPdy_Zcu"
   },
   "outputs": [
    {
     "data": {
      "text/plain": [
       "genre\n",
       "pop            218\n",
       "dance          182\n",
       "rock           162\n",
       "electronic     147\n",
       "hiphop          80\n",
       "ruspop          64\n",
       "alternative     58\n",
       "rusrap          55\n",
       "jazz            44\n",
       "classical       40\n",
       "Name: genre, dtype: int64"
      ]
     },
     "execution_count": 32,
     "metadata": {},
     "output_type": "execute_result"
    }
   ],
   "source": [
    "# вызов функции для утра понедельника в Петербурге (вместо df — таблица spb_general)\n",
    "genre_weekday(spb_general, 'Monday','07:00', '11:00')"
   ]
  },
  {
   "cell_type": "code",
   "execution_count": 33,
   "metadata": {
    "id": "EzXVRE1o_Zcu"
   },
   "outputs": [
    {
     "data": {
      "text/plain": [
       "genre\n",
       "pop            713\n",
       "rock           517\n",
       "dance          495\n",
       "electronic     482\n",
       "hiphop         273\n",
       "world          208\n",
       "ruspop         170\n",
       "alternative    163\n",
       "classical      163\n",
       "rusrap         142\n",
       "Name: genre, dtype: int64"
      ]
     },
     "execution_count": 33,
     "metadata": {},
     "output_type": "execute_result"
    }
   ],
   "source": [
    "# вызов функции для вечера пятницы в Москве\n",
    "genre_weekday(moscow_general, 'Friday','17:00', '24:00')"
   ]
  },
  {
   "cell_type": "code",
   "execution_count": 34,
   "metadata": {
    "id": "JZaEKu5v_Zcu"
   },
   "outputs": [
    {
     "data": {
      "text/plain": [
       "genre\n",
       "pop            256\n",
       "rock           216\n",
       "electronic     216\n",
       "dance          210\n",
       "hiphop          97\n",
       "alternative     63\n",
       "jazz            61\n",
       "classical       60\n",
       "rusrap          59\n",
       "world           54\n",
       "Name: genre, dtype: int64"
      ]
     },
     "execution_count": 34,
     "metadata": {},
     "output_type": "execute_result"
    }
   ],
   "source": [
    "# вызов функции для вечера пятницы в Петербурге\n",
    "genre_weekday(spb_general, 'Friday','17:00', '24:00')"
   ]
  },
  {
   "cell_type": "markdown",
   "metadata": {
    "id": "wrCe4MNX_Zcu"
   },
   "source": [
    "**Выводы**\n",
    "\n",
    "Если сравнить топ-10 жанров в понедельник утром, можно сделать такие выводы:\n",
    "\n",
    "1. В Москве и Петербурге слушают похожую музыку. Единственное отличие — в московский рейтинг вошёл жанр “world”, а в петербургский — джаз и классика.\n",
    "\n",
    "2. В Москве пропущенных значений оказалось так много, что значение `'unknown'` заняло десятое место среди самых популярных жанров. Значит, пропущенные значения занимают существенную долю в данных и угрожают достоверности исследования.\n",
    "\n",
    "Вечер пятницы не меняет эту картину. Некоторые жанры поднимаются немного выше, другие спускаются, но в целом топ-10 остаётся тем же самым.\n",
    "\n",
    "Таким образом, вторая гипотеза подтвердилась лишь частично:\n",
    "* Пользователи слушают похожую музыку в начале недели и в конце.\n",
    "* Разница между Москвой и Петербургом не слишком выражена. В Москве чаще слушают русскую популярную музыку, в Петербурге — джаз.\n",
    "\n",
    "Однако пропуски в данных ставят под сомнение этот результат. В Москве их так много, что рейтинг топ-10 мог бы выглядеть иначе, если бы не утерянные  данные о жанрах."
   ]
  },
  {
   "cell_type": "markdown",
   "metadata": {
    "id": "JolODAqr_Zcu"
   },
   "source": [
    "### Жанровые предпочтения в Москве и Петербурге\n",
    "\n",
    "Гипотеза: Петербург — столица рэпа, музыку этого жанра там слушают чаще, чем в Москве.  А Москва — город контрастов, в котором, тем не менее, преобладает поп-музыка."
   ]
  },
  {
   "cell_type": "markdown",
   "metadata": {
    "id": "DlegSvaT_Zcu"
   },
   "source": [
    "Сгруппируйте таблицу `moscow_general` по жанру и посчитайте прослушивания треков каждого жанра методом `count()`. Затем отсортируйте результат в порядке убывания и сохраните его в таблице `moscow_genres`."
   ]
  },
  {
   "cell_type": "code",
   "execution_count": 35,
   "metadata": {
    "id": "r19lIPke_Zcu"
   },
   "outputs": [],
   "source": [
    "# одной строкой: группировка таблицы moscow_general по столбцу 'genre', \n",
    "# подсчёт числа значений 'genre' в этой группировке методом count(), \n",
    "# сортировка получившегося Series в порядке убывания и сохранение в moscow_genres\n",
    "moscow_genres = moscow_general.groupby('genre')['genre'].count().sort_values(ascending = False)"
   ]
  },
  {
   "cell_type": "markdown",
   "metadata": {},
   "source": [
    "<div class=\"alert alert-success\">\n",
    "<b>✔️ Комментарий ревьюера:</b> Да, методы удобно вызывать «цепочкой», это позволит не заводить промежуточных переменных  </div>"
   ]
  },
  {
   "cell_type": "markdown",
   "metadata": {
    "id": "6kMuomxTiIr8"
   },
   "source": [
    "Выведите на экран первые десять строк `moscow_genres`:"
   ]
  },
  {
   "cell_type": "code",
   "execution_count": 36,
   "metadata": {
    "id": "WhCSooF8_Zcv"
   },
   "outputs": [
    {
     "data": {
      "text/plain": [
       "genre\n",
       "pop            5892\n",
       "dance          4435\n",
       "rock           3965\n",
       "electronic     3786\n",
       "hiphop         2096\n",
       "classical      1616\n",
       "world          1432\n",
       "alternative    1379\n",
       "ruspop         1372\n",
       "rusrap         1161\n",
       "Name: genre, dtype: int64"
      ]
     },
     "execution_count": 36,
     "metadata": {},
     "output_type": "execute_result"
    }
   ],
   "source": [
    "# просмотр первых 10 строк moscow_genres\n",
    "moscow_genres.head(10)"
   ]
  },
  {
   "cell_type": "markdown",
   "metadata": {
    "id": "cnPG2vnN_Zcv"
   },
   "source": [
    "Теперь повторите то же и для Петербурга.\n",
    "\n",
    "Сгруппируйте таблицу `spb_general` по жанру. Посчитайте прослушивания треков каждого жанра. Результат отсортируйте в порядке убывания и сохраните в таблице `spb_genres`:\n"
   ]
  },
  {
   "cell_type": "code",
   "execution_count": 37,
   "metadata": {
    "id": "gluLIpE7_Zcv"
   },
   "outputs": [],
   "source": [
    "# одной строкой: группировка таблицы spb_general по столбцу 'genre', \n",
    "# подсчёт числа значений 'genre' в этой группировке методом count(), \n",
    "# сортировка получившегося Series в порядке убывания и сохранение в spb_genres\n",
    "spb_genres = spb_general.groupby('genre')['genre'].count().sort_values(ascending = False)"
   ]
  },
  {
   "cell_type": "markdown",
   "metadata": {
    "id": "5Doha_ODgyQ8"
   },
   "source": [
    "Выведите на экран первые десять строк `spb_genres`:"
   ]
  },
  {
   "cell_type": "code",
   "execution_count": 38,
   "metadata": {
    "id": "uaGJHjVU_Zcv"
   },
   "outputs": [
    {
     "data": {
      "text/plain": [
       "genre\n",
       "pop            2431\n",
       "dance          1932\n",
       "rock           1879\n",
       "electronic     1736\n",
       "hiphop          960\n",
       "alternative     649\n",
       "classical       646\n",
       "rusrap          564\n",
       "ruspop          538\n",
       "world           515\n",
       "Name: genre, dtype: int64"
      ]
     },
     "execution_count": 38,
     "metadata": {},
     "output_type": "execute_result"
    }
   ],
   "source": [
    "# просмотр первых 10 строк spb_genres\n",
    "spb_genres.head(10)"
   ]
  },
  {
   "cell_type": "markdown",
   "metadata": {
    "id": "RY51YJYu_Zcv"
   },
   "source": [
    "**Выводы**"
   ]
  },
  {
   "cell_type": "markdown",
   "metadata": {
    "id": "nVhnJEm__Zcv"
   },
   "source": [
    "Гипотеза частично подтвердилась:\n",
    "* Поп-музыка — самый популярный жанр в Москве, как и предполагала гипотеза. Более того, в топ-10 жанров встречается близкий жанр — русская популярная музыка.\n",
    "* Вопреки ожиданиям, рэп одинаково популярен в Москве и Петербурге. \n"
   ]
  },
  {
   "cell_type": "markdown",
   "metadata": {},
   "source": [
    "<div class=\"alert alert-success\">\n",
    "<b>✔️ Комментарий ревьюера:</b> Выводы — это очень важная часть. Как раз ради них и делается исследование. Не забывай в своих будущих проектах делать промежуточные выводы после каждого раздела и общий вывод в конце  </div>"
   ]
  },
  {
   "cell_type": "markdown",
   "metadata": {
    "id": "ykKQ0N65_Zcv"
   },
   "source": [
    "## Итоги исследования"
   ]
  },
  {
   "cell_type": "markdown",
   "metadata": {
    "id": "tjUwbHb3_Zcv"
   },
   "source": [
    "Вы проверили три гипотезы и установили:\n",
    "\n",
    "1. День недели по-разному влияет на активность пользователей в Москве и Петербурге. \n",
    "\n",
    "Первая гипотеза полностью подтвердилась.\n",
    "\n",
    "2. Музыкальные предпочтения не сильно меняются в течение недели — будь то Москва или Петербург. Небольшие различия заметны в начале недели, по понедельникам:\n",
    "* в Москве слушают музыку жанра “world”,\n",
    "* в Петербурге — джаз и классику.\n",
    "\n",
    "Таким образом, вторая гипотеза подтвердилась лишь отчасти. Этот результат мог оказаться иным, если бы не пропуски в данных.\n",
    "\n",
    "3. Во вкусах пользователей Москвы и Петербурга больше общего чем различий. Вопреки ожиданиям, предпочтения жанров в Петербурге напоминают московские.\n",
    "\n",
    "Третья гипотеза не подтвердилась. Если различия в предпочтениях и существуют, на основной массе пользователей они незаметны.\n",
    "\n",
    "**На практике исследования содержат проверки статистических гипотез.**\n",
    "Из данных одного сервиса не всегда можно сделать вывод о всех жителях города.\n",
    "Проверки статистических гипотез покажут, насколько они достоверны, исходя из имеющихся данных. \n",
    "С методами проверок гипотез вы ещё познакомитесь в следующих темах."
   ]
  },
  {
   "cell_type": "markdown",
   "metadata": {},
   "source": [
    "<div class=\"alert alert-success\">\n",
    "<b>✔️ Комментарий ревьюера:</b> Вот и готов твой первый проект в портфолио! Осталось лишь немного доработать </div>"
   ]
  }
 ],
 "metadata": {
  "ExecuteTimeLog": [
   {
    "duration": 386,
    "start_time": "2021-11-17T05:19:58.893Z"
   },
   {
    "duration": 333,
    "start_time": "2021-11-17T05:20:21.179Z"
   },
   {
    "duration": 798,
    "start_time": "2021-11-17T05:20:32.372Z"
   },
   {
    "duration": 4,
    "start_time": "2021-11-17T05:20:36.027Z"
   },
   {
    "duration": 3,
    "start_time": "2021-11-17T05:20:36.757Z"
   },
   {
    "duration": 183,
    "start_time": "2021-11-17T05:20:39.431Z"
   },
   {
    "duration": 341,
    "start_time": "2021-11-17T05:20:42.992Z"
   },
   {
    "duration": 329,
    "start_time": "2021-11-17T05:20:44.763Z"
   },
   {
    "duration": 336,
    "start_time": "2021-11-17T05:21:24.842Z"
   },
   {
    "duration": 300,
    "start_time": "2021-11-17T05:21:26.060Z"
   },
   {
    "duration": 310,
    "start_time": "2021-11-17T05:21:27.560Z"
   },
   {
    "duration": 4,
    "start_time": "2021-11-17T05:21:51.132Z"
   },
   {
    "duration": 4,
    "start_time": "2021-11-17T05:21:52.739Z"
   },
   {
    "duration": 4,
    "start_time": "2021-11-17T05:21:53.479Z"
   },
   {
    "duration": 3,
    "start_time": "2021-11-17T05:22:02.865Z"
   },
   {
    "duration": 192,
    "start_time": "2021-11-17T05:22:17.670Z"
   },
   {
    "duration": 319,
    "start_time": "2021-11-17T05:22:22.456Z"
   },
   {
    "duration": 25,
    "start_time": "2021-11-17T05:23:04.230Z"
   },
   {
    "duration": 30,
    "start_time": "2021-11-17T06:20:03.628Z"
   },
   {
    "duration": 6,
    "start_time": "2021-11-17T06:23:05.018Z"
   },
   {
    "duration": 5,
    "start_time": "2021-11-17T06:24:38.428Z"
   },
   {
    "duration": 6,
    "start_time": "2021-11-17T06:24:41.119Z"
   },
   {
    "duration": 7,
    "start_time": "2021-11-17T06:25:25.279Z"
   },
   {
    "duration": 50,
    "start_time": "2021-11-17T06:27:35.463Z"
   },
   {
    "duration": 12,
    "start_time": "2021-11-17T06:30:59.363Z"
   },
   {
    "duration": 12,
    "start_time": "2021-11-17T06:31:01.653Z"
   },
   {
    "duration": 15,
    "start_time": "2021-11-17T06:31:03.294Z"
   },
   {
    "duration": 26,
    "start_time": "2021-11-17T06:35:54.503Z"
   },
   {
    "duration": 24,
    "start_time": "2021-11-17T06:35:56.163Z"
   },
   {
    "duration": 31,
    "start_time": "2021-11-17T06:36:18.928Z"
   },
   {
    "duration": 90,
    "start_time": "2021-11-17T06:40:48.983Z"
   },
   {
    "duration": 100,
    "start_time": "2021-11-17T06:41:24.869Z"
   },
   {
    "duration": 101,
    "start_time": "2021-11-17T06:41:26.714Z"
   },
   {
    "duration": 78,
    "start_time": "2021-11-17T06:41:41.943Z"
   },
   {
    "duration": 194,
    "start_time": "2021-11-17T08:18:32.831Z"
   },
   {
    "duration": 216,
    "start_time": "2021-11-17T08:18:34.731Z"
   },
   {
    "duration": 212,
    "start_time": "2021-11-17T08:18:36.021Z"
   },
   {
    "duration": 209,
    "start_time": "2021-11-17T08:18:37.021Z"
   },
   {
    "duration": -63,
    "start_time": "2021-11-17T08:37:05.496Z"
   },
   {
    "duration": -83,
    "start_time": "2021-11-17T08:38:12.598Z"
   },
   {
    "duration": -153,
    "start_time": "2021-11-17T08:40:14.783Z"
   },
   {
    "duration": 8887,
    "start_time": "2021-11-17T08:40:16.246Z"
   },
   {
    "duration": -76,
    "start_time": "2021-11-17T08:41:11.831Z"
   },
   {
    "duration": -57,
    "start_time": "2021-11-17T08:41:33.164Z"
   },
   {
    "duration": -53,
    "start_time": "2021-11-17T08:42:30.314Z"
   },
   {
    "duration": -1430,
    "start_time": "2021-11-17T09:51:35.420Z"
   },
   {
    "duration": 6,
    "start_time": "2021-11-17T09:51:35.376Z"
   },
   {
    "duration": 8,
    "start_time": "2021-11-17T09:51:35.602Z"
   },
   {
    "duration": 1424,
    "start_time": "2021-11-17T09:52:10.893Z"
   },
   {
    "duration": 1651,
    "start_time": "2021-11-17T09:52:12.662Z"
   },
   {
    "duration": 1198,
    "start_time": "2021-11-17T09:52:41.624Z"
   },
   {
    "duration": 6,
    "start_time": "2021-11-17T09:53:41.012Z"
   },
   {
    "duration": 6,
    "start_time": "2021-11-17T09:53:42.412Z"
   },
   {
    "duration": 5,
    "start_time": "2021-11-17T09:54:15.152Z"
   },
   {
    "duration": 5,
    "start_time": "2021-11-17T09:54:16.593Z"
   },
   {
    "duration": 16,
    "start_time": "2021-11-17T10:04:30.571Z"
   },
   {
    "duration": 34,
    "start_time": "2021-11-17T10:04:38.755Z"
   },
   {
    "duration": 6,
    "start_time": "2021-11-17T10:05:14.890Z"
   },
   {
    "duration": 1391,
    "start_time": "2021-11-17T10:05:28.705Z"
   },
   {
    "duration": 1618,
    "start_time": "2021-11-17T10:05:59.320Z"
   },
   {
    "duration": 4,
    "start_time": "2021-11-17T10:06:21.790Z"
   },
   {
    "duration": 4,
    "start_time": "2021-11-17T10:06:24.671Z"
   },
   {
    "duration": 4,
    "start_time": "2021-11-17T10:06:25.950Z"
   },
   {
    "duration": 6,
    "start_time": "2021-11-17T10:06:31.579Z"
   },
   {
    "duration": 6,
    "start_time": "2021-11-17T10:07:08.319Z"
   },
   {
    "duration": 6,
    "start_time": "2021-11-17T10:07:20.159Z"
   },
   {
    "duration": 7,
    "start_time": "2021-11-17T10:08:57.149Z"
   },
   {
    "duration": 7,
    "start_time": "2021-11-17T10:08:59.079Z"
   },
   {
    "duration": 4,
    "start_time": "2021-11-17T10:09:42.689Z"
   },
   {
    "duration": 5,
    "start_time": "2021-11-17T10:09:45.509Z"
   },
   {
    "duration": 5,
    "start_time": "2021-11-17T10:09:46.389Z"
   },
   {
    "duration": 7,
    "start_time": "2021-11-17T10:09:49.899Z"
   },
   {
    "duration": 5,
    "start_time": "2021-11-17T10:10:19.790Z"
   },
   {
    "duration": 7,
    "start_time": "2021-11-17T10:10:22.169Z"
   },
   {
    "duration": 7,
    "start_time": "2021-11-17T10:11:25.179Z"
   },
   {
    "duration": 5,
    "start_time": "2021-11-17T10:11:27.230Z"
   },
   {
    "duration": 31,
    "start_time": "2021-11-17T10:11:36.595Z"
   },
   {
    "duration": 15,
    "start_time": "2021-11-17T10:11:40.298Z"
   },
   {
    "duration": 29,
    "start_time": "2021-11-17T10:12:09.894Z"
   },
   {
    "duration": 24,
    "start_time": "2021-11-17T10:12:47.800Z"
   },
   {
    "duration": 23,
    "start_time": "2021-11-17T10:12:49.369Z"
   },
   {
    "duration": 29,
    "start_time": "2021-11-17T10:12:55.641Z"
   },
   {
    "duration": 91,
    "start_time": "2021-11-17T10:13:01.969Z"
   },
   {
    "duration": 92,
    "start_time": "2021-11-17T10:13:07.609Z"
   },
   {
    "duration": 96,
    "start_time": "2021-11-17T10:13:09.149Z"
   },
   {
    "duration": 75,
    "start_time": "2021-11-17T10:13:12.070Z"
   },
   {
    "duration": 21,
    "start_time": "2021-11-17T10:13:28.724Z"
   },
   {
    "duration": 4,
    "start_time": "2021-11-17T10:32:10.973Z"
   },
   {
    "duration": 4,
    "start_time": "2021-11-17T10:32:12.667Z"
   },
   {
    "duration": 5,
    "start_time": "2021-11-17T10:32:13.512Z"
   },
   {
    "duration": 4,
    "start_time": "2021-11-17T10:32:13.947Z"
   },
   {
    "duration": 5,
    "start_time": "2021-11-17T10:32:14.332Z"
   },
   {
    "duration": 5,
    "start_time": "2021-11-17T10:32:44.903Z"
   },
   {
    "duration": 5,
    "start_time": "2021-11-17T10:32:46.017Z"
   },
   {
    "duration": 4,
    "start_time": "2021-11-17T10:32:46.632Z"
   },
   {
    "duration": 115,
    "start_time": "2021-11-17T10:39:42.377Z"
   },
   {
    "duration": 4,
    "start_time": "2021-11-17T10:39:53.447Z"
   },
   {
    "duration": 4,
    "start_time": "2021-11-17T10:39:54.307Z"
   },
   {
    "duration": 95,
    "start_time": "2021-11-17T10:43:02.457Z"
   },
   {
    "duration": 77,
    "start_time": "2021-11-17T10:43:03.787Z"
   },
   {
    "duration": 3,
    "start_time": "2021-11-17T10:48:58.003Z"
   },
   {
    "duration": 14,
    "start_time": "2021-11-17T10:50:03.690Z"
   },
   {
    "duration": 14,
    "start_time": "2021-11-17T10:51:37.753Z"
   },
   {
    "duration": 5,
    "start_time": "2021-11-17T10:55:12.708Z"
   },
   {
    "duration": 5,
    "start_time": "2021-11-17T10:55:14.318Z"
   },
   {
    "duration": 5,
    "start_time": "2021-11-17T10:55:17.512Z"
   },
   {
    "duration": 5,
    "start_time": "2021-11-17T10:55:18.113Z"
   },
   {
    "duration": 20,
    "start_time": "2021-11-17T10:56:04.513Z"
   },
   {
    "duration": 18,
    "start_time": "2021-11-17T10:56:22.512Z"
   },
   {
    "duration": 19,
    "start_time": "2021-11-17T10:56:39.115Z"
   },
   {
    "duration": 29,
    "start_time": "2021-11-17T10:56:59.715Z"
   },
   {
    "duration": 33,
    "start_time": "2021-11-17T10:57:38.503Z"
   },
   {
    "duration": 28,
    "start_time": "2021-11-17T10:57:56.723Z"
   },
   {
    "duration": 12,
    "start_time": "2021-11-17T10:58:34.323Z"
   },
   {
    "duration": 12,
    "start_time": "2021-11-17T10:59:47.978Z"
   },
   {
    "duration": 13,
    "start_time": "2021-11-17T10:59:49.473Z"
   },
   {
    "duration": 12,
    "start_time": "2021-11-17T10:59:50.753Z"
   },
   {
    "duration": 10,
    "start_time": "2021-11-17T10:59:59.763Z"
   },
   {
    "duration": 13,
    "start_time": "2021-11-17T11:00:10.252Z"
   },
   {
    "duration": 15,
    "start_time": "2021-11-17T11:01:58.327Z"
   },
   {
    "duration": 18,
    "start_time": "2021-11-17T11:01:59.423Z"
   },
   {
    "duration": 18,
    "start_time": "2021-11-17T11:02:00.423Z"
   },
   {
    "duration": 19,
    "start_time": "2021-11-17T11:02:25.073Z"
   },
   {
    "duration": 5,
    "start_time": "2021-11-17T11:07:08.707Z"
   },
   {
    "duration": 5,
    "start_time": "2021-11-17T11:07:12.948Z"
   },
   {
    "duration": 6,
    "start_time": "2021-11-17T11:07:14.117Z"
   },
   {
    "duration": 6,
    "start_time": "2021-11-17T11:10:58.073Z"
   },
   {
    "duration": 5,
    "start_time": "2021-11-17T11:10:59.523Z"
   },
   {
    "duration": 5,
    "start_time": "2021-11-17T11:15:54.168Z"
   },
   {
    "duration": 650,
    "start_time": "2021-11-17T11:16:54.338Z"
   },
   {
    "duration": 6,
    "start_time": "2021-11-17T11:17:26.268Z"
   },
   {
    "duration": 905,
    "start_time": "2021-11-17T11:17:29.338Z"
   },
   {
    "duration": 1033,
    "start_time": "2021-11-17T11:17:47.799Z"
   },
   {
    "duration": 909,
    "start_time": "2021-11-17T11:17:50.578Z"
   },
   {
    "duration": 652,
    "start_time": "2021-11-17T11:17:54.478Z"
   },
   {
    "duration": 627,
    "start_time": "2021-11-17T11:34:32.644Z"
   },
   {
    "duration": 645,
    "start_time": "2021-11-17T11:44:02.153Z"
   },
   {
    "duration": 645,
    "start_time": "2021-11-17T11:44:04.857Z"
   },
   {
    "duration": 643,
    "start_time": "2021-11-17T11:44:51.912Z"
   },
   {
    "duration": 600,
    "start_time": "2021-11-17T11:44:53.993Z"
   },
   {
    "duration": 630,
    "start_time": "2021-11-17T11:48:42.593Z"
   },
   {
    "duration": 695,
    "start_time": "2021-11-17T11:50:16.723Z"
   },
   {
    "duration": 848,
    "start_time": "2021-11-17T11:51:27.042Z"
   },
   {
    "duration": 668,
    "start_time": "2021-11-17T11:51:30.262Z"
   },
   {
    "duration": 717,
    "start_time": "2021-11-17T11:51:32.752Z"
   },
   {
    "duration": 644,
    "start_time": "2021-11-17T11:52:41.654Z"
   },
   {
    "duration": 625,
    "start_time": "2021-11-17T11:52:43.688Z"
   },
   {
    "duration": 640,
    "start_time": "2021-11-17T11:52:46.023Z"
   },
   {
    "duration": 712,
    "start_time": "2021-11-17T11:53:28.493Z"
   },
   {
    "duration": 674,
    "start_time": "2021-11-17T11:56:02.609Z"
   },
   {
    "duration": 882,
    "start_time": "2021-11-17T11:56:04.498Z"
   },
   {
    "duration": 882,
    "start_time": "2021-11-17T11:57:43.172Z"
   },
   {
    "duration": 878,
    "start_time": "2021-11-17T11:57:45.158Z"
   },
   {
    "duration": 649,
    "start_time": "2021-11-17T11:57:47.673Z"
   },
   {
    "duration": 640,
    "start_time": "2021-11-17T11:58:38.467Z"
   },
   {
    "duration": 770,
    "start_time": "2021-11-17T11:58:41.503Z"
   },
   {
    "duration": 8,
    "start_time": "2021-11-17T11:59:15.693Z"
   },
   {
    "duration": 8,
    "start_time": "2021-11-17T11:59:18.303Z"
   },
   {
    "duration": 10,
    "start_time": "2021-11-17T11:59:24.977Z"
   },
   {
    "duration": 924,
    "start_time": "2021-11-17T11:59:27.612Z"
   },
   {
    "duration": 6,
    "start_time": "2021-11-17T12:00:13.978Z"
   },
   {
    "duration": 11,
    "start_time": "2021-11-17T12:00:16.067Z"
   },
   {
    "duration": 634,
    "start_time": "2021-11-17T12:00:21.053Z"
   },
   {
    "duration": 689,
    "start_time": "2021-11-17T12:00:22.853Z"
   },
   {
    "duration": 8,
    "start_time": "2021-11-17T12:02:52.811Z"
   },
   {
    "duration": 5,
    "start_time": "2021-11-17T12:02:55.222Z"
   },
   {
    "duration": 7,
    "start_time": "2021-11-17T12:02:56.072Z"
   },
   {
    "duration": 5,
    "start_time": "2021-11-17T12:14:14.102Z"
   },
   {
    "duration": 5,
    "start_time": "2021-11-17T12:14:16.272Z"
   },
   {
    "duration": 626,
    "start_time": "2021-11-17T12:14:20.811Z"
   },
   {
    "duration": 868,
    "start_time": "2021-11-17T12:14:22.962Z"
   },
   {
    "duration": 633,
    "start_time": "2021-11-17T12:14:24.632Z"
   },
   {
    "duration": 5,
    "start_time": "2021-11-17T12:15:20.348Z"
   },
   {
    "duration": 5,
    "start_time": "2021-11-17T12:15:23.048Z"
   },
   {
    "duration": 6,
    "start_time": "2021-11-17T12:15:25.372Z"
   },
   {
    "duration": 5,
    "start_time": "2021-11-17T12:15:26.107Z"
   },
   {
    "duration": 594,
    "start_time": "2021-11-17T12:15:29.077Z"
   },
   {
    "duration": 7,
    "start_time": "2021-11-17T12:16:49.083Z"
   },
   {
    "duration": 6,
    "start_time": "2021-11-17T12:16:50.742Z"
   },
   {
    "duration": 32,
    "start_time": "2021-11-17T12:16:54.297Z"
   },
   {
    "duration": 25,
    "start_time": "2021-11-17T12:21:36.717Z"
   },
   {
    "duration": 37,
    "start_time": "2021-11-17T12:22:30.878Z"
   },
   {
    "duration": 38,
    "start_time": "2021-11-17T12:22:48.068Z"
   },
   {
    "duration": 25,
    "start_time": "2021-11-17T12:23:03.148Z"
   },
   {
    "duration": 24,
    "start_time": "2021-11-17T12:23:29.308Z"
   },
   {
    "duration": 18,
    "start_time": "2021-11-17T12:24:08.728Z"
   },
   {
    "duration": 285,
    "start_time": "2021-11-17T12:24:46.166Z"
   },
   {
    "duration": 17,
    "start_time": "2021-11-17T12:24:59.687Z"
   },
   {
    "duration": 13,
    "start_time": "2021-11-17T12:29:07.037Z"
   },
   {
    "duration": 7,
    "start_time": "2021-11-17T12:29:34.617Z"
   },
   {
    "duration": 9,
    "start_time": "2021-11-17T12:30:35.807Z"
   },
   {
    "duration": 8,
    "start_time": "2021-11-17T12:31:04.327Z"
   },
   {
    "duration": 26,
    "start_time": "2021-11-17T12:31:56.447Z"
   },
   {
    "duration": 5,
    "start_time": "2021-11-17T12:34:05.807Z"
   },
   {
    "duration": 4,
    "start_time": "2021-11-17T12:35:53.083Z"
   },
   {
    "duration": 4,
    "start_time": "2021-11-17T12:35:57.047Z"
   },
   {
    "duration": 491,
    "start_time": "2021-11-17T12:36:00.121Z"
   },
   {
    "duration": 5,
    "start_time": "2021-11-17T12:36:50.457Z"
   },
   {
    "duration": 797,
    "start_time": "2021-11-17T12:36:53.363Z"
   },
   {
    "duration": 35,
    "start_time": "2021-11-17T12:39:58.182Z"
   },
   {
    "duration": 5,
    "start_time": "2021-11-17T12:40:07.157Z"
   },
   {
    "duration": 32,
    "start_time": "2021-11-17T12:40:12.321Z"
   },
   {
    "duration": 6,
    "start_time": "2021-11-17T12:40:49.862Z"
   },
   {
    "duration": 4,
    "start_time": "2021-11-17T12:42:58.517Z"
   },
   {
    "duration": 305,
    "start_time": "2021-11-17T12:43:03.767Z"
   },
   {
    "duration": 100,
    "start_time": "2021-11-17T12:59:51.613Z"
   },
   {
    "duration": 4,
    "start_time": "2021-11-17T13:05:10.748Z"
   },
   {
    "duration": 4,
    "start_time": "2021-11-17T13:05:12.652Z"
   },
   {
    "duration": 703,
    "start_time": "2021-11-17T13:09:02.011Z"
   },
   {
    "duration": 4,
    "start_time": "2021-11-17T13:09:07.773Z"
   },
   {
    "duration": 597,
    "start_time": "2021-11-17T13:09:10.968Z"
   },
   {
    "duration": 4,
    "start_time": "2021-11-17T13:17:29.228Z"
   },
   {
    "duration": 693,
    "start_time": "2021-11-17T13:17:31.957Z"
   },
   {
    "duration": 599,
    "start_time": "2021-11-17T13:17:34.027Z"
   },
   {
    "duration": 4,
    "start_time": "2021-11-17T13:17:51.217Z"
   },
   {
    "duration": 873,
    "start_time": "2021-11-17T13:17:56.337Z"
   },
   {
    "duration": 863,
    "start_time": "2021-11-17T13:18:00.238Z"
   },
   {
    "duration": 4,
    "start_time": "2021-11-17T13:18:21.953Z"
   },
   {
    "duration": 4,
    "start_time": "2021-11-17T13:18:24.587Z"
   },
   {
    "duration": 605,
    "start_time": "2021-11-17T13:18:27.467Z"
   },
   {
    "duration": 680,
    "start_time": "2021-11-17T13:18:28.957Z"
   },
   {
    "duration": 804,
    "start_time": "2021-11-17T13:18:30.297Z"
   },
   {
    "duration": 4,
    "start_time": "2021-11-17T13:18:40.187Z"
   },
   {
    "duration": 873,
    "start_time": "2021-11-17T13:18:42.107Z"
   },
   {
    "duration": 1334,
    "start_time": "2021-11-17T13:18:43.837Z"
   },
   {
    "duration": 612,
    "start_time": "2021-11-17T13:18:46.287Z"
   },
   {
    "duration": 613,
    "start_time": "2021-11-17T13:18:47.702Z"
   },
   {
    "duration": 303,
    "start_time": "2021-11-17T13:18:56.667Z"
   },
   {
    "duration": 3,
    "start_time": "2021-11-17T13:20:00.388Z"
   },
   {
    "duration": 597,
    "start_time": "2021-11-17T13:20:04.502Z"
   },
   {
    "duration": 622,
    "start_time": "2021-11-17T13:20:06.017Z"
   },
   {
    "duration": 4,
    "start_time": "2021-11-17T13:20:10.802Z"
   },
   {
    "duration": 4,
    "start_time": "2021-11-17T13:20:20.638Z"
   },
   {
    "duration": 579,
    "start_time": "2021-11-17T13:20:24.117Z"
   },
   {
    "duration": 822,
    "start_time": "2021-11-17T13:20:25.957Z"
   },
   {
    "duration": 4,
    "start_time": "2021-11-17T13:21:24.988Z"
   },
   {
    "duration": 1551,
    "start_time": "2021-11-17T13:21:28.692Z"
   },
   {
    "duration": 4,
    "start_time": "2021-11-17T13:23:23.922Z"
   },
   {
    "duration": 4,
    "start_time": "2021-11-17T13:23:24.877Z"
   },
   {
    "duration": 787,
    "start_time": "2021-11-17T13:23:27.717Z"
   },
   {
    "duration": 5,
    "start_time": "2021-11-17T13:29:39.018Z"
   },
   {
    "duration": 613,
    "start_time": "2021-11-17T13:29:43.517Z"
   },
   {
    "duration": 592,
    "start_time": "2021-11-17T13:29:45.638Z"
   },
   {
    "duration": 716,
    "start_time": "2021-11-17T13:29:50.237Z"
   },
   {
    "duration": 4,
    "start_time": "2021-11-17T13:30:11.197Z"
   },
   {
    "duration": 4,
    "start_time": "2021-11-17T13:30:12.989Z"
   },
   {
    "duration": 5,
    "start_time": "2021-11-17T13:30:13.947Z"
   },
   {
    "duration": 646,
    "start_time": "2021-11-17T13:30:18.792Z"
   },
   {
    "duration": 603,
    "start_time": "2021-11-17T13:30:20.377Z"
   },
   {
    "duration": 4,
    "start_time": "2021-11-17T13:33:13.963Z"
   },
   {
    "duration": 4,
    "start_time": "2021-11-17T13:33:16.857Z"
   },
   {
    "duration": 3,
    "start_time": "2021-11-17T13:33:17.473Z"
   },
   {
    "duration": 602,
    "start_time": "2021-11-17T13:33:25.447Z"
   },
   {
    "duration": 5,
    "start_time": "2021-11-17T13:33:36.918Z"
   },
   {
    "duration": 6,
    "start_time": "2021-11-17T13:33:42.670Z"
   },
   {
    "duration": 6,
    "start_time": "2021-11-17T13:33:43.477Z"
   },
   {
    "duration": 598,
    "start_time": "2021-11-17T13:33:49.303Z"
   },
   {
    "duration": -34,
    "start_time": "2021-11-17T13:34:10.350Z"
   },
   {
    "duration": 630,
    "start_time": "2021-11-17T13:34:14.557Z"
   },
   {
    "duration": 4,
    "start_time": "2021-11-17T13:34:49.818Z"
   },
   {
    "duration": 4,
    "start_time": "2021-11-17T13:34:50.973Z"
   },
   {
    "duration": 594,
    "start_time": "2021-11-17T13:34:53.587Z"
   },
   {
    "duration": 598,
    "start_time": "2021-11-17T13:34:58.208Z"
   },
   {
    "duration": 4,
    "start_time": "2021-11-17T13:35:10.658Z"
   },
   {
    "duration": 4,
    "start_time": "2021-11-17T13:35:11.467Z"
   },
   {
    "duration": 691,
    "start_time": "2021-11-17T13:35:13.658Z"
   },
   {
    "duration": 4,
    "start_time": "2021-11-17T13:35:52.423Z"
   },
   {
    "duration": 4,
    "start_time": "2021-11-17T13:35:53.543Z"
   },
   {
    "duration": 4,
    "start_time": "2021-11-17T13:35:54.304Z"
   },
   {
    "duration": 644,
    "start_time": "2021-11-17T13:35:57.728Z"
   },
   {
    "duration": 612,
    "start_time": "2021-11-17T13:35:59.363Z"
   },
   {
    "duration": 4,
    "start_time": "2021-11-17T13:36:39.797Z"
   },
   {
    "duration": 4,
    "start_time": "2021-11-17T13:36:41.773Z"
   },
   {
    "duration": 774,
    "start_time": "2021-11-17T13:36:44.652Z"
   },
   {
    "duration": 4,
    "start_time": "2021-11-17T13:37:03.923Z"
   },
   {
    "duration": 4,
    "start_time": "2021-11-17T13:37:05.394Z"
   },
   {
    "duration": 4,
    "start_time": "2021-11-17T13:37:06.203Z"
   },
   {
    "duration": 589,
    "start_time": "2021-11-17T13:37:09.218Z"
   },
   {
    "duration": 4,
    "start_time": "2021-11-17T13:40:17.083Z"
   },
   {
    "duration": 938,
    "start_time": "2021-11-17T13:40:20.143Z"
   },
   {
    "duration": 700,
    "start_time": "2021-11-17T13:40:23.334Z"
   },
   {
    "duration": 4,
    "start_time": "2021-11-17T13:40:50.493Z"
   },
   {
    "duration": 4,
    "start_time": "2021-11-17T13:40:50.962Z"
   },
   {
    "duration": 4,
    "start_time": "2021-11-17T13:40:51.253Z"
   },
   {
    "duration": 4,
    "start_time": "2021-11-17T13:40:51.378Z"
   },
   {
    "duration": 4,
    "start_time": "2021-11-17T13:40:51.542Z"
   },
   {
    "duration": 4,
    "start_time": "2021-11-17T13:40:51.678Z"
   },
   {
    "duration": 4,
    "start_time": "2021-11-17T13:40:51.858Z"
   },
   {
    "duration": 4,
    "start_time": "2021-11-17T13:40:51.978Z"
   },
   {
    "duration": 4,
    "start_time": "2021-11-17T13:40:52.143Z"
   },
   {
    "duration": 4,
    "start_time": "2021-11-17T13:40:52.294Z"
   },
   {
    "duration": 4,
    "start_time": "2021-11-17T13:40:52.483Z"
   },
   {
    "duration": 4,
    "start_time": "2021-11-17T13:40:52.558Z"
   },
   {
    "duration": 4,
    "start_time": "2021-11-17T13:40:52.703Z"
   },
   {
    "duration": 4,
    "start_time": "2021-11-17T13:40:52.818Z"
   },
   {
    "duration": -1,
    "start_time": "2021-11-17T13:40:58.365Z"
   },
   {
    "duration": 615,
    "start_time": "2021-11-17T13:41:02.233Z"
   },
   {
    "duration": 4,
    "start_time": "2021-11-17T13:46:05.363Z"
   },
   {
    "duration": 4,
    "start_time": "2021-11-17T13:46:06.758Z"
   },
   {
    "duration": 4,
    "start_time": "2021-11-17T13:46:07.583Z"
   },
   {
    "duration": 593,
    "start_time": "2021-11-17T13:46:10.514Z"
   },
   {
    "duration": 6,
    "start_time": "2021-11-17T13:46:46.968Z"
   },
   {
    "duration": 4,
    "start_time": "2021-11-17T13:46:48.188Z"
   },
   {
    "duration": 4,
    "start_time": "2021-11-17T13:46:49.669Z"
   },
   {
    "duration": 573,
    "start_time": "2021-11-17T13:46:56.178Z"
   },
   {
    "duration": 609,
    "start_time": "2021-11-17T13:46:57.778Z"
   },
   {
    "duration": 337,
    "start_time": "2021-11-17T14:04:50.759Z"
   },
   {
    "duration": 410,
    "start_time": "2021-11-17T14:08:27.459Z"
   },
   {
    "duration": 461,
    "start_time": "2021-11-17T14:08:30.900Z"
   },
   {
    "duration": 364,
    "start_time": "2021-11-17T14:10:06.229Z"
   },
   {
    "duration": 414,
    "start_time": "2021-11-17T14:10:07.539Z"
   },
   {
    "duration": 308,
    "start_time": "2021-11-17T14:10:08.529Z"
   },
   {
    "duration": 307,
    "start_time": "2021-11-17T14:10:11.950Z"
   },
   {
    "duration": 293,
    "start_time": "2021-11-17T14:10:13.559Z"
   },
   {
    "duration": 332,
    "start_time": "2021-11-17T14:10:14.959Z"
   },
   {
    "duration": 316,
    "start_time": "2021-11-17T14:10:15.968Z"
   },
   {
    "duration": 322,
    "start_time": "2021-11-17T14:11:18.559Z"
   },
   {
    "duration": 298,
    "start_time": "2021-11-17T14:11:19.729Z"
   },
   {
    "duration": 317,
    "start_time": "2021-11-17T14:11:21.419Z"
   },
   {
    "duration": 665,
    "start_time": "2021-11-17T14:11:57.559Z"
   },
   {
    "duration": 459,
    "start_time": "2021-11-17T14:12:14.164Z"
   },
   {
    "duration": 332,
    "start_time": "2021-11-17T14:12:24.900Z"
   },
   {
    "duration": 183,
    "start_time": "2021-11-17T14:12:37.698Z"
   },
   {
    "duration": 193,
    "start_time": "2021-11-17T14:12:40.099Z"
   },
   {
    "duration": 189,
    "start_time": "2021-11-17T14:12:41.149Z"
   },
   {
    "duration": 17,
    "start_time": "2021-11-17T14:12:44.998Z"
   },
   {
    "duration": 16,
    "start_time": "2021-11-17T14:12:46.728Z"
   },
   {
    "duration": 22,
    "start_time": "2021-11-17T14:12:47.779Z"
   },
   {
    "duration": 53,
    "start_time": "2021-11-17T14:12:53.289Z"
   },
   {
    "duration": 7,
    "start_time": "2021-11-17T14:13:00.606Z"
   },
   {
    "duration": 4,
    "start_time": "2021-11-17T14:13:07.499Z"
   },
   {
    "duration": 5,
    "start_time": "2021-11-17T14:13:09.521Z"
   },
   {
    "duration": 6,
    "start_time": "2021-11-17T14:13:12.879Z"
   },
   {
    "duration": 33,
    "start_time": "2021-11-17T14:13:19.179Z"
   },
   {
    "duration": 8378,
    "start_time": "2021-11-17T14:13:25.389Z"
   },
   {
    "duration": -43,
    "start_time": "2021-11-17T14:13:33.813Z"
   },
   {
    "duration": 88,
    "start_time": "2021-11-17T14:13:35.879Z"
   },
   {
    "duration": 91,
    "start_time": "2021-11-17T14:13:43.260Z"
   },
   {
    "duration": 98,
    "start_time": "2021-11-17T14:13:44.849Z"
   },
   {
    "duration": 80,
    "start_time": "2021-11-17T14:13:47.759Z"
   },
   {
    "duration": 74,
    "start_time": "2021-11-17T14:13:49.019Z"
   },
   {
    "duration": 61,
    "start_time": "2021-11-17T14:13:53.959Z"
   },
   {
    "duration": 317,
    "start_time": "2021-11-17T14:13:55.019Z"
   },
   {
    "duration": 317,
    "start_time": "2021-11-17T14:13:57.759Z"
   },
   {
    "duration": 321,
    "start_time": "2021-11-17T14:13:58.989Z"
   },
   {
    "duration": 324,
    "start_time": "2021-11-17T14:14:20.558Z"
   },
   {
    "duration": 314,
    "start_time": "2021-11-17T14:14:21.649Z"
   },
   {
    "duration": 349,
    "start_time": "2021-11-17T14:14:22.589Z"
   },
   {
    "duration": 306,
    "start_time": "2021-11-17T14:14:23.739Z"
   },
   {
    "duration": 315,
    "start_time": "2021-11-17T14:14:49.849Z"
   },
   {
    "duration": -4,
    "start_time": "2021-11-17T14:14:50.688Z"
   },
   {
    "duration": 345,
    "start_time": "2021-11-17T14:14:53.529Z"
   },
   {
    "duration": 320,
    "start_time": "2021-11-17T14:15:18.299Z"
   },
   {
    "duration": 370,
    "start_time": "2021-11-17T14:15:19.559Z"
   },
   {
    "duration": 305,
    "start_time": "2021-11-17T14:15:32.570Z"
   },
   {
    "duration": 301,
    "start_time": "2021-11-17T14:15:33.919Z"
   },
   {
    "duration": 302,
    "start_time": "2021-11-17T14:15:35.049Z"
   },
   {
    "duration": 22,
    "start_time": "2021-11-17T14:15:35.734Z"
   },
   {
    "duration": 31,
    "start_time": "2021-11-17T14:15:36.165Z"
   },
   {
    "duration": 6,
    "start_time": "2021-11-17T14:15:38.002Z"
   },
   {
    "duration": 309,
    "start_time": "2021-11-17T14:15:55.080Z"
   },
   {
    "duration": 431,
    "start_time": "2021-11-17T14:16:07.419Z"
   },
   {
    "duration": 337,
    "start_time": "2021-11-17T14:16:09.089Z"
   },
   {
    "duration": 384,
    "start_time": "2021-11-17T14:16:28.530Z"
   },
   {
    "duration": 374,
    "start_time": "2021-11-17T14:17:12.500Z"
   },
   {
    "duration": 627,
    "start_time": "2021-11-17T14:17:14.909Z"
   },
   {
    "duration": 476,
    "start_time": "2021-11-17T14:17:16.369Z"
   },
   {
    "duration": 294,
    "start_time": "2021-11-17T14:18:49.639Z"
   },
   {
    "duration": 3,
    "start_time": "2021-11-17T14:20:50.699Z"
   },
   {
    "duration": 4,
    "start_time": "2021-11-17T14:20:52.089Z"
   },
   {
    "duration": 201,
    "start_time": "2021-11-17T14:20:55.264Z"
   },
   {
    "duration": 16,
    "start_time": "2021-11-17T14:20:58.965Z"
   },
   {
    "duration": 34,
    "start_time": "2021-11-17T14:21:05.729Z"
   },
   {
    "duration": 36,
    "start_time": "2021-11-17T14:21:07.094Z"
   },
   {
    "duration": 10,
    "start_time": "2021-11-17T14:21:13.379Z"
   },
   {
    "duration": 4,
    "start_time": "2021-11-17T14:21:20.359Z"
   },
   {
    "duration": 4,
    "start_time": "2021-11-17T14:21:21.519Z"
   },
   {
    "duration": 5,
    "start_time": "2021-11-17T14:21:26.779Z"
   },
   {
    "duration": 5,
    "start_time": "2021-11-17T14:21:27.929Z"
   },
   {
    "duration": 34,
    "start_time": "2021-11-17T14:21:37.599Z"
   },
   {
    "duration": 202,
    "start_time": "2021-11-17T14:26:06.349Z"
   },
   {
    "duration": 200,
    "start_time": "2021-11-17T14:26:06.869Z"
   },
   {
    "duration": 188,
    "start_time": "2021-11-17T14:26:12.559Z"
   },
   {
    "duration": 198,
    "start_time": "2021-11-17T14:26:14.539Z"
   },
   {
    "duration": 189,
    "start_time": "2021-11-17T14:26:15.789Z"
   },
   {
    "duration": 155,
    "start_time": "2021-11-17T14:26:16.670Z"
   },
   {
    "duration": 138,
    "start_time": "2021-11-17T14:26:21.259Z"
   },
   {
    "duration": 127,
    "start_time": "2021-11-17T14:26:22.749Z"
   },
   {
    "duration": 124,
    "start_time": "2021-11-17T14:26:23.489Z"
   },
   {
    "duration": 196,
    "start_time": "2021-11-17T14:26:42.854Z"
   },
   {
    "duration": 140,
    "start_time": "2021-11-17T14:26:44.130Z"
   },
   {
    "duration": 131,
    "start_time": "2021-11-17T14:26:45.004Z"
   },
   {
    "duration": 128,
    "start_time": "2021-11-17T14:26:45.799Z"
   },
   {
    "duration": 33,
    "start_time": "2021-11-17T14:26:49.709Z"
   },
   {
    "duration": 31,
    "start_time": "2021-11-17T14:26:50.898Z"
   },
   {
    "duration": 71,
    "start_time": "2021-11-17T14:27:15.579Z"
   },
   {
    "duration": 4,
    "start_time": "2021-11-17T14:27:31.409Z"
   },
   {
    "duration": 6,
    "start_time": "2021-11-17T14:27:32.489Z"
   },
   {
    "duration": 1104,
    "start_time": "2021-11-17T14:27:35.324Z"
   },
   {
    "duration": 799,
    "start_time": "2021-11-17T14:27:37.539Z"
   },
   {
    "duration": 4,
    "start_time": "2021-11-17T14:27:53.449Z"
   },
   {
    "duration": 5,
    "start_time": "2021-11-17T14:27:54.754Z"
   },
   {
    "duration": 4,
    "start_time": "2021-11-17T14:27:55.849Z"
   },
   {
    "duration": 625,
    "start_time": "2021-11-17T14:27:59.119Z"
   },
   {
    "duration": 618,
    "start_time": "2021-11-17T14:28:00.600Z"
   },
   {
    "duration": 591,
    "start_time": "2021-11-17T14:28:02.788Z"
   },
   {
    "duration": 587,
    "start_time": "2021-11-17T14:28:04.069Z"
   },
   {
    "duration": 586,
    "start_time": "2021-11-17T14:28:05.309Z"
   },
   {
    "duration": 614,
    "start_time": "2021-11-17T14:28:21.799Z"
   },
   {
    "duration": 294,
    "start_time": "2021-11-17T14:28:31.171Z"
   },
   {
    "duration": 4,
    "start_time": "2021-11-17T14:30:41.638Z"
   },
   {
    "duration": 4,
    "start_time": "2021-11-17T14:30:44.569Z"
   },
   {
    "duration": 5,
    "start_time": "2021-11-17T14:30:45.382Z"
   },
   {
    "duration": 640,
    "start_time": "2021-11-17T14:30:48.279Z"
   },
   {
    "duration": 593,
    "start_time": "2021-11-17T14:30:49.809Z"
   },
   {
    "duration": 6,
    "start_time": "2021-11-17T14:31:38.643Z"
   },
   {
    "duration": 5,
    "start_time": "2021-11-17T14:31:41.309Z"
   },
   {
    "duration": 5,
    "start_time": "2021-11-17T14:31:42.388Z"
   },
   {
    "duration": 651,
    "start_time": "2021-11-17T14:31:44.978Z"
   },
   {
    "duration": 821,
    "start_time": "2021-11-17T14:31:46.619Z"
   },
   {
    "duration": 373,
    "start_time": "2021-11-17T14:32:02.769Z"
   },
   {
    "duration": 327,
    "start_time": "2021-11-17T14:33:04.208Z"
   },
   {
    "duration": 348,
    "start_time": "2021-11-17T14:33:05.599Z"
   },
   {
    "duration": 397,
    "start_time": "2021-11-17T14:33:08.428Z"
   },
   {
    "duration": 324,
    "start_time": "2021-11-17T14:33:09.709Z"
   },
   {
    "duration": 324,
    "start_time": "2021-11-17T14:37:20.309Z"
   },
   {
    "duration": 326,
    "start_time": "2021-11-17T14:37:21.709Z"
   },
   {
    "duration": 333,
    "start_time": "2021-11-17T14:37:22.841Z"
   },
   {
    "duration": 194,
    "start_time": "2021-11-17T14:37:36.029Z"
   },
   {
    "duration": 17,
    "start_time": "2021-11-17T14:37:40.238Z"
   },
   {
    "duration": 31,
    "start_time": "2021-11-17T14:37:44.493Z"
   },
   {
    "duration": 6,
    "start_time": "2021-11-17T14:37:50.619Z"
   },
   {
    "duration": 5,
    "start_time": "2021-11-17T14:37:54.248Z"
   },
   {
    "duration": 6,
    "start_time": "2021-11-17T14:37:57.778Z"
   },
   {
    "duration": 30,
    "start_time": "2021-11-17T14:38:00.579Z"
   },
   {
    "duration": 145,
    "start_time": "2021-11-17T14:38:04.229Z"
   },
   {
    "duration": 30,
    "start_time": "2021-11-17T14:38:07.459Z"
   },
   {
    "duration": 83,
    "start_time": "2021-11-17T14:38:12.433Z"
   },
   {
    "duration": 98,
    "start_time": "2021-11-17T14:38:15.939Z"
   },
   {
    "duration": 80,
    "start_time": "2021-11-17T14:38:20.019Z"
   },
   {
    "duration": 62,
    "start_time": "2021-11-17T14:39:29.309Z"
   },
   {
    "duration": 5,
    "start_time": "2021-11-17T14:39:37.103Z"
   },
   {
    "duration": 5,
    "start_time": "2021-11-17T14:39:38.159Z"
   },
   {
    "duration": 4,
    "start_time": "2021-11-17T14:39:38.949Z"
   },
   {
    "duration": 632,
    "start_time": "2021-11-17T14:39:43.219Z"
   },
   {
    "duration": 1043,
    "start_time": "2021-11-17T14:39:44.659Z"
   },
   {
    "duration": 671,
    "start_time": "2021-11-17T14:39:46.308Z"
   },
   {
    "duration": 9,
    "start_time": "2021-11-17T14:40:29.989Z"
   },
   {
    "duration": 4,
    "start_time": "2021-11-17T14:40:30.960Z"
   },
   {
    "duration": 633,
    "start_time": "2021-11-17T14:40:34.248Z"
   },
   {
    "duration": 303,
    "start_time": "2021-11-17T14:45:37.774Z"
   },
   {
    "duration": 318,
    "start_time": "2021-11-17T14:45:39.408Z"
   },
   {
    "duration": 323,
    "start_time": "2021-11-17T14:48:44.954Z"
   },
   {
    "duration": 315,
    "start_time": "2021-11-17T14:48:46.254Z"
   },
   {
    "duration": 394,
    "start_time": "2021-11-17T14:48:47.515Z"
   },
   {
    "duration": 291,
    "start_time": "2021-11-17T14:48:49.464Z"
   },
   {
    "duration": 452,
    "start_time": "2021-11-17T14:48:50.744Z"
   },
   {
    "duration": 324,
    "start_time": "2021-11-17T14:48:51.953Z"
   },
   {
    "duration": 493,
    "start_time": "2021-11-17T14:50:07.213Z"
   },
   {
    "duration": 621,
    "start_time": "2021-11-17T14:50:10.004Z"
   },
   {
    "duration": 298,
    "start_time": "2021-11-17T14:50:11.503Z"
   },
   {
    "duration": 295,
    "start_time": "2021-11-17T14:50:46.494Z"
   },
   {
    "duration": 318,
    "start_time": "2021-11-17T14:50:48.563Z"
   },
   {
    "duration": 293,
    "start_time": "2021-11-17T14:50:49.674Z"
   },
   {
    "duration": 300,
    "start_time": "2021-11-17T14:50:50.504Z"
   },
   {
    "duration": 310,
    "start_time": "2021-11-17T14:51:20.824Z"
   },
   {
    "duration": 314,
    "start_time": "2021-11-17T14:51:26.384Z"
   },
   {
    "duration": 202,
    "start_time": "2021-11-17T14:51:36.604Z"
   },
   {
    "duration": 15,
    "start_time": "2021-11-17T14:51:39.654Z"
   },
   {
    "duration": 32,
    "start_time": "2021-11-17T14:51:43.823Z"
   },
   {
    "duration": 6,
    "start_time": "2021-11-17T14:51:48.483Z"
   },
   {
    "duration": 4,
    "start_time": "2021-11-17T14:51:52.679Z"
   },
   {
    "duration": 6,
    "start_time": "2021-11-17T14:52:01.303Z"
   },
   {
    "duration": 49,
    "start_time": "2021-11-17T14:52:05.243Z"
   },
   {
    "duration": 27,
    "start_time": "2021-11-17T14:52:27.878Z"
   },
   {
    "duration": 31,
    "start_time": "2021-11-17T14:52:39.593Z"
   },
   {
    "duration": 86,
    "start_time": "2021-11-17T14:52:49.445Z"
   },
   {
    "duration": 133,
    "start_time": "2021-11-17T14:52:53.244Z"
   },
   {
    "duration": 76,
    "start_time": "2021-11-17T14:52:56.443Z"
   },
   {
    "duration": 101,
    "start_time": "2021-11-17T14:53:01.531Z"
   },
   {
    "duration": 4,
    "start_time": "2021-11-17T14:53:33.583Z"
   },
   {
    "duration": 1309,
    "start_time": "2021-11-17T14:53:36.373Z"
   },
   {
    "duration": 7,
    "start_time": "2021-11-17T14:54:10.383Z"
   },
   {
    "duration": 9,
    "start_time": "2021-11-17T14:54:11.563Z"
   },
   {
    "duration": 4,
    "start_time": "2021-11-17T14:54:12.498Z"
   },
   {
    "duration": 4,
    "start_time": "2021-11-17T14:54:13.168Z"
   },
   {
    "duration": 1270,
    "start_time": "2021-11-17T14:54:18.388Z"
   },
   {
    "duration": 5,
    "start_time": "2021-11-17T14:55:56.504Z"
   },
   {
    "duration": 4,
    "start_time": "2021-11-17T14:55:58.362Z"
   },
   {
    "duration": 4,
    "start_time": "2021-11-17T14:55:59.203Z"
   },
   {
    "duration": 4,
    "start_time": "2021-11-17T14:55:59.943Z"
   },
   {
    "duration": 628,
    "start_time": "2021-11-17T14:56:02.683Z"
   },
   {
    "duration": 654,
    "start_time": "2021-11-17T14:56:09.253Z"
   },
   {
    "duration": 5,
    "start_time": "2021-11-18T04:56:58.767Z"
   },
   {
    "duration": 680,
    "start_time": "2021-11-18T04:57:01.125Z"
   },
   {
    "duration": 292,
    "start_time": "2021-11-18T04:57:38.435Z"
   },
   {
    "duration": 4,
    "start_time": "2021-11-18T05:01:25.988Z"
   },
   {
    "duration": 4,
    "start_time": "2021-11-18T05:01:27.582Z"
   },
   {
    "duration": 4,
    "start_time": "2021-11-18T05:01:29.601Z"
   },
   {
    "duration": 4,
    "start_time": "2021-11-18T05:01:30.181Z"
   },
   {
    "duration": 651,
    "start_time": "2021-11-18T05:01:34.946Z"
   },
   {
    "duration": 586,
    "start_time": "2021-11-18T05:01:36.095Z"
   },
   {
    "duration": 4,
    "start_time": "2021-11-18T05:05:49.389Z"
   },
   {
    "duration": 4,
    "start_time": "2021-11-18T05:05:50.824Z"
   },
   {
    "duration": 6,
    "start_time": "2021-11-18T05:05:51.287Z"
   },
   {
    "duration": 865,
    "start_time": "2021-11-18T05:05:53.633Z"
   },
   {
    "duration": 294,
    "start_time": "2021-11-18T05:10:03.450Z"
   },
   {
    "duration": 291,
    "start_time": "2021-11-18T05:10:14.135Z"
   },
   {
    "duration": 750,
    "start_time": "2021-11-18T05:10:30.795Z"
   },
   {
    "duration": 179,
    "start_time": "2021-11-18T05:10:36.289Z"
   },
   {
    "duration": 187,
    "start_time": "2021-11-18T05:10:40.363Z"
   },
   {
    "duration": 25,
    "start_time": "2021-11-18T05:10:42.816Z"
   },
   {
    "duration": 34,
    "start_time": "2021-11-18T05:10:49.030Z"
   },
   {
    "duration": 7,
    "start_time": "2021-11-18T05:10:58.434Z"
   },
   {
    "duration": 7,
    "start_time": "2021-11-18T05:11:00.105Z"
   },
   {
    "duration": 4,
    "start_time": "2021-11-18T05:11:03.333Z"
   },
   {
    "duration": 5,
    "start_time": "2021-11-18T05:11:05.489Z"
   },
   {
    "duration": 5,
    "start_time": "2021-11-18T05:11:08.179Z"
   },
   {
    "duration": 31,
    "start_time": "2021-11-18T05:11:11.259Z"
   },
   {
    "duration": 30,
    "start_time": "2021-11-18T05:11:12.829Z"
   },
   {
    "duration": 23,
    "start_time": "2021-11-18T05:11:16.325Z"
   },
   {
    "duration": 22,
    "start_time": "2021-11-18T05:11:18.401Z"
   },
   {
    "duration": 30,
    "start_time": "2021-11-18T05:11:21.622Z"
   },
   {
    "duration": 30,
    "start_time": "2021-11-18T05:11:23.251Z"
   },
   {
    "duration": 81,
    "start_time": "2021-11-18T05:11:26.178Z"
   },
   {
    "duration": 100,
    "start_time": "2021-11-18T05:11:28.790Z"
   },
   {
    "duration": 81,
    "start_time": "2021-11-18T05:11:31.550Z"
   },
   {
    "duration": 65,
    "start_time": "2021-11-18T05:11:35.389Z"
   },
   {
    "duration": 4,
    "start_time": "2021-11-18T05:11:47.151Z"
   },
   {
    "duration": 4,
    "start_time": "2021-11-18T05:11:48.487Z"
   },
   {
    "duration": 7,
    "start_time": "2021-11-18T05:11:59.189Z"
   },
   {
    "duration": 8,
    "start_time": "2021-11-18T05:12:46.161Z"
   },
   {
    "duration": 7,
    "start_time": "2021-11-18T05:12:48.019Z"
   },
   {
    "duration": 639,
    "start_time": "2021-11-18T05:12:51.704Z"
   },
   {
    "duration": 619,
    "start_time": "2021-11-18T05:12:53.507Z"
   },
   {
    "duration": 9,
    "start_time": "2021-11-18T05:13:22.165Z"
   },
   {
    "duration": 7,
    "start_time": "2021-11-18T05:13:23.149Z"
   },
   {
    "duration": 606,
    "start_time": "2021-11-18T05:13:26.589Z"
   },
   {
    "duration": 618,
    "start_time": "2021-11-18T05:13:28.425Z"
   },
   {
    "duration": 7,
    "start_time": "2021-11-18T05:13:58.934Z"
   },
   {
    "duration": 7,
    "start_time": "2021-11-18T05:14:00.230Z"
   },
   {
    "duration": 7,
    "start_time": "2021-11-18T05:14:00.986Z"
   },
   {
    "duration": 617,
    "start_time": "2021-11-18T05:14:06.915Z"
   },
   {
    "duration": 2696,
    "start_time": "2021-11-18T05:14:12.435Z"
   },
   {
    "duration": 7,
    "start_time": "2021-11-18T05:21:08.363Z"
   },
   {
    "duration": 7,
    "start_time": "2021-11-18T05:21:09.391Z"
   },
   {
    "duration": 605,
    "start_time": "2021-11-18T05:21:15.314Z"
   },
   {
    "duration": 636,
    "start_time": "2021-11-18T05:21:16.780Z"
   },
   {
    "duration": 4,
    "start_time": "2021-11-18T05:21:45.538Z"
   },
   {
    "duration": 4,
    "start_time": "2021-11-18T05:21:46.480Z"
   },
   {
    "duration": 578,
    "start_time": "2021-11-18T05:21:49.316Z"
   },
   {
    "duration": 4,
    "start_time": "2021-11-18T05:24:30.135Z"
   },
   {
    "duration": 5,
    "start_time": "2021-11-18T05:24:31.317Z"
   },
   {
    "duration": 873,
    "start_time": "2021-11-18T05:24:33.441Z"
   },
   {
    "duration": 290,
    "start_time": "2021-11-18T05:24:45.629Z"
   },
   {
    "duration": 4,
    "start_time": "2021-11-18T05:25:12.480Z"
   },
   {
    "duration": 4,
    "start_time": "2021-11-18T05:25:13.217Z"
   },
   {
    "duration": 649,
    "start_time": "2021-11-18T05:25:15.623Z"
   },
   {
    "duration": 309,
    "start_time": "2021-11-18T05:27:43.917Z"
   },
   {
    "duration": 298,
    "start_time": "2021-11-18T05:27:45.457Z"
   },
   {
    "duration": 324,
    "start_time": "2021-11-18T05:27:46.571Z"
   },
   {
    "duration": 405,
    "start_time": "2021-11-18T05:28:04.262Z"
   },
   {
    "duration": 3,
    "start_time": "2021-11-18T05:28:22.744Z"
   },
   {
    "duration": 253,
    "start_time": "2021-11-18T05:28:26.969Z"
   },
   {
    "duration": 16,
    "start_time": "2021-11-18T05:28:28.901Z"
   },
   {
    "duration": 35,
    "start_time": "2021-11-18T05:28:30.947Z"
   },
   {
    "duration": 6,
    "start_time": "2021-11-18T05:28:34.269Z"
   },
   {
    "duration": 5,
    "start_time": "2021-11-18T05:28:36.328Z"
   },
   {
    "duration": 5,
    "start_time": "2021-11-18T05:28:37.668Z"
   },
   {
    "duration": 32,
    "start_time": "2021-11-18T05:28:40.009Z"
   },
   {
    "duration": 23,
    "start_time": "2021-11-18T05:28:44.899Z"
   },
   {
    "duration": 39,
    "start_time": "2021-11-18T05:28:47.428Z"
   },
   {
    "duration": 124,
    "start_time": "2021-11-18T05:28:50.732Z"
   },
   {
    "duration": 131,
    "start_time": "2021-11-18T05:28:52.299Z"
   },
   {
    "duration": 105,
    "start_time": "2021-11-18T05:28:54.940Z"
   },
   {
    "duration": 102,
    "start_time": "2021-11-18T05:28:58.831Z"
   },
   {
    "duration": 5,
    "start_time": "2021-11-18T05:29:01.016Z"
   },
   {
    "duration": 887,
    "start_time": "2021-11-18T05:29:02.819Z"
   },
   {
    "duration": 295,
    "start_time": "2021-11-18T05:29:06.166Z"
   },
   {
    "duration": 4,
    "start_time": "2021-11-18T05:29:33.292Z"
   },
   {
    "duration": 4,
    "start_time": "2021-11-18T05:29:34.072Z"
   },
   {
    "duration": 587,
    "start_time": "2021-11-18T05:29:36.362Z"
   },
   {
    "duration": 4,
    "start_time": "2021-11-18T05:30:06.990Z"
   },
   {
    "duration": 592,
    "start_time": "2021-11-18T05:30:08.337Z"
   },
   {
    "duration": 4,
    "start_time": "2021-11-18T05:30:21.130Z"
   },
   {
    "duration": 198,
    "start_time": "2021-11-18T05:30:23.140Z"
   },
   {
    "duration": 16,
    "start_time": "2021-11-18T05:30:24.473Z"
   },
   {
    "duration": 30,
    "start_time": "2021-11-18T05:30:25.929Z"
   },
   {
    "duration": 5,
    "start_time": "2021-11-18T05:30:28.848Z"
   },
   {
    "duration": 4,
    "start_time": "2021-11-18T05:30:29.969Z"
   },
   {
    "duration": 5,
    "start_time": "2021-11-18T05:30:40.602Z"
   },
   {
    "duration": 31,
    "start_time": "2021-11-18T05:30:42.337Z"
   },
   {
    "duration": 22,
    "start_time": "2021-11-18T05:30:44.662Z"
   },
   {
    "duration": 29,
    "start_time": "2021-11-18T05:30:46.489Z"
   },
   {
    "duration": 81,
    "start_time": "2021-11-18T05:30:48.128Z"
   },
   {
    "duration": 89,
    "start_time": "2021-11-18T05:30:51.257Z"
   },
   {
    "duration": 74,
    "start_time": "2021-11-18T05:30:52.935Z"
   },
   {
    "duration": 62,
    "start_time": "2021-11-18T05:30:55.859Z"
   },
   {
    "duration": 5,
    "start_time": "2021-11-18T05:30:58.827Z"
   },
   {
    "duration": 677,
    "start_time": "2021-11-18T05:31:00.421Z"
   },
   {
    "duration": 5,
    "start_time": "2021-11-18T05:32:12.728Z"
   },
   {
    "duration": 591,
    "start_time": "2021-11-18T05:32:15.683Z"
   },
   {
    "duration": 607,
    "start_time": "2021-11-18T05:32:17.273Z"
   },
   {
    "duration": 4,
    "start_time": "2021-11-18T05:32:36.498Z"
   },
   {
    "duration": 593,
    "start_time": "2021-11-18T05:32:39.783Z"
   },
   {
    "duration": 311,
    "start_time": "2021-11-18T05:33:18.267Z"
   },
   {
    "duration": 323,
    "start_time": "2021-11-18T05:33:20.002Z"
   },
   {
    "duration": 335,
    "start_time": "2021-11-18T05:33:23.724Z"
   },
   {
    "duration": 4,
    "start_time": "2021-11-18T05:44:50.592Z"
   },
   {
    "duration": 4,
    "start_time": "2021-11-18T05:44:51.352Z"
   },
   {
    "duration": 624,
    "start_time": "2021-11-18T05:44:54.066Z"
   },
   {
    "duration": 4,
    "start_time": "2021-11-18T05:47:25.324Z"
   },
   {
    "duration": 4,
    "start_time": "2021-11-18T05:47:26.010Z"
   },
   {
    "duration": 609,
    "start_time": "2021-11-18T05:47:28.064Z"
   },
   {
    "duration": 4,
    "start_time": "2021-11-18T05:47:55.252Z"
   },
   {
    "duration": 575,
    "start_time": "2021-11-18T05:47:57.932Z"
   },
   {
    "duration": 648,
    "start_time": "2021-11-18T05:47:59.450Z"
   },
   {
    "duration": 4,
    "start_time": "2021-11-18T05:53:10.248Z"
   },
   {
    "duration": 600,
    "start_time": "2021-11-18T05:53:13.748Z"
   },
   {
    "duration": 5,
    "start_time": "2021-11-18T05:54:01.702Z"
   },
   {
    "duration": 627,
    "start_time": "2021-11-18T05:54:06.961Z"
   },
   {
    "duration": 1159,
    "start_time": "2021-11-18T05:54:08.588Z"
   },
   {
    "duration": 4,
    "start_time": "2021-11-18T05:54:31.958Z"
   },
   {
    "duration": 5,
    "start_time": "2021-11-18T05:54:33.132Z"
   },
   {
    "duration": 5,
    "start_time": "2021-11-18T05:54:33.880Z"
   },
   {
    "duration": 592,
    "start_time": "2021-11-18T05:54:36.595Z"
   },
   {
    "duration": 654,
    "start_time": "2021-11-18T05:54:37.988Z"
   },
   {
    "duration": 4,
    "start_time": "2021-11-18T05:55:04.519Z"
   },
   {
    "duration": 4,
    "start_time": "2021-11-18T05:55:05.444Z"
   },
   {
    "duration": 4,
    "start_time": "2021-11-18T05:55:06.040Z"
   },
   {
    "duration": 587,
    "start_time": "2021-11-18T05:55:08.684Z"
   },
   {
    "duration": 577,
    "start_time": "2021-11-18T05:55:10.084Z"
   },
   {
    "duration": 4,
    "start_time": "2021-11-18T05:55:54.692Z"
   },
   {
    "duration": 600,
    "start_time": "2021-11-18T05:55:57.170Z"
   },
   {
    "duration": 5,
    "start_time": "2021-11-18T05:56:38.803Z"
   },
   {
    "duration": 608,
    "start_time": "2021-11-18T05:56:40.987Z"
   },
   {
    "duration": 4,
    "start_time": "2021-11-18T05:56:56.839Z"
   },
   {
    "duration": 4,
    "start_time": "2021-11-18T05:56:57.474Z"
   },
   {
    "duration": 630,
    "start_time": "2021-11-18T05:57:01.129Z"
   },
   {
    "duration": 4,
    "start_time": "2021-11-18T05:57:17.169Z"
   },
   {
    "duration": 624,
    "start_time": "2021-11-18T05:57:20.083Z"
   },
   {
    "duration": 7,
    "start_time": "2021-11-18T05:57:32.918Z"
   },
   {
    "duration": 769,
    "start_time": "2021-11-18T07:15:12.740Z"
   },
   {
    "duration": 179,
    "start_time": "2021-11-18T07:15:15.025Z"
   },
   {
    "duration": 25,
    "start_time": "2021-11-18T07:15:18.295Z"
   },
   {
    "duration": 32,
    "start_time": "2021-11-18T07:15:26.341Z"
   },
   {
    "duration": 124,
    "start_time": "2021-11-18T07:15:30.645Z"
   },
   {
    "duration": 21,
    "start_time": "2021-11-18T07:15:43.135Z"
   },
   {
    "duration": 4,
    "start_time": "2021-11-18T07:15:46.695Z"
   },
   {
    "duration": 8,
    "start_time": "2021-11-18T07:15:48.830Z"
   },
   {
    "duration": 30,
    "start_time": "2021-11-18T07:15:53.100Z"
   },
   {
    "duration": 26,
    "start_time": "2021-11-18T07:15:59.270Z"
   },
   {
    "duration": 22,
    "start_time": "2021-11-18T07:16:09.762Z"
   },
   {
    "duration": 33,
    "start_time": "2021-11-18T07:16:10.644Z"
   },
   {
    "duration": 30,
    "start_time": "2021-11-18T07:16:16.072Z"
   },
   {
    "duration": 31,
    "start_time": "2021-11-18T07:16:16.989Z"
   },
   {
    "duration": 98,
    "start_time": "2021-11-18T07:16:22.585Z"
   },
   {
    "duration": 94,
    "start_time": "2021-11-18T07:16:23.408Z"
   },
   {
    "duration": 75,
    "start_time": "2021-11-18T07:16:26.187Z"
   },
   {
    "duration": 70,
    "start_time": "2021-11-18T07:16:31.764Z"
   },
   {
    "duration": 402,
    "start_time": "2021-11-18T07:16:32.743Z"
   },
   {
    "duration": 304,
    "start_time": "2021-11-18T07:16:57.148Z"
   },
   {
    "duration": 377,
    "start_time": "2021-11-18T07:16:59.687Z"
   },
   {
    "duration": 359,
    "start_time": "2021-11-18T07:17:11.704Z"
   },
   {
    "duration": 4,
    "start_time": "2021-11-18T07:17:27.215Z"
   },
   {
    "duration": 191,
    "start_time": "2021-11-18T07:17:30.781Z"
   },
   {
    "duration": 18,
    "start_time": "2021-11-18T07:17:34.182Z"
   },
   {
    "duration": 32,
    "start_time": "2021-11-18T07:17:37.807Z"
   },
   {
    "duration": 32,
    "start_time": "2021-11-18T07:18:09.362Z"
   },
   {
    "duration": 7,
    "start_time": "2021-11-18T07:18:16.145Z"
   },
   {
    "duration": 4,
    "start_time": "2021-11-18T07:18:19.610Z"
   },
   {
    "duration": 4,
    "start_time": "2021-11-18T07:18:20.969Z"
   },
   {
    "duration": 5,
    "start_time": "2021-11-18T07:18:24.308Z"
   },
   {
    "duration": 29,
    "start_time": "2021-11-18T07:18:27.235Z"
   },
   {
    "duration": 22,
    "start_time": "2021-11-18T07:18:31.907Z"
   },
   {
    "duration": 30,
    "start_time": "2021-11-18T07:18:34.497Z"
   },
   {
    "duration": 86,
    "start_time": "2021-11-18T07:18:37.761Z"
   },
   {
    "duration": 102,
    "start_time": "2021-11-18T07:18:40.554Z"
   },
   {
    "duration": 75,
    "start_time": "2021-11-18T07:18:46.532Z"
   },
   {
    "duration": 63,
    "start_time": "2021-11-18T07:18:49.825Z"
   },
   {
    "duration": 6,
    "start_time": "2021-11-18T07:22:59.395Z"
   },
   {
    "duration": 7,
    "start_time": "2021-11-18T07:23:00.391Z"
   },
   {
    "duration": 300,
    "start_time": "2021-11-18T07:23:12.503Z"
   },
   {
    "duration": 340,
    "start_time": "2021-11-18T07:23:30.975Z"
   },
   {
    "duration": 307,
    "start_time": "2021-11-18T07:23:33.405Z"
   },
   {
    "duration": 323,
    "start_time": "2021-11-18T07:23:34.636Z"
   },
   {
    "duration": 321,
    "start_time": "2021-11-18T07:25:05.058Z"
   },
   {
    "duration": 325,
    "start_time": "2021-11-18T07:25:07.964Z"
   },
   {
    "duration": 342,
    "start_time": "2021-11-18T07:25:10.354Z"
   },
   {
    "duration": 588,
    "start_time": "2021-11-18T07:25:13.738Z"
   },
   {
    "duration": 587,
    "start_time": "2021-11-18T07:25:15.140Z"
   },
   {
    "duration": 301,
    "start_time": "2021-11-18T07:32:13.436Z"
   },
   {
    "duration": 458,
    "start_time": "2021-11-18T07:32:14.476Z"
   },
   {
    "duration": 498,
    "start_time": "2021-11-18T07:41:10.873Z"
   },
   {
    "duration": 471,
    "start_time": "2021-11-18T07:41:12.174Z"
   },
   {
    "duration": 312,
    "start_time": "2021-11-18T07:52:39.703Z"
   },
   {
    "duration": 304,
    "start_time": "2021-11-18T07:52:41.159Z"
   },
   {
    "duration": 318,
    "start_time": "2021-11-18T07:52:42.166Z"
   },
   {
    "duration": 299,
    "start_time": "2021-11-18T07:52:43.114Z"
   },
   {
    "duration": 307,
    "start_time": "2021-11-18T07:52:44.456Z"
   },
   {
    "duration": 299,
    "start_time": "2021-11-18T07:52:46.404Z"
   },
   {
    "duration": 354,
    "start_time": "2021-11-18T07:52:51.227Z"
   },
   {
    "duration": 328,
    "start_time": "2021-11-18T07:52:52.880Z"
   },
   {
    "duration": 300,
    "start_time": "2021-11-18T07:52:54.311Z"
   },
   {
    "duration": 628,
    "start_time": "2021-11-18T07:53:01.286Z"
   },
   {
    "duration": 4,
    "start_time": "2021-11-18T07:53:10.614Z"
   },
   {
    "duration": 4,
    "start_time": "2021-11-18T07:53:12.429Z"
   },
   {
    "duration": 4,
    "start_time": "2021-11-18T07:53:13.360Z"
   },
   {
    "duration": 5,
    "start_time": "2021-11-18T07:53:14.769Z"
   },
   {
    "duration": 4,
    "start_time": "2021-11-18T07:53:15.342Z"
   },
   {
    "duration": 593,
    "start_time": "2021-11-18T07:53:17.742Z"
   },
   {
    "duration": 598,
    "start_time": "2021-11-18T07:53:19.241Z"
   },
   {
    "duration": 4,
    "start_time": "2021-11-18T07:57:22.388Z"
   },
   {
    "duration": 183,
    "start_time": "2021-11-18T07:57:25.073Z"
   },
   {
    "duration": 15,
    "start_time": "2021-11-18T07:57:27.609Z"
   },
   {
    "duration": 31,
    "start_time": "2021-11-18T07:57:29.699Z"
   },
   {
    "duration": 118,
    "start_time": "2021-11-18T07:57:30.548Z"
   },
   {
    "duration": 6,
    "start_time": "2021-11-18T07:57:37.089Z"
   },
   {
    "duration": 4,
    "start_time": "2021-11-18T07:57:39.583Z"
   },
   {
    "duration": 5,
    "start_time": "2021-11-18T07:57:40.677Z"
   },
   {
    "duration": 31,
    "start_time": "2021-11-18T07:57:42.019Z"
   },
   {
    "duration": 22,
    "start_time": "2021-11-18T07:57:44.111Z"
   },
   {
    "duration": 29,
    "start_time": "2021-11-18T07:57:45.658Z"
   },
   {
    "duration": 89,
    "start_time": "2021-11-18T07:57:47.048Z"
   },
   {
    "duration": 97,
    "start_time": "2021-11-18T07:57:48.562Z"
   },
   {
    "duration": 76,
    "start_time": "2021-11-18T07:57:50.117Z"
   },
   {
    "duration": 61,
    "start_time": "2021-11-18T07:57:52.917Z"
   },
   {
    "duration": 4,
    "start_time": "2021-11-18T07:57:56.141Z"
   },
   {
    "duration": 608,
    "start_time": "2021-11-18T07:57:57.876Z"
   },
   {
    "duration": 5,
    "start_time": "2021-11-18T07:58:13.140Z"
   },
   {
    "duration": 4,
    "start_time": "2021-11-18T07:58:13.934Z"
   },
   {
    "duration": 4,
    "start_time": "2021-11-18T07:58:14.601Z"
   },
   {
    "duration": 4,
    "start_time": "2021-11-18T07:58:15.159Z"
   },
   {
    "duration": 668,
    "start_time": "2021-11-18T07:58:18.183Z"
   },
   {
    "duration": 116,
    "start_time": "2021-11-18T08:08:02.433Z"
   },
   {
    "duration": 114,
    "start_time": "2021-11-18T08:08:04.014Z"
   },
   {
    "duration": 100,
    "start_time": "2021-11-18T08:08:05.409Z"
   },
   {
    "duration": 313,
    "start_time": "2021-11-18T08:08:27.390Z"
   },
   {
    "duration": 318,
    "start_time": "2021-11-18T08:08:31.083Z"
   },
   {
    "duration": 307,
    "start_time": "2021-11-18T08:08:33.786Z"
   },
   {
    "duration": 301,
    "start_time": "2021-11-18T08:08:47.618Z"
   },
   {
    "duration": 304,
    "start_time": "2021-11-18T08:08:49.068Z"
   },
   {
    "duration": 360,
    "start_time": "2021-11-18T08:08:50.608Z"
   },
   {
    "duration": 4,
    "start_time": "2021-11-18T08:08:59.183Z"
   },
   {
    "duration": 3,
    "start_time": "2021-11-18T08:09:00.380Z"
   },
   {
    "duration": 3,
    "start_time": "2021-11-18T08:09:01.188Z"
   },
   {
    "duration": 4,
    "start_time": "2021-11-18T08:09:20.505Z"
   },
   {
    "duration": 185,
    "start_time": "2021-11-18T08:09:22.048Z"
   },
   {
    "duration": 16,
    "start_time": "2021-11-18T08:09:25.215Z"
   },
   {
    "duration": 32,
    "start_time": "2021-11-18T08:09:29.661Z"
   },
   {
    "duration": 5,
    "start_time": "2021-11-18T08:09:42.500Z"
   },
   {
    "duration": 5,
    "start_time": "2021-11-18T08:09:44.527Z"
   },
   {
    "duration": 6,
    "start_time": "2021-11-18T08:09:46.500Z"
   },
   {
    "duration": 31,
    "start_time": "2021-11-18T08:09:48.180Z"
   },
   {
    "duration": 30,
    "start_time": "2021-11-18T08:09:50.483Z"
   },
   {
    "duration": 45,
    "start_time": "2021-11-18T08:09:52.368Z"
   },
   {
    "duration": 88,
    "start_time": "2021-11-18T08:09:53.867Z"
   },
   {
    "duration": 109,
    "start_time": "2021-11-18T08:09:55.519Z"
   },
   {
    "duration": 74,
    "start_time": "2021-11-18T08:09:57.056Z"
   },
   {
    "duration": 63,
    "start_time": "2021-11-18T08:09:59.873Z"
   },
   {
    "duration": 5,
    "start_time": "2021-11-18T08:10:09.993Z"
   },
   {
    "duration": 613,
    "start_time": "2021-11-18T08:10:12.586Z"
   },
   {
    "duration": 4,
    "start_time": "2021-11-18T08:10:57.393Z"
   },
   {
    "duration": 650,
    "start_time": "2021-11-18T08:10:58.607Z"
   },
   {
    "duration": 333,
    "start_time": "2021-11-18T08:10:59.933Z"
   },
   {
    "duration": 4,
    "start_time": "2021-11-18T08:11:15.023Z"
   },
   {
    "duration": 183,
    "start_time": "2021-11-18T08:11:16.338Z"
   },
   {
    "duration": 17,
    "start_time": "2021-11-18T08:11:17.798Z"
   },
   {
    "duration": 32,
    "start_time": "2021-11-18T08:11:19.238Z"
   },
   {
    "duration": 5,
    "start_time": "2021-11-18T08:11:22.663Z"
   },
   {
    "duration": 4,
    "start_time": "2021-11-18T08:11:24.103Z"
   },
   {
    "duration": 6,
    "start_time": "2021-11-18T08:11:25.438Z"
   },
   {
    "duration": 31,
    "start_time": "2021-11-18T08:11:26.826Z"
   },
   {
    "duration": 23,
    "start_time": "2021-11-18T08:11:29.927Z"
   },
   {
    "duration": 29,
    "start_time": "2021-11-18T08:11:31.961Z"
   },
   {
    "duration": 80,
    "start_time": "2021-11-18T08:11:33.503Z"
   },
   {
    "duration": 99,
    "start_time": "2021-11-18T08:11:34.969Z"
   },
   {
    "duration": 76,
    "start_time": "2021-11-18T08:11:36.481Z"
   },
   {
    "duration": 62,
    "start_time": "2021-11-18T08:11:39.990Z"
   },
   {
    "duration": 4,
    "start_time": "2021-11-18T08:11:42.772Z"
   },
   {
    "duration": 578,
    "start_time": "2021-11-18T08:11:45.833Z"
   },
   {
    "duration": 313,
    "start_time": "2021-11-18T08:11:53.675Z"
   },
   {
    "duration": 4,
    "start_time": "2021-11-18T08:12:17.404Z"
   },
   {
    "duration": 323,
    "start_time": "2021-11-18T08:23:47.024Z"
   },
   {
    "duration": 349,
    "start_time": "2021-11-18T08:23:48.384Z"
   },
   {
    "duration": 3,
    "start_time": "2021-11-18T08:24:03.411Z"
   },
   {
    "duration": 194,
    "start_time": "2021-11-18T08:24:04.961Z"
   },
   {
    "duration": 16,
    "start_time": "2021-11-18T08:24:09.459Z"
   },
   {
    "duration": 31,
    "start_time": "2021-11-18T08:24:11.892Z"
   },
   {
    "duration": 5,
    "start_time": "2021-11-18T08:24:15.709Z"
   },
   {
    "duration": 4,
    "start_time": "2021-11-18T08:24:17.826Z"
   },
   {
    "duration": 5,
    "start_time": "2021-11-18T08:24:19.880Z"
   },
   {
    "duration": 44,
    "start_time": "2021-11-18T08:24:21.573Z"
   },
   {
    "duration": 94,
    "start_time": "2021-11-18T08:24:24.730Z"
   },
   {
    "duration": 32,
    "start_time": "2021-11-18T08:25:04.970Z"
   },
   {
    "duration": 65,
    "start_time": "2021-11-18T08:25:28.025Z"
   },
   {
    "duration": 62,
    "start_time": "2021-11-18T08:25:37.137Z"
   },
   {
    "duration": 30,
    "start_time": "2021-11-18T08:25:41.224Z"
   },
   {
    "duration": 83,
    "start_time": "2021-11-18T08:25:44.234Z"
   },
   {
    "duration": 93,
    "start_time": "2021-11-18T08:25:47.006Z"
   },
   {
    "duration": 76,
    "start_time": "2021-11-18T08:25:49.363Z"
   },
   {
    "duration": 62,
    "start_time": "2021-11-18T08:25:53.013Z"
   },
   {
    "duration": 4,
    "start_time": "2021-11-18T08:25:57.536Z"
   },
   {
    "duration": 634,
    "start_time": "2021-11-18T08:25:59.703Z"
   },
   {
    "duration": 5,
    "start_time": "2021-11-18T08:35:30.259Z"
   },
   {
    "duration": 5,
    "start_time": "2021-11-18T08:35:31.713Z"
   },
   {
    "duration": 6,
    "start_time": "2021-11-18T08:35:32.525Z"
   },
   {
    "duration": 5,
    "start_time": "2021-11-18T08:35:33.154Z"
   },
   {
    "duration": 640,
    "start_time": "2021-11-18T08:35:35.376Z"
   },
   {
    "duration": 686,
    "start_time": "2021-11-18T08:35:44.187Z"
   },
   {
    "duration": 602,
    "start_time": "2021-11-18T08:35:46.003Z"
   },
   {
    "duration": 600,
    "start_time": "2021-11-18T08:35:47.512Z"
   },
   {
    "duration": 4,
    "start_time": "2021-11-18T08:36:07.539Z"
   },
   {
    "duration": 4,
    "start_time": "2021-11-18T08:36:08.461Z"
   },
   {
    "duration": 673,
    "start_time": "2021-11-18T08:36:11.316Z"
   },
   {
    "duration": 596,
    "start_time": "2021-11-18T08:36:12.831Z"
   },
   {
    "duration": 743,
    "start_time": "2021-11-18T08:36:14.663Z"
   },
   {
    "duration": 311,
    "start_time": "2021-11-18T08:36:40.271Z"
   },
   {
    "duration": 6,
    "start_time": "2021-11-18T08:36:57.860Z"
   },
   {
    "duration": 658,
    "start_time": "2021-11-18T08:37:00.938Z"
   },
   {
    "duration": 750,
    "start_time": "2021-11-18T08:37:31.641Z"
   },
   {
    "duration": 615,
    "start_time": "2021-11-18T08:37:33.256Z"
   },
   {
    "duration": 3,
    "start_time": "2021-11-18T08:44:47.876Z"
   },
   {
    "duration": 191,
    "start_time": "2021-11-18T08:44:49.310Z"
   },
   {
    "duration": 15,
    "start_time": "2021-11-18T08:44:50.233Z"
   },
   {
    "duration": 31,
    "start_time": "2021-11-18T08:44:51.446Z"
   },
   {
    "duration": 5,
    "start_time": "2021-11-18T08:44:59.750Z"
   },
   {
    "duration": 5,
    "start_time": "2021-11-18T08:45:04.840Z"
   },
   {
    "duration": 5,
    "start_time": "2021-11-18T08:45:08.312Z"
   },
   {
    "duration": 51,
    "start_time": "2021-11-18T08:45:12.113Z"
   },
   {
    "duration": 67,
    "start_time": "2021-11-18T08:45:22.020Z"
   },
   {
    "duration": 32,
    "start_time": "2021-11-18T08:45:28.673Z"
   },
   {
    "duration": 117,
    "start_time": "2021-11-18T08:45:31.305Z"
   },
   {
    "duration": 125,
    "start_time": "2021-11-18T08:45:35.940Z"
   },
   {
    "duration": 117,
    "start_time": "2021-11-18T08:45:37.873Z"
   },
   {
    "duration": 107,
    "start_time": "2021-11-18T08:45:44.514Z"
   },
   {
    "duration": 5,
    "start_time": "2021-11-18T08:46:02.407Z"
   },
   {
    "duration": 671,
    "start_time": "2021-11-18T08:46:05.551Z"
   },
   {
    "duration": 1085,
    "start_time": "2021-11-18T08:46:34.730Z"
   },
   {
    "duration": 5,
    "start_time": "2021-11-18T08:47:56.312Z"
   },
   {
    "duration": 969,
    "start_time": "2021-11-18T08:48:08.710Z"
   },
   {
    "duration": 835,
    "start_time": "2021-11-18T08:48:51.544Z"
   },
   {
    "duration": 5,
    "start_time": "2021-11-18T08:49:08.056Z"
   },
   {
    "duration": 908,
    "start_time": "2021-11-18T08:49:41.311Z"
   },
   {
    "duration": 610,
    "start_time": "2021-11-18T08:49:58.456Z"
   },
   {
    "duration": 3240,
    "start_time": "2021-11-18T08:52:03.252Z"
   },
   {
    "duration": 380,
    "start_time": "2021-11-18T08:53:02.577Z"
   },
   {
    "duration": 180,
    "start_time": "2021-11-18T08:53:15.778Z"
   },
   {
    "duration": 16,
    "start_time": "2021-11-18T08:53:20.867Z"
   },
   {
    "duration": 33,
    "start_time": "2021-11-18T08:53:25.158Z"
   },
   {
    "duration": 6,
    "start_time": "2021-11-18T08:53:30.612Z"
   },
   {
    "duration": 4,
    "start_time": "2021-11-18T08:53:34.440Z"
   },
   {
    "duration": 7,
    "start_time": "2021-11-18T08:53:36.956Z"
   },
   {
    "duration": 30,
    "start_time": "2021-11-18T08:53:39.792Z"
   },
   {
    "duration": 63,
    "start_time": "2021-11-18T08:53:43.691Z"
   },
   {
    "duration": 31,
    "start_time": "2021-11-18T08:53:52.304Z"
   },
   {
    "duration": 108,
    "start_time": "2021-11-18T08:53:56.921Z"
   },
   {
    "duration": 87,
    "start_time": "2021-11-18T08:53:59.519Z"
   },
   {
    "duration": 77,
    "start_time": "2021-11-18T08:54:01.378Z"
   },
   {
    "duration": 57,
    "start_time": "2021-11-18T08:54:45.506Z"
   },
   {
    "duration": 49,
    "start_time": "2021-11-18T08:58:16.634Z"
   },
   {
    "duration": 73,
    "start_time": "2021-11-18T08:59:27.474Z"
   },
   {
    "duration": 14,
    "start_time": "2021-11-18T08:59:36.966Z"
   },
   {
    "duration": 15,
    "start_time": "2021-11-18T08:59:42.196Z"
   },
   {
    "duration": 5,
    "start_time": "2021-11-18T08:59:54.110Z"
   },
   {
    "duration": 600,
    "start_time": "2021-11-18T08:59:57.469Z"
   },
   {
    "duration": 4,
    "start_time": "2021-11-18T09:00:05.236Z"
   },
   {
    "duration": 315,
    "start_time": "2021-11-18T09:00:43.310Z"
   },
   {
    "duration": 473,
    "start_time": "2021-11-18T09:01:05.556Z"
   },
   {
    "duration": 375,
    "start_time": "2021-11-18T09:01:57.606Z"
   },
   {
    "duration": 5,
    "start_time": "2021-11-18T09:02:14.009Z"
   },
   {
    "duration": 792,
    "start_time": "2021-11-18T09:02:17.080Z"
   },
   {
    "duration": 840,
    "start_time": "2021-11-18T09:03:38.390Z"
   },
   {
    "duration": 4,
    "start_time": "2021-11-18T09:03:52.987Z"
   },
   {
    "duration": 1150,
    "start_time": "2021-11-18T09:03:56.276Z"
   },
   {
    "duration": 5,
    "start_time": "2021-11-18T09:04:34.709Z"
   },
   {
    "duration": 651,
    "start_time": "2021-11-18T09:04:38.635Z"
   },
   {
    "duration": 649,
    "start_time": "2021-11-18T09:05:46.764Z"
   },
   {
    "duration": 4,
    "start_time": "2021-11-18T09:05:53.705Z"
   },
   {
    "duration": 813,
    "start_time": "2021-11-18T09:05:55.357Z"
   },
   {
    "duration": 4,
    "start_time": "2021-11-18T09:06:16.158Z"
   },
   {
    "duration": 29,
    "start_time": "2021-11-18T09:06:19.330Z"
   },
   {
    "duration": 5,
    "start_time": "2021-11-18T09:08:15.542Z"
   },
   {
    "duration": 28,
    "start_time": "2021-11-18T09:08:19.287Z"
   },
   {
    "duration": 313,
    "start_time": "2021-11-18T09:08:26.969Z"
   },
   {
    "duration": 25,
    "start_time": "2021-11-18T09:08:46.082Z"
   },
   {
    "duration": 6,
    "start_time": "2021-11-18T09:09:12.993Z"
   },
   {
    "duration": 31,
    "start_time": "2021-11-18T09:09:15.531Z"
   },
   {
    "duration": 28,
    "start_time": "2021-11-18T09:09:18.652Z"
   },
   {
    "duration": 18,
    "start_time": "2021-11-18T09:09:22.177Z"
   },
   {
    "duration": 18,
    "start_time": "2021-11-18T09:09:28.558Z"
   },
   {
    "duration": 25,
    "start_time": "2021-11-18T09:09:36.570Z"
   },
   {
    "duration": 21,
    "start_time": "2021-11-18T09:09:43.617Z"
   },
   {
    "duration": 12,
    "start_time": "2021-11-18T09:09:53.241Z"
   },
   {
    "duration": 15,
    "start_time": "2021-11-18T09:10:10.668Z"
   },
   {
    "duration": 12,
    "start_time": "2021-11-18T09:10:13.525Z"
   },
   {
    "duration": 5,
    "start_time": "2021-11-18T09:10:18.535Z"
   },
   {
    "duration": 28,
    "start_time": "2021-11-18T09:10:23.258Z"
   },
   {
    "duration": 33,
    "start_time": "2021-11-18T09:10:26.879Z"
   },
   {
    "duration": 31,
    "start_time": "2021-11-18T09:10:30.748Z"
   },
   {
    "duration": 30,
    "start_time": "2021-11-18T09:10:36.353Z"
   },
   {
    "duration": 16,
    "start_time": "2021-11-18T09:10:44.981Z"
   },
   {
    "duration": 9,
    "start_time": "2021-11-18T09:10:48.714Z"
   },
   {
    "duration": 10,
    "start_time": "2021-11-18T09:10:53.078Z"
   },
   {
    "duration": 7,
    "start_time": "2021-11-18T09:10:57.607Z"
   },
   {
    "duration": 616,
    "start_time": "2021-11-18T11:30:31.819Z"
   },
   {
    "duration": 140,
    "start_time": "2021-11-18T11:30:32.437Z"
   },
   {
    "duration": 30,
    "start_time": "2021-11-18T11:30:32.579Z"
   },
   {
    "duration": 26,
    "start_time": "2021-11-18T11:30:32.611Z"
   },
   {
    "duration": 9,
    "start_time": "2021-11-18T11:30:32.639Z"
   },
   {
    "duration": 15,
    "start_time": "2021-11-18T11:30:32.650Z"
   },
   {
    "duration": 39,
    "start_time": "2021-11-18T11:30:32.667Z"
   },
   {
    "duration": 24,
    "start_time": "2021-11-18T11:30:32.709Z"
   },
   {
    "duration": 80,
    "start_time": "2021-11-18T11:30:32.735Z"
   },
   {
    "duration": 24,
    "start_time": "2021-11-18T11:30:32.816Z"
   },
   {
    "duration": 73,
    "start_time": "2021-11-18T11:30:32.862Z"
   },
   {
    "duration": 79,
    "start_time": "2021-11-18T11:30:32.937Z"
   },
   {
    "duration": 56,
    "start_time": "2021-11-18T11:30:33.018Z"
   },
   {
    "duration": 59,
    "start_time": "2021-11-18T11:30:33.076Z"
   },
   {
    "duration": 6,
    "start_time": "2021-11-18T11:30:33.139Z"
   },
   {
    "duration": 95,
    "start_time": "2021-11-18T11:30:33.148Z"
   },
   {
    "duration": 167,
    "start_time": "2021-11-18T11:30:33.247Z"
   },
   {
    "duration": 24,
    "start_time": "2021-11-18T11:30:33.418Z"
   },
   {
    "duration": 24,
    "start_time": "2021-11-18T11:30:33.445Z"
   },
   {
    "duration": 7,
    "start_time": "2021-11-18T11:30:33.473Z"
   },
   {
    "duration": 32,
    "start_time": "2021-11-18T11:30:33.506Z"
   },
   {
    "duration": 27,
    "start_time": "2021-11-18T11:30:33.542Z"
   },
   {
    "duration": 46,
    "start_time": "2021-11-18T11:30:33.577Z"
   },
   {
    "duration": 19,
    "start_time": "2021-11-18T11:30:33.625Z"
   },
   {
    "duration": 23,
    "start_time": "2021-11-18T11:30:33.646Z"
   },
   {
    "duration": 53,
    "start_time": "2021-11-18T11:30:33.673Z"
   },
   {
    "duration": 23,
    "start_time": "2021-11-18T11:30:33.729Z"
   },
   {
    "duration": 24,
    "start_time": "2021-11-18T11:30:33.755Z"
   },
   {
    "duration": 24,
    "start_time": "2021-11-18T11:30:33.781Z"
   },
   {
    "duration": 19,
    "start_time": "2021-11-18T11:30:33.807Z"
   },
   {
    "duration": 43,
    "start_time": "2021-11-18T11:30:33.828Z"
   },
   {
    "duration": 23,
    "start_time": "2021-11-18T11:30:33.873Z"
   },
   {
    "duration": 23,
    "start_time": "2021-11-18T11:30:33.898Z"
   },
   {
    "duration": 24,
    "start_time": "2021-11-18T11:30:33.923Z"
   },
   {
    "duration": 9,
    "start_time": "2021-11-18T11:30:33.949Z"
   },
   {
    "duration": 13,
    "start_time": "2021-11-18T11:30:33.960Z"
   },
   {
    "duration": 31,
    "start_time": "2021-11-18T11:30:33.975Z"
   },
   {
    "duration": 18,
    "start_time": "2021-11-18T11:30:34.008Z"
   },
   {
    "duration": 3,
    "start_time": "2021-11-18T11:52:35.212Z"
   },
   {
    "duration": 196,
    "start_time": "2021-11-18T11:52:35.217Z"
   },
   {
    "duration": 10,
    "start_time": "2021-11-18T11:52:35.415Z"
   },
   {
    "duration": 31,
    "start_time": "2021-11-18T11:52:35.427Z"
   },
   {
    "duration": 8,
    "start_time": "2021-11-18T11:52:35.460Z"
   },
   {
    "duration": 38,
    "start_time": "2021-11-18T11:52:35.470Z"
   },
   {
    "duration": 13,
    "start_time": "2021-11-18T11:52:35.511Z"
   },
   {
    "duration": 36,
    "start_time": "2021-11-18T11:52:35.526Z"
   },
   {
    "duration": 75,
    "start_time": "2021-11-18T11:52:35.563Z"
   },
   {
    "duration": 22,
    "start_time": "2021-11-18T11:52:35.640Z"
   },
   {
    "duration": 93,
    "start_time": "2021-11-18T11:52:35.664Z"
   },
   {
    "duration": 93,
    "start_time": "2021-11-18T11:52:35.758Z"
   },
   {
    "duration": 64,
    "start_time": "2021-11-18T11:52:35.853Z"
   },
   {
    "duration": 42,
    "start_time": "2021-11-18T11:52:35.919Z"
   },
   {
    "duration": 3,
    "start_time": "2021-11-18T11:52:35.963Z"
   },
   {
    "duration": 64,
    "start_time": "2021-11-18T11:52:35.967Z"
   },
   {
    "duration": 109,
    "start_time": "2021-11-18T11:52:36.033Z"
   },
   {
    "duration": 14,
    "start_time": "2021-11-18T11:52:36.144Z"
   },
   {
    "duration": 13,
    "start_time": "2021-11-18T11:52:36.162Z"
   },
   {
    "duration": 4,
    "start_time": "2021-11-18T11:52:36.178Z"
   },
   {
    "duration": 21,
    "start_time": "2021-11-18T11:52:36.206Z"
   },
   {
    "duration": 18,
    "start_time": "2021-11-18T11:52:36.229Z"
   },
   {
    "duration": 18,
    "start_time": "2021-11-18T11:52:36.249Z"
   },
   {
    "duration": 38,
    "start_time": "2021-11-18T11:52:36.270Z"
   },
   {
    "duration": 16,
    "start_time": "2021-11-18T11:52:36.310Z"
   },
   {
    "duration": 24,
    "start_time": "2021-11-18T11:52:36.328Z"
   },
   {
    "duration": 15,
    "start_time": "2021-11-18T11:52:36.355Z"
   },
   {
    "duration": 40,
    "start_time": "2021-11-18T11:52:36.372Z"
   },
   {
    "duration": 17,
    "start_time": "2021-11-18T11:52:36.415Z"
   },
   {
    "duration": 7,
    "start_time": "2021-11-18T11:52:36.435Z"
   },
   {
    "duration": 41,
    "start_time": "2021-11-18T11:52:36.445Z"
   },
   {
    "duration": 39,
    "start_time": "2021-11-18T11:52:36.505Z"
   },
   {
    "duration": 38,
    "start_time": "2021-11-18T11:52:36.547Z"
   },
   {
    "duration": 54,
    "start_time": "2021-11-18T11:52:36.587Z"
   },
   {
    "duration": 14,
    "start_time": "2021-11-18T11:52:36.644Z"
   },
   {
    "duration": 7,
    "start_time": "2021-11-18T11:52:36.660Z"
   },
   {
    "duration": 37,
    "start_time": "2021-11-18T11:52:36.670Z"
   },
   {
    "duration": 7,
    "start_time": "2021-11-18T11:52:36.709Z"
   },
   {
    "duration": 680,
    "start_time": "2021-11-18T11:55:50.767Z"
   },
   {
    "duration": 146,
    "start_time": "2021-11-18T11:55:51.449Z"
   },
   {
    "duration": 23,
    "start_time": "2021-11-18T11:55:51.597Z"
   },
   {
    "duration": 50,
    "start_time": "2021-11-18T11:55:51.622Z"
   },
   {
    "duration": 17,
    "start_time": "2021-11-18T11:55:51.674Z"
   },
   {
    "duration": 14,
    "start_time": "2021-11-18T11:55:51.693Z"
   },
   {
    "duration": 17,
    "start_time": "2021-11-18T11:55:51.710Z"
   },
   {
    "duration": 41,
    "start_time": "2021-11-18T11:55:51.729Z"
   },
   {
    "duration": 90,
    "start_time": "2021-11-18T11:55:51.773Z"
   },
   {
    "duration": 23,
    "start_time": "2021-11-18T11:55:51.865Z"
   },
   {
    "duration": 79,
    "start_time": "2021-11-18T11:55:51.890Z"
   },
   {
    "duration": 93,
    "start_time": "2021-11-18T11:55:51.971Z"
   },
   {
    "duration": 62,
    "start_time": "2021-11-18T11:55:52.066Z"
   },
   {
    "duration": 44,
    "start_time": "2021-11-18T11:55:52.129Z"
   },
   {
    "duration": 4,
    "start_time": "2021-11-18T11:55:52.175Z"
   },
   {
    "duration": 64,
    "start_time": "2021-11-18T11:55:52.181Z"
   },
   {
    "duration": 73,
    "start_time": "2021-11-18T11:55:52.247Z"
   },
   {
    "duration": 13,
    "start_time": "2021-11-18T11:55:52.322Z"
   },
   {
    "duration": 10,
    "start_time": "2021-11-18T11:55:52.337Z"
   },
   {
    "duration": 4,
    "start_time": "2021-11-18T11:55:52.348Z"
   },
   {
    "duration": 66,
    "start_time": "2021-11-18T11:55:52.353Z"
   },
   {
    "duration": 14,
    "start_time": "2021-11-18T11:55:52.421Z"
   },
   {
    "duration": 15,
    "start_time": "2021-11-18T11:55:52.439Z"
   },
   {
    "duration": 56,
    "start_time": "2021-11-18T11:55:52.457Z"
   },
   {
    "duration": 33,
    "start_time": "2021-11-18T11:55:52.517Z"
   },
   {
    "duration": 53,
    "start_time": "2021-11-18T11:55:52.554Z"
   },
   {
    "duration": 47,
    "start_time": "2021-11-18T11:55:52.611Z"
   },
   {
    "duration": 16,
    "start_time": "2021-11-18T11:55:52.660Z"
   },
   {
    "duration": 12,
    "start_time": "2021-11-18T11:55:52.678Z"
   },
   {
    "duration": 4,
    "start_time": "2021-11-18T11:55:52.692Z"
   },
   {
    "duration": 44,
    "start_time": "2021-11-18T11:55:52.698Z"
   },
   {
    "duration": 61,
    "start_time": "2021-11-18T11:55:52.744Z"
   },
   {
    "duration": 43,
    "start_time": "2021-11-18T11:55:52.808Z"
   },
   {
    "duration": 23,
    "start_time": "2021-11-18T11:55:52.853Z"
   },
   {
    "duration": 11,
    "start_time": "2021-11-18T11:55:52.878Z"
   },
   {
    "duration": 7,
    "start_time": "2021-11-18T11:55:52.891Z"
   },
   {
    "duration": 8,
    "start_time": "2021-11-18T11:55:52.908Z"
   },
   {
    "duration": 8,
    "start_time": "2021-11-18T11:55:52.918Z"
   },
   {
    "duration": 13,
    "start_time": "2021-11-18T11:57:23.390Z"
   },
   {
    "duration": 13,
    "start_time": "2021-11-18T11:57:41.667Z"
   },
   {
    "duration": 335,
    "start_time": "2021-11-18T12:42:05.980Z"
   },
   {
    "duration": 5,
    "start_time": "2021-11-18T12:43:07.330Z"
   },
   {
    "duration": 4,
    "start_time": "2021-11-18T12:43:08.660Z"
   },
   {
    "duration": 9,
    "start_time": "2021-11-18T12:43:17.999Z"
   },
   {
    "duration": 5,
    "start_time": "2021-11-18T12:43:18.874Z"
   },
   {
    "duration": 545,
    "start_time": "2021-11-18T12:43:21.610Z"
   },
   {
    "duration": 557,
    "start_time": "2021-11-18T12:43:23.569Z"
   },
   {
    "duration": 1157,
    "start_time": "2021-11-18T14:16:43.871Z"
   },
   {
    "duration": 321,
    "start_time": "2021-11-18T14:16:45.033Z"
   },
   {
    "duration": 51,
    "start_time": "2021-11-18T14:16:45.358Z"
   },
   {
    "duration": 63,
    "start_time": "2021-11-18T14:16:45.413Z"
   },
   {
    "duration": 8,
    "start_time": "2021-11-18T14:16:45.479Z"
   },
   {
    "duration": 6,
    "start_time": "2021-11-18T14:16:45.509Z"
   },
   {
    "duration": 14,
    "start_time": "2021-11-18T14:16:45.516Z"
   },
   {
    "duration": 25,
    "start_time": "2021-11-18T14:16:45.532Z"
   },
   {
    "duration": 76,
    "start_time": "2021-11-18T14:16:45.559Z"
   },
   {
    "duration": 23,
    "start_time": "2021-11-18T14:16:45.637Z"
   },
   {
    "duration": 82,
    "start_time": "2021-11-18T14:16:45.662Z"
   },
   {
    "duration": 77,
    "start_time": "2021-11-18T14:16:45.747Z"
   },
   {
    "duration": 54,
    "start_time": "2021-11-18T14:16:45.826Z"
   },
   {
    "duration": 58,
    "start_time": "2021-11-18T14:16:45.881Z"
   },
   {
    "duration": 18,
    "start_time": "2021-11-18T14:16:45.949Z"
   },
   {
    "duration": 63,
    "start_time": "2021-11-18T14:16:45.984Z"
   },
   {
    "duration": 118,
    "start_time": "2021-11-18T14:16:46.060Z"
   },
   {
    "duration": 19,
    "start_time": "2021-11-18T14:16:46.195Z"
   },
   {
    "duration": 25,
    "start_time": "2021-11-18T14:16:46.216Z"
   },
   {
    "duration": 10,
    "start_time": "2021-11-18T14:16:46.244Z"
   },
   {
    "duration": 61,
    "start_time": "2021-11-18T14:16:46.256Z"
   },
   {
    "duration": 33,
    "start_time": "2021-11-18T14:16:46.320Z"
   },
   {
    "duration": 39,
    "start_time": "2021-11-18T14:16:46.358Z"
   },
   {
    "duration": 33,
    "start_time": "2021-11-18T14:16:46.400Z"
   },
   {
    "duration": 37,
    "start_time": "2021-11-18T14:16:46.436Z"
   },
   {
    "duration": 34,
    "start_time": "2021-11-18T14:16:46.476Z"
   },
   {
    "duration": 20,
    "start_time": "2021-11-18T14:16:46.513Z"
   },
   {
    "duration": 33,
    "start_time": "2021-11-18T14:16:46.536Z"
   },
   {
    "duration": 15,
    "start_time": "2021-11-18T14:16:46.572Z"
   },
   {
    "duration": 4,
    "start_time": "2021-11-18T14:16:46.589Z"
   },
   {
    "duration": 27,
    "start_time": "2021-11-18T14:16:46.595Z"
   },
   {
    "duration": 21,
    "start_time": "2021-11-18T14:16:46.624Z"
   },
   {
    "duration": 22,
    "start_time": "2021-11-18T14:16:46.646Z"
   },
   {
    "duration": 66,
    "start_time": "2021-11-18T14:16:46.670Z"
   },
   {
    "duration": 20,
    "start_time": "2021-11-18T14:16:46.740Z"
   },
   {
    "duration": 9,
    "start_time": "2021-11-18T14:16:46.763Z"
   },
   {
    "duration": 34,
    "start_time": "2021-11-18T14:16:46.775Z"
   },
   {
    "duration": 8,
    "start_time": "2021-11-18T14:16:46.812Z"
   },
   {
    "duration": 733,
    "start_time": "2021-11-19T09:13:04.629Z"
   },
   {
    "duration": 289,
    "start_time": "2021-11-19T09:13:05.365Z"
   },
   {
    "duration": 26,
    "start_time": "2021-11-19T09:13:05.657Z"
   },
   {
    "duration": 34,
    "start_time": "2021-11-19T09:13:05.700Z"
   },
   {
    "duration": 6,
    "start_time": "2021-11-19T09:13:05.736Z"
   },
   {
    "duration": 4,
    "start_time": "2021-11-19T09:13:05.744Z"
   },
   {
    "duration": 12,
    "start_time": "2021-11-19T09:13:05.751Z"
   },
   {
    "duration": 57,
    "start_time": "2021-11-19T09:13:05.767Z"
   },
   {
    "duration": 38,
    "start_time": "2021-11-19T09:13:05.827Z"
   },
   {
    "duration": 55,
    "start_time": "2021-11-19T09:13:05.868Z"
   },
   {
    "duration": 111,
    "start_time": "2021-11-19T09:13:05.926Z"
   },
   {
    "duration": 112,
    "start_time": "2021-11-19T09:13:06.040Z"
   },
   {
    "duration": 88,
    "start_time": "2021-11-19T09:13:06.154Z"
   },
   {
    "duration": 68,
    "start_time": "2021-11-19T09:13:06.245Z"
   },
   {
    "duration": 4,
    "start_time": "2021-11-19T09:13:06.315Z"
   },
   {
    "duration": 32,
    "start_time": "2021-11-19T09:13:06.322Z"
   },
   {
    "duration": 109,
    "start_time": "2021-11-19T09:13:06.356Z"
   },
   {
    "duration": 14,
    "start_time": "2021-11-19T09:13:06.467Z"
   },
   {
    "duration": 26,
    "start_time": "2021-11-19T09:13:06.484Z"
   },
   {
    "duration": 4,
    "start_time": "2021-11-19T09:13:06.513Z"
   },
   {
    "duration": 25,
    "start_time": "2021-11-19T09:13:06.520Z"
   },
   {
    "duration": 20,
    "start_time": "2021-11-19T09:13:06.548Z"
   },
   {
    "duration": 19,
    "start_time": "2021-11-19T09:13:06.603Z"
   },
   {
    "duration": 18,
    "start_time": "2021-11-19T09:13:06.625Z"
   },
   {
    "duration": 21,
    "start_time": "2021-11-19T09:13:06.645Z"
   },
   {
    "duration": 19,
    "start_time": "2021-11-19T09:13:06.701Z"
   },
   {
    "duration": 12,
    "start_time": "2021-11-19T09:13:06.722Z"
   },
   {
    "duration": 19,
    "start_time": "2021-11-19T09:13:06.736Z"
   },
   {
    "duration": 45,
    "start_time": "2021-11-19T09:13:06.758Z"
   },
   {
    "duration": 5,
    "start_time": "2021-11-19T09:13:06.806Z"
   },
   {
    "duration": 102,
    "start_time": "2021-11-19T09:13:06.814Z"
   },
   {
    "duration": 105,
    "start_time": "2021-11-19T09:13:06.918Z"
   },
   {
    "duration": 91,
    "start_time": "2021-11-19T09:13:07.025Z"
   },
   {
    "duration": 111,
    "start_time": "2021-11-19T09:13:07.118Z"
   },
   {
    "duration": 15,
    "start_time": "2021-11-19T09:13:07.232Z"
   },
   {
    "duration": 7,
    "start_time": "2021-11-19T09:13:07.250Z"
   },
   {
    "duration": 9,
    "start_time": "2021-11-19T09:13:07.260Z"
   },
   {
    "duration": 6,
    "start_time": "2021-11-19T09:13:07.300Z"
   },
   {
    "duration": 618,
    "start_time": "2021-11-19T13:28:32.887Z"
   },
   {
    "duration": 152,
    "start_time": "2021-11-19T13:28:33.508Z"
   },
   {
    "duration": 17,
    "start_time": "2021-11-19T13:28:33.665Z"
   },
   {
    "duration": 45,
    "start_time": "2021-11-19T13:28:33.683Z"
   },
   {
    "duration": 11,
    "start_time": "2021-11-19T13:28:33.729Z"
   },
   {
    "duration": 23,
    "start_time": "2021-11-19T13:28:33.742Z"
   },
   {
    "duration": 13,
    "start_time": "2021-11-19T13:28:33.767Z"
   },
   {
    "duration": 52,
    "start_time": "2021-11-19T13:28:33.782Z"
   },
   {
    "duration": 37,
    "start_time": "2021-11-19T13:28:33.835Z"
   },
   {
    "duration": 31,
    "start_time": "2021-11-19T13:28:33.874Z"
   },
   {
    "duration": 75,
    "start_time": "2021-11-19T13:28:33.908Z"
   },
   {
    "duration": 85,
    "start_time": "2021-11-19T13:28:33.985Z"
   },
   {
    "duration": 67,
    "start_time": "2021-11-19T13:28:34.072Z"
   },
   {
    "duration": 38,
    "start_time": "2021-11-19T13:28:34.141Z"
   },
   {
    "duration": 5,
    "start_time": "2021-11-19T13:28:34.196Z"
   },
   {
    "duration": 27,
    "start_time": "2021-11-19T13:28:34.204Z"
   },
   {
    "duration": 68,
    "start_time": "2021-11-19T13:28:34.232Z"
   },
   {
    "duration": 14,
    "start_time": "2021-11-19T13:28:34.303Z"
   },
   {
    "duration": 11,
    "start_time": "2021-11-19T13:28:34.319Z"
   },
   {
    "duration": 3,
    "start_time": "2021-11-19T13:28:34.331Z"
   },
   {
    "duration": 21,
    "start_time": "2021-11-19T13:28:34.336Z"
   },
   {
    "duration": 42,
    "start_time": "2021-11-19T13:28:34.360Z"
   },
   {
    "duration": 20,
    "start_time": "2021-11-19T13:28:34.405Z"
   },
   {
    "duration": 18,
    "start_time": "2021-11-19T13:28:34.426Z"
   },
   {
    "duration": 14,
    "start_time": "2021-11-19T13:28:34.445Z"
   },
   {
    "duration": 46,
    "start_time": "2021-11-19T13:28:34.461Z"
   },
   {
    "duration": 11,
    "start_time": "2021-11-19T13:28:34.509Z"
   },
   {
    "duration": 13,
    "start_time": "2021-11-19T13:28:34.522Z"
   },
   {
    "duration": 9,
    "start_time": "2021-11-19T13:28:34.536Z"
   },
   {
    "duration": 4,
    "start_time": "2021-11-19T13:28:34.546Z"
   },
   {
    "duration": 93,
    "start_time": "2021-11-19T13:28:34.551Z"
   },
   {
    "duration": 78,
    "start_time": "2021-11-19T13:28:34.645Z"
   },
   {
    "duration": 48,
    "start_time": "2021-11-19T13:28:34.724Z"
   },
   {
    "duration": 89,
    "start_time": "2021-11-19T13:28:34.774Z"
   },
   {
    "duration": 7,
    "start_time": "2021-11-19T13:28:34.865Z"
   },
   {
    "duration": 5,
    "start_time": "2021-11-19T13:28:34.874Z"
   },
   {
    "duration": 22,
    "start_time": "2021-11-19T13:28:34.880Z"
   },
   {
    "duration": 6,
    "start_time": "2021-11-19T13:28:34.904Z"
   },
   {
    "duration": 958,
    "start_time": "2021-11-19T14:49:54.666Z"
   },
   {
    "duration": 198,
    "start_time": "2021-11-19T14:49:55.627Z"
   },
   {
    "duration": 26,
    "start_time": "2021-11-19T14:49:55.828Z"
   },
   {
    "duration": 69,
    "start_time": "2021-11-19T14:49:55.857Z"
   },
   {
    "duration": 6,
    "start_time": "2021-11-19T14:49:55.928Z"
   },
   {
    "duration": 8,
    "start_time": "2021-11-19T14:49:55.936Z"
   },
   {
    "duration": 12,
    "start_time": "2021-11-19T14:49:55.946Z"
   },
   {
    "duration": 41,
    "start_time": "2021-11-19T14:49:55.984Z"
   },
   {
    "duration": 73,
    "start_time": "2021-11-19T14:49:56.029Z"
   },
   {
    "duration": 30,
    "start_time": "2021-11-19T14:49:56.105Z"
   },
   {
    "duration": 116,
    "start_time": "2021-11-19T14:49:56.137Z"
   },
   {
    "duration": 120,
    "start_time": "2021-11-19T14:49:56.255Z"
   },
   {
    "duration": 85,
    "start_time": "2021-11-19T14:49:56.378Z"
   },
   {
    "duration": 77,
    "start_time": "2021-11-19T14:49:56.482Z"
   },
   {
    "duration": 22,
    "start_time": "2021-11-19T14:49:56.562Z"
   },
   {
    "duration": 36,
    "start_time": "2021-11-19T14:49:56.588Z"
   },
   {
    "duration": 117,
    "start_time": "2021-11-19T14:49:56.627Z"
   },
   {
    "duration": 17,
    "start_time": "2021-11-19T14:49:56.747Z"
   },
   {
    "duration": 19,
    "start_time": "2021-11-19T14:49:56.783Z"
   },
   {
    "duration": 6,
    "start_time": "2021-11-19T14:49:56.805Z"
   },
   {
    "duration": 21,
    "start_time": "2021-11-19T14:49:56.815Z"
   },
   {
    "duration": 68,
    "start_time": "2021-11-19T14:49:56.839Z"
   },
   {
    "duration": 19,
    "start_time": "2021-11-19T14:49:56.913Z"
   },
   {
    "duration": 52,
    "start_time": "2021-11-19T14:49:56.936Z"
   },
   {
    "duration": 29,
    "start_time": "2021-11-19T14:49:56.992Z"
   },
   {
    "duration": 21,
    "start_time": "2021-11-19T14:49:57.023Z"
   },
   {
    "duration": 48,
    "start_time": "2021-11-19T14:49:57.048Z"
   },
   {
    "duration": 18,
    "start_time": "2021-11-19T14:49:57.102Z"
   },
   {
    "duration": 13,
    "start_time": "2021-11-19T14:49:57.122Z"
   },
   {
    "duration": 7,
    "start_time": "2021-11-19T14:49:57.137Z"
   },
   {
    "duration": 41,
    "start_time": "2021-11-19T14:49:57.185Z"
   },
   {
    "duration": 18,
    "start_time": "2021-11-19T14:49:57.229Z"
   },
   {
    "duration": 65,
    "start_time": "2021-11-19T14:49:57.249Z"
   },
   {
    "duration": 20,
    "start_time": "2021-11-19T14:49:57.317Z"
   },
   {
    "duration": 48,
    "start_time": "2021-11-19T14:49:57.340Z"
   },
   {
    "duration": 9,
    "start_time": "2021-11-19T14:49:57.390Z"
   },
   {
    "duration": 12,
    "start_time": "2021-11-19T14:49:57.404Z"
   },
   {
    "duration": 12,
    "start_time": "2021-11-19T14:49:57.419Z"
   },
   {
    "duration": 810,
    "start_time": "2021-11-19T14:50:30.425Z"
   },
   {
    "duration": 214,
    "start_time": "2021-11-19T14:50:31.238Z"
   },
   {
    "duration": 35,
    "start_time": "2021-11-19T14:50:31.456Z"
   },
   {
    "duration": 38,
    "start_time": "2021-11-19T14:50:31.495Z"
   },
   {
    "duration": 10,
    "start_time": "2021-11-19T14:50:31.537Z"
   },
   {
    "duration": 38,
    "start_time": "2021-11-19T14:50:31.550Z"
   },
   {
    "duration": 11,
    "start_time": "2021-11-19T14:50:31.591Z"
   },
   {
    "duration": 37,
    "start_time": "2021-11-19T14:50:31.606Z"
   },
   {
    "duration": 72,
    "start_time": "2021-11-19T14:50:31.647Z"
   },
   {
    "duration": 31,
    "start_time": "2021-11-19T14:50:31.721Z"
   },
   {
    "duration": 152,
    "start_time": "2021-11-19T14:50:31.755Z"
   },
   {
    "duration": 190,
    "start_time": "2021-11-19T14:50:31.911Z"
   },
   {
    "duration": 90,
    "start_time": "2021-11-19T14:50:32.103Z"
   },
   {
    "duration": 93,
    "start_time": "2021-11-19T14:50:32.196Z"
   },
   {
    "duration": 6,
    "start_time": "2021-11-19T14:50:32.292Z"
   },
   {
    "duration": 38,
    "start_time": "2021-11-19T14:50:32.301Z"
   },
   {
    "duration": 94,
    "start_time": "2021-11-19T14:50:32.342Z"
   },
   {
    "duration": 22,
    "start_time": "2021-11-19T14:50:32.439Z"
   },
   {
    "duration": 19,
    "start_time": "2021-11-19T14:50:32.463Z"
   },
   {
    "duration": 6,
    "start_time": "2021-11-19T14:50:32.486Z"
   },
   {
    "duration": 38,
    "start_time": "2021-11-19T14:50:32.496Z"
   },
   {
    "duration": 32,
    "start_time": "2021-11-19T14:50:32.538Z"
   },
   {
    "duration": 33,
    "start_time": "2021-11-19T14:50:32.579Z"
   },
   {
    "duration": 29,
    "start_time": "2021-11-19T14:50:32.616Z"
   },
   {
    "duration": 46,
    "start_time": "2021-11-19T14:50:32.648Z"
   },
   {
    "duration": 29,
    "start_time": "2021-11-19T14:50:32.698Z"
   },
   {
    "duration": 14,
    "start_time": "2021-11-19T14:50:32.729Z"
   },
   {
    "duration": 19,
    "start_time": "2021-11-19T14:50:32.746Z"
   },
   {
    "duration": 22,
    "start_time": "2021-11-19T14:50:32.768Z"
   },
   {
    "duration": 7,
    "start_time": "2021-11-19T14:50:32.794Z"
   },
   {
    "duration": 39,
    "start_time": "2021-11-19T14:50:32.804Z"
   },
   {
    "duration": 18,
    "start_time": "2021-11-19T14:50:32.846Z"
   },
   {
    "duration": 33,
    "start_time": "2021-11-19T14:50:32.867Z"
   },
   {
    "duration": 25,
    "start_time": "2021-11-19T14:50:32.903Z"
   },
   {
    "duration": 16,
    "start_time": "2021-11-19T14:50:32.931Z"
   },
   {
    "duration": 8,
    "start_time": "2021-11-19T14:50:32.950Z"
   },
   {
    "duration": 22,
    "start_time": "2021-11-19T14:50:32.961Z"
   },
   {
    "duration": 9,
    "start_time": "2021-11-19T14:50:32.987Z"
   }
  ],
  "colab": {
   "collapsed_sections": [
    "E0vqbgi9ay0H",
    "VUC88oWjTJw2"
   ],
   "name": "yandex_music_project_2021.2.ipynb",
   "provenance": []
  },
  "kernelspec": {
   "display_name": "Python 3",
   "language": "python",
   "name": "python3"
  },
  "language_info": {
   "codemirror_mode": {
    "name": "ipython",
    "version": 3
   },
   "file_extension": ".py",
   "mimetype": "text/x-python",
   "name": "python",
   "nbconvert_exporter": "python",
   "pygments_lexer": "ipython3",
   "version": "3.7.8"
  },
  "toc": {
   "base_numbering": 1,
   "nav_menu": {},
   "number_sections": true,
   "sideBar": true,
   "skip_h1_title": true,
   "title_cell": "Table of Contents",
   "title_sidebar": "Contents",
   "toc_cell": false,
   "toc_position": {
    "height": "calc(100% - 180px)",
    "left": "10px",
    "top": "150px",
    "width": "165px"
   },
   "toc_section_display": true,
   "toc_window_display": true
  }
 },
 "nbformat": 4,
 "nbformat_minor": 1
}
